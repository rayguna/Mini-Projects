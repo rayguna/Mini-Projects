{
 "cells": [
  {
   "cell_type": "markdown",
   "metadata": {},
   "source": [
    "# Hospital Readmissions Data Analysis and Recommendations for Reduction\n",
    "\n",
    "### Appendix A. Wilcoxon test for the red region"
   ]
  },
  {
   "cell_type": "code",
   "execution_count": 68,
   "metadata": {
    "scrolled": true
   },
   "outputs": [
    {
     "data": {
      "text/html": [
       "<table>\n",
       "<thead><tr><th scope=col>Hospital.Name</th><th scope=col>Provider.Number</th><th scope=col>State</th><th scope=col>Measure.Name</th><th scope=col>Number.of.Discharges</th><th scope=col>Footnote</th><th scope=col>Excess.Readmission.Ratio</th><th scope=col>Predicted.Readmission.Rate</th><th scope=col>Expected.Readmission.Rate</th><th scope=col>Number.of.Readmissions</th><th scope=col>Start.Date</th><th scope=col>End.Date</th></tr></thead>\n",
       "<tbody>\n",
       "\t<tr><td>FROEDTERT MEMORIAL LUTHERAN HOSPITAL</td><td>520177                              </td><td>WI                                  </td><td>READM-30-HIP-KNEE-HRRP              </td><td>242                                 </td><td>NA                                  </td><td>1.9095                              </td><td>10.8                                </td><td>5.6                                 </td><td>38                                  </td><td>07/01/2010                          </td><td>06/30/2013                          </td></tr>\n",
       "\t<tr><td>PROVIDENCE HOSPITAL                 </td><td> 90006                              </td><td>DC                                  </td><td>READM-30-HIP-KNEE-HRRP              </td><td>247                                 </td><td>NA                                  </td><td>1.7521                              </td><td> 9.2                                </td><td>5.3                                 </td><td>33                                  </td><td>07/01/2010                          </td><td>06/30/2013                          </td></tr>\n",
       "\t<tr><td>BEAUFORT COUNTY MEMORIAL HOSPITAL   </td><td>420067                              </td><td>SC                                  </td><td>READM-30-HIP-KNEE-HRRP              </td><td>586                                 </td><td>NA                                  </td><td>1.5836                              </td><td> 7.6                                </td><td>4.8                                 </td><td>53                                  </td><td>07/01/2010                          </td><td>06/30/2013                          </td></tr>\n",
       "</tbody>\n",
       "</table>\n"
      ],
      "text/latex": [
       "\\begin{tabular}{r|llllllllllll}\n",
       " Hospital.Name & Provider.Number & State & Measure.Name & Number.of.Discharges & Footnote & Excess.Readmission.Ratio & Predicted.Readmission.Rate & Expected.Readmission.Rate & Number.of.Readmissions & Start.Date & End.Date\\\\\n",
       "\\hline\n",
       "\t FROEDTERT MEMORIAL LUTHERAN HOSPITAL & 520177                               & WI                                   & READM-30-HIP-KNEE-HRRP               & 242                                  & NA                                   & 1.9095                               & 10.8                                 & 5.6                                  & 38                                   & 07/01/2010                           & 06/30/2013                          \\\\\n",
       "\t PROVIDENCE HOSPITAL                  &  90006                               & DC                                   & READM-30-HIP-KNEE-HRRP               & 247                                  & NA                                   & 1.7521                               &  9.2                                 & 5.3                                  & 33                                   & 07/01/2010                           & 06/30/2013                          \\\\\n",
       "\t BEAUFORT COUNTY MEMORIAL HOSPITAL    & 420067                               & SC                                   & READM-30-HIP-KNEE-HRRP               & 586                                  & NA                                   & 1.5836                               &  7.6                                 & 4.8                                  & 53                                   & 07/01/2010                           & 06/30/2013                          \\\\\n",
       "\\end{tabular}\n"
      ],
      "text/markdown": [
       "\n",
       "Hospital.Name | Provider.Number | State | Measure.Name | Number.of.Discharges | Footnote | Excess.Readmission.Ratio | Predicted.Readmission.Rate | Expected.Readmission.Rate | Number.of.Readmissions | Start.Date | End.Date | \n",
       "|---|---|---|\n",
       "| FROEDTERT MEMORIAL LUTHERAN HOSPITAL | 520177                               | WI                                   | READM-30-HIP-KNEE-HRRP               | 242                                  | NA                                   | 1.9095                               | 10.8                                 | 5.6                                  | 38                                   | 07/01/2010                           | 06/30/2013                           | \n",
       "| PROVIDENCE HOSPITAL                  |  90006                               | DC                                   | READM-30-HIP-KNEE-HRRP               | 247                                  | NA                                   | 1.7521                               |  9.2                                 | 5.3                                  | 33                                   | 07/01/2010                           | 06/30/2013                           | \n",
       "| BEAUFORT COUNTY MEMORIAL HOSPITAL    | 420067                               | SC                                   | READM-30-HIP-KNEE-HRRP               | 586                                  | NA                                   | 1.5836                               |  7.6                                 | 4.8                                  | 53                                   | 07/01/2010                           | 06/30/2013                           | \n",
       "\n",
       "\n"
      ],
      "text/plain": [
       "  Hospital.Name                        Provider.Number State\n",
       "1 FROEDTERT MEMORIAL LUTHERAN HOSPITAL 520177          WI   \n",
       "2 PROVIDENCE HOSPITAL                   90006          DC   \n",
       "3 BEAUFORT COUNTY MEMORIAL HOSPITAL    420067          SC   \n",
       "  Measure.Name           Number.of.Discharges Footnote Excess.Readmission.Ratio\n",
       "1 READM-30-HIP-KNEE-HRRP 242                  NA       1.9095                  \n",
       "2 READM-30-HIP-KNEE-HRRP 247                  NA       1.7521                  \n",
       "3 READM-30-HIP-KNEE-HRRP 586                  NA       1.5836                  \n",
       "  Predicted.Readmission.Rate Expected.Readmission.Rate Number.of.Readmissions\n",
       "1 10.8                       5.6                       38                    \n",
       "2  9.2                       5.3                       33                    \n",
       "3  7.6                       4.8                       53                    \n",
       "  Start.Date End.Date  \n",
       "1 07/01/2010 06/30/2013\n",
       "2 07/01/2010 06/30/2013\n",
       "3 07/01/2010 06/30/2013"
      ]
     },
     "metadata": {},
     "output_type": "display_data"
    }
   ],
   "source": [
    "#read csv\n",
    "df<-read.csv('data/cms_hospital_readmissions.csv')\n",
    "head(df,3)"
   ]
  },
  {
   "cell_type": "code",
   "execution_count": 69,
   "metadata": {},
   "outputs": [
    {
     "data": {
      "text/html": [
       "<ol class=list-inline>\n",
       "\t<li>1.3104</li>\n",
       "\t<li>1.3099</li>\n",
       "\t<li>1.3058</li>\n",
       "</ol>\n"
      ],
      "text/latex": [
       "\\begin{enumerate*}\n",
       "\\item 1.3104\n",
       "\\item 1.3099\n",
       "\\item 1.3058\n",
       "\\end{enumerate*}\n"
      ],
      "text/markdown": [
       "1. 1.3104\n",
       "2. 1.3099\n",
       "3. 1.3058\n",
       "\n",
       "\n"
      ],
      "text/plain": [
       "[1] 1.3104 1.3099 1.3058"
      ]
     },
     "metadata": {},
     "output_type": "display_data"
    }
   ],
   "source": [
    "df_y<-df$Excess.Readmission.Ratio[81:16857] #set column\n",
    "head(df_y,3)"
   ]
  },
  {
   "cell_type": "code",
   "execution_count": 70,
   "metadata": {},
   "outputs": [
    {
     "data": {
      "text/html": [
       "<ol class=list-inline>\n",
       "\t<li>1.3104</li>\n",
       "\t<li>1.3099</li>\n",
       "\t<li>1.3058</li>\n",
       "\t<li>1.3038</li>\n",
       "\t<li>1.302</li>\n",
       "\t<li>1.3012</li>\n",
       "\t<li>1.3008</li>\n",
       "\t<li>1.2999</li>\n",
       "\t<li>1.2987</li>\n",
       "\t<li>1.2971</li>\n",
       "\t<li>1.2963</li>\n",
       "\t<li>1.2949</li>\n",
       "\t<li>1.2941</li>\n",
       "\t<li>1.2939</li>\n",
       "\t<li>1.2915</li>\n",
       "\t<li>1.2909</li>\n",
       "\t<li>1.2871</li>\n",
       "\t<li>1.2865</li>\n",
       "\t<li>1.2863</li>\n",
       "\t<li>1.2858</li>\n",
       "</ol>\n"
      ],
      "text/latex": [
       "\\begin{enumerate*}\n",
       "\\item 1.3104\n",
       "\\item 1.3099\n",
       "\\item 1.3058\n",
       "\\item 1.3038\n",
       "\\item 1.302\n",
       "\\item 1.3012\n",
       "\\item 1.3008\n",
       "\\item 1.2999\n",
       "\\item 1.2987\n",
       "\\item 1.2971\n",
       "\\item 1.2963\n",
       "\\item 1.2949\n",
       "\\item 1.2941\n",
       "\\item 1.2939\n",
       "\\item 1.2915\n",
       "\\item 1.2909\n",
       "\\item 1.2871\n",
       "\\item 1.2865\n",
       "\\item 1.2863\n",
       "\\item 1.2858\n",
       "\\end{enumerate*}\n"
      ],
      "text/markdown": [
       "1. 1.3104\n",
       "2. 1.3099\n",
       "3. 1.3058\n",
       "4. 1.3038\n",
       "5. 1.302\n",
       "6. 1.3012\n",
       "7. 1.3008\n",
       "8. 1.2999\n",
       "9. 1.2987\n",
       "10. 1.2971\n",
       "11. 1.2963\n",
       "12. 1.2949\n",
       "13. 1.2941\n",
       "14. 1.2939\n",
       "15. 1.2915\n",
       "16. 1.2909\n",
       "17. 1.2871\n",
       "18. 1.2865\n",
       "19. 1.2863\n",
       "20. 1.2858\n",
       "\n",
       "\n"
      ],
      "text/plain": [
       " [1] 1.3104 1.3099 1.3058 1.3038 1.3020 1.3012 1.3008 1.2999 1.2987 1.2971\n",
       "[11] 1.2963 1.2949 1.2941 1.2939 1.2915 1.2909 1.2871 1.2865 1.2863 1.2858"
      ]
     },
     "metadata": {},
     "output_type": "display_data"
    }
   ],
   "source": [
    "df_y_red<-df_y[(df_y>=1.15)&(df_y<=2)] #prepare data\n",
    "head(df_y_red,20)"
   ]
  },
  {
   "cell_type": "code",
   "execution_count": 71,
   "metadata": {},
   "outputs": [
    {
     "data": {
      "text/plain": [
       "\n",
       "\tWilcoxon signed rank test with continuity correction\n",
       "\n",
       "data:  df_y_red\n",
       "V = 187580, p-value < 2.2e-16\n",
       "alternative hypothesis: true location is greater than 1\n"
      ]
     },
     "metadata": {},
     "output_type": "display_data"
    }
   ],
   "source": [
    "#perform Wilcoxon one sample test\n",
    "wilcox.test(df_y_red,mu=1.0, alternative=\"greater\")"
   ]
  },
  {
   "cell_type": "markdown",
   "metadata": {},
   "source": [
    "- At alpha=0.01, the Wilcoxon test rejects the null hypothesis (i.e., the median of the sample is greater than 1.0)"
   ]
  },
  {
   "cell_type": "code",
   "execution_count": 72,
   "metadata": {},
   "outputs": [
    {
     "data": {
      "text/plain": [
       "\n",
       "\tWilcoxon signed rank test with continuity correction\n",
       "\n",
       "data:  df_y_red\n",
       "V = 187580, p-value < 2.2e-16\n",
       "alternative hypothesis: true location is not equal to 1\n"
      ]
     },
     "metadata": {},
     "output_type": "display_data"
    }
   ],
   "source": [
    "wilcox.test(df_y_red,mu=1.0)"
   ]
  },
  {
   "cell_type": "markdown",
   "metadata": {},
   "source": [
    "### Appendix B. Wilcoxon test for the green region"
   ]
  },
  {
   "cell_type": "code",
   "execution_count": 73,
   "metadata": {},
   "outputs": [
    {
     "data": {
      "text/html": [
       "<ol class=list-inline>\n",
       "\t<li>0.95</li>\n",
       "\t<li>0.95</li>\n",
       "\t<li>0.95</li>\n",
       "</ol>\n"
      ],
      "text/latex": [
       "\\begin{enumerate*}\n",
       "\\item 0.95\n",
       "\\item 0.95\n",
       "\\item 0.95\n",
       "\\end{enumerate*}\n"
      ],
      "text/markdown": [
       "1. 0.95\n",
       "2. 0.95\n",
       "3. 0.95\n",
       "\n",
       "\n"
      ],
      "text/plain": [
       "[1] 0.95 0.95 0.95"
      ]
     },
     "metadata": {},
     "output_type": "display_data"
    }
   ],
   "source": [
    "df_y_green<-df_y[(df_y>=0.5)&(df_y<=0.95)] #prepare data\n",
    "head(df_y_green,3) #check"
   ]
  },
  {
   "cell_type": "code",
   "execution_count": 74,
   "metadata": {},
   "outputs": [
    {
     "data": {
      "text/plain": [
       "\n",
       "\tWilcoxon signed rank test with continuity correction\n",
       "\n",
       "data:  df_y_green\n",
       "V = 0, p-value < 2.2e-16\n",
       "alternative hypothesis: true location is less than 1\n"
      ]
     },
     "metadata": {},
     "output_type": "display_data"
    }
   ],
   "source": [
    "#perform Wilcoxon one sample test\n",
    "wilcox.test(df_y_green,mu=1.0, alternative=\"less\")"
   ]
  },
  {
   "cell_type": "markdown",
   "metadata": {},
   "source": [
    "- Atalpha=0.01, the Wilcoxon test rejects the null hypothesis (i.e., the median of the sample is less than 1.0)"
   ]
  },
  {
   "cell_type": "markdown",
   "metadata": {},
   "source": [
    "### Appendix C. Compare the medians between the two independent distributions"
   ]
  },
  {
   "cell_type": "code",
   "execution_count": 75,
   "metadata": {},
   "outputs": [
    {
     "data": {
      "text/plain": [
       "\n",
       "\tWilcoxon rank sum test with continuity correction\n",
       "\n",
       "data:  df_y_red and df_y_green\n",
       "W = 2121200, p-value < 2.2e-16\n",
       "alternative hypothesis: true location shift is not equal to 0\n"
      ]
     },
     "metadata": {},
     "output_type": "display_data"
    }
   ],
   "source": [
    "wilcox.test(df_y_red,df_y_green,alternative=\"two.sided\")"
   ]
  },
  {
   "cell_type": "markdown",
   "metadata": {},
   "source": [
    "- At alpha=0.01, the Wilcoxon test concludes that the medians of the two distributions are not equal."
   ]
  },
  {
   "cell_type": "markdown",
   "metadata": {},
   "source": [
    "### Appendix D. Wilcoxon test to compare the means for number of discharges less than 100"
   ]
  },
  {
   "cell_type": "code",
   "execution_count": 106,
   "metadata": {},
   "outputs": [
    {
     "data": {
      "text/html": [
       "<table>\n",
       "<thead><tr><th scope=col>x</th><th scope=col>y</th></tr></thead>\n",
       "<tbody>\n",
       "\t<tr><td>25    </td><td>1.0914</td></tr>\n",
       "\t<tr><td>27    </td><td>1.0961</td></tr>\n",
       "\t<tr><td>28    </td><td>1.0934</td></tr>\n",
       "</tbody>\n",
       "</table>\n"
      ],
      "text/latex": [
       "\\begin{tabular}{r|ll}\n",
       " x & y\\\\\n",
       "\\hline\n",
       "\t 25     & 1.0914\\\\\n",
       "\t 27     & 1.0961\\\\\n",
       "\t 28     & 1.0934\\\\\n",
       "\\end{tabular}\n"
      ],
      "text/markdown": [
       "\n",
       "x | y | \n",
       "|---|---|---|\n",
       "| 25     | 1.0914 | \n",
       "| 27     | 1.0961 | \n",
       "| 28     | 1.0934 | \n",
       "\n",
       "\n"
      ],
      "text/plain": [
       "  x  y     \n",
       "1 25 1.0914\n",
       "2 27 1.0961\n",
       "3 28 1.0934"
      ]
     },
     "metadata": {},
     "output_type": "display_data"
    },
    {
     "data": {
      "text/plain": [
       "\n",
       "\tWilcoxon signed rank test with continuity correction\n",
       "\n",
       "data:  df_xy_lt_100$y\n",
       "V = 319960, p-value = 0.005823\n",
       "alternative hypothesis: true location is not equal to 1.023\n"
      ]
     },
     "metadata": {},
     "output_type": "display_data"
    }
   ],
   "source": [
    "df_xy_lt_100<-read.csv('data/df_xy_lt_100.csv') #load data for hospitals with number of disharges <100\n",
    "head(df_xy_lt_100,3) #check\n",
    "\n",
    "#perform a Wilcoxon test\n",
    "wilcox.test(df_xy_lt_100$y,mu=1.023,alternative=\"two.sided\",conf.level=0.99)"
   ]
  },
  {
   "cell_type": "markdown",
   "metadata": {},
   "source": [
    "- At alpha=0.01, the Wilcoxon test rejects the null hypothesis (i.e., the excess readmission rate is not equal to 1.023)."
   ]
  },
  {
   "cell_type": "markdown",
   "metadata": {},
   "source": [
    "### Appendix E. Wilcoxon test to compare the means for number of discharges greater than 1000"
   ]
  },
  {
   "cell_type": "code",
   "execution_count": 107,
   "metadata": {},
   "outputs": [
    {
     "data": {
      "text/html": [
       "<table>\n",
       "<thead><tr><th scope=col>x</th><th scope=col>y</th></tr></thead>\n",
       "<tbody>\n",
       "\t<tr><td>1002  </td><td>0.9192</td></tr>\n",
       "\t<tr><td>1004  </td><td>1.1405</td></tr>\n",
       "\t<tr><td>1007  </td><td>1.0760</td></tr>\n",
       "</tbody>\n",
       "</table>\n"
      ],
      "text/latex": [
       "\\begin{tabular}{r|ll}\n",
       " x & y\\\\\n",
       "\\hline\n",
       "\t 1002   & 0.9192\\\\\n",
       "\t 1004   & 1.1405\\\\\n",
       "\t 1007   & 1.0760\\\\\n",
       "\\end{tabular}\n"
      ],
      "text/markdown": [
       "\n",
       "x | y | \n",
       "|---|---|---|\n",
       "| 1002   | 0.9192 | \n",
       "| 1004   | 1.1405 | \n",
       "| 1007   | 1.0760 | \n",
       "\n",
       "\n"
      ],
      "text/plain": [
       "  x    y     \n",
       "1 1002 0.9192\n",
       "2 1004 1.1405\n",
       "3 1007 1.0760"
      ]
     },
     "metadata": {},
     "output_type": "display_data"
    },
    {
     "data": {
      "text/plain": [
       "\n",
       "\tWilcoxon signed rank test with continuity correction\n",
       "\n",
       "data:  df_xy_gt_1000$y\n",
       "V = 55600, p-value = 0.3223\n",
       "alternative hypothesis: true location is not equal to 0.978\n"
      ]
     },
     "metadata": {},
     "output_type": "display_data"
    }
   ],
   "source": [
    "df_xy_gt_1000<-read.csv('data/df_xy_gt_1000.csv') #load data for hospitals with number of disharges >1000\n",
    "head(df_xy_gt_1000,3) #check\n",
    "\n",
    "#perform a Wilcoxon test\n",
    "wilcox.test(df_xy_gt_1000$y,mu=0.978,alternative=\"two.sided\")"
   ]
  },
  {
   "cell_type": "markdown",
   "metadata": {},
   "source": [
    "- At alpha=0.01, the Wilcoxon test fails to reject the null hypothesis (i.e., the excess readmission rate is equal to 0.978)."
   ]
  },
  {
   "cell_type": "markdown",
   "metadata": {},
   "source": [
    "### Appendix F. Wilcoxon test to compare the means for number of discharges less than 300"
   ]
  },
  {
   "cell_type": "code",
   "execution_count": 111,
   "metadata": {},
   "outputs": [
    {
     "data": {
      "text/html": [
       "<table>\n",
       "<thead><tr><th scope=col>x</th><th scope=col>y</th></tr></thead>\n",
       "<tbody>\n",
       "\t<tr><td>25    </td><td>1.0914</td></tr>\n",
       "\t<tr><td>27    </td><td>1.0961</td></tr>\n",
       "\t<tr><td>28    </td><td>1.0934</td></tr>\n",
       "</tbody>\n",
       "</table>\n"
      ],
      "text/latex": [
       "\\begin{tabular}{r|ll}\n",
       " x & y\\\\\n",
       "\\hline\n",
       "\t 25     & 1.0914\\\\\n",
       "\t 27     & 1.0961\\\\\n",
       "\t 28     & 1.0934\\\\\n",
       "\\end{tabular}\n"
      ],
      "text/markdown": [
       "\n",
       "x | y | \n",
       "|---|---|---|\n",
       "| 25     | 1.0914 | \n",
       "| 27     | 1.0961 | \n",
       "| 28     | 1.0934 | \n",
       "\n",
       "\n"
      ],
      "text/plain": [
       "  x  y     \n",
       "1 25 1.0914\n",
       "2 27 1.0961\n",
       "3 28 1.0934"
      ]
     },
     "metadata": {},
     "output_type": "display_data"
    },
    {
     "data": {
      "text/plain": [
       "\n",
       "\tWilcoxon signed rank test with continuity correction\n",
       "\n",
       "data:  df_xy_gt_1000$y\n",
       "V = 43847, p-value = 0.9993\n",
       "alternative hypothesis: true location is greater than 1\n"
      ]
     },
     "metadata": {},
     "output_type": "display_data"
    }
   ],
   "source": [
    "df_xy_lt_300<-read.csv('data/df_xy_lt_300.csv') #load data for hospitals with number of disharges <300\n",
    "\n",
    "head(df_xy_lt_300,3) #check\n",
    "\n",
    "#perform a Wilcoxon test\n",
    "wilcox.test(df_xy_gt_1000$y,mu=1,alternative=\"greater\")"
   ]
  },
  {
   "cell_type": "markdown",
   "metadata": {},
   "source": [
    "- At alpha=0.01, the Wilcoxon test rejects the null hypothesis (i.e., the excess readmission rate is greater than 1)."
   ]
  }
 ],
 "metadata": {
  "kernelspec": {
   "display_name": "R",
   "language": "R",
   "name": "ir"
  },
  "language_info": {
   "codemirror_mode": "r",
   "file_extension": ".r",
   "mimetype": "text/x-r-source",
   "name": "R",
   "pygments_lexer": "r",
   "version": "3.4.2"
  }
 },
 "nbformat": 4,
 "nbformat_minor": 2
}
