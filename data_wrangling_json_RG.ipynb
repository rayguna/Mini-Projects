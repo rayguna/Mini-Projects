{
 "cells": [
  {
   "cell_type": "markdown",
   "metadata": {},
   "source": [
    "****\n",
    "## JSON exercise - Ray Gunawidjaja\n",
    "\n",
    "Using data in file 'data/world_bank_projects.json' (http://jsonstudio.com/wp-content/uploads/2014/02/world_bank.zip),\n",
    "\n",
    "1. Find the 10 countries with most projects\n",
    "2. Find the top 10 major project themes (using column 'mjtheme_namecode')\n",
    "3. In 2. above you will notice that some entries have only the code and the name is missing. Create a dataframe with the missing names filled in."
   ]
  },
  {
   "cell_type": "code",
   "execution_count": 210,
   "metadata": {
    "collapsed": true
   },
   "outputs": [],
   "source": [
    "#import statements\n",
    "import pandas as pd\n",
    "import re\n",
    "import json\n",
    "from pandas.io.json import json_normalize\n",
    "import matplotlib.pyplot as plt"
   ]
  },
  {
   "cell_type": "markdown",
   "metadata": {},
   "source": [
    "# <b> 1. Find the 10 countries with most projects </b>  "
   ]
  },
  {
   "cell_type": "code",
   "execution_count": 211,
   "metadata": {},
   "outputs": [
    {
     "data": {
      "text/plain": [
       "Index(['_id', 'approvalfy', 'board_approval_month', 'boardapprovaldate',\n",
       "       'borrower', 'closingdate', 'country_namecode', 'countrycode',\n",
       "       'countryname', 'countryshortname', 'docty', 'envassesmentcategorycode',\n",
       "       'grantamt', 'ibrdcommamt', 'id', 'idacommamt', 'impagency',\n",
       "       'lendinginstr', 'lendinginstrtype', 'lendprojectcost',\n",
       "       'majorsector_percent', 'mjsector_namecode', 'mjtheme',\n",
       "       'mjtheme_namecode', 'mjthemecode', 'prodline', 'prodlinetext',\n",
       "       'productlinetype', 'project_abstract', 'project_name', 'projectdocs',\n",
       "       'projectfinancialtype', 'projectstatusdisplay', 'regionname', 'sector',\n",
       "       'sector1', 'sector2', 'sector3', 'sector4', 'sector_namecode',\n",
       "       'sectorcode', 'source', 'status', 'supplementprojectflg', 'theme1',\n",
       "       'theme_namecode', 'themecode', 'totalamt', 'totalcommamt', 'url'],\n",
       "      dtype='object')"
      ]
     },
     "execution_count": 211,
     "metadata": {},
     "output_type": "execute_result"
    }
   ],
   "source": [
    "#convert json file into pandas DataFrame to allow inspection of column names.\n",
    "world_bank_df = pd.read_json('data/world_bank_projects.json')\n",
    "\n",
    "#(i) inspect DataFrame\n",
    "world_bank_df.head(3) #inspect contents\n",
    "\n",
    "#(ii) column names as a list\n",
    "world_bank_df.columns #inspect column names"
   ]
  },
  {
   "cell_type": "code",
   "execution_count": 212,
   "metadata": {
    "scrolled": true
   },
   "outputs": [
    {
     "name": "stdout",
     "output_type": "stream",
     "text": [
      "list of column names that contain the keyword proj:\n",
      "['countryshortname', 'lendprojectcost', 'project_abstract', 'project_name', 'projectdocs', 'projectfinancialtype', 'projectstatusdisplay', 'supplementprojectflg']\n",
      "\n",
      "\n",
      "10 countries with most projects\n"
     ]
    },
    {
     "data": {
      "text/plain": [
       "countryshortname\n",
       "China                 19\n",
       "Indonesia             19\n",
       "Vietnam               17\n",
       "India                 16\n",
       "Yemen, Republic of    13\n",
       "Nepal                 12\n",
       "Bangladesh            12\n",
       "Morocco               12\n",
       "Mozambique            11\n",
       "Africa                11\n",
       "Name: project_name, dtype: int64"
      ]
     },
     "execution_count": 212,
     "metadata": {},
     "output_type": "execute_result"
    }
   ],
   "source": [
    "#(iii) LOOK for column names that contain the keyword proj\n",
    "\n",
    "#Use regex to filter for columns that contain the keyword proj\n",
    "obj=re.compile(r'proj')\n",
    "\n",
    "#create a list variable that initially contain 'countryshortname' column names\n",
    "my_list1=['countryshortname']\n",
    "\n",
    "#extract column names that contain the keyword proj\n",
    "my_list2=[each for each in world_bank_df.columns if obj.search(each)]\n",
    "\n",
    "#combine the two lists\n",
    "my_proj_list = my_list1 + my_list2\n",
    "\n",
    "print('list of column names that contain the keyword proj:')\n",
    "print(my_proj_list) #check list\n",
    "\n",
    "#print contents of these columns in the DataFrame\n",
    "world_bank_proj_df=world_bank_df[my_proj_list]\n",
    "#world_bank_proj_df #check\n",
    "\n",
    "#group by county and sort by total number of projects\n",
    "world_bank_proj_df_grouped=world_bank_proj_df.groupby('countryshortname').count().sort_values('project_name',ascending=False)\n",
    "\n",
    "print('\\n')\n",
    "print('10 countries with most projects')\n",
    "world_bank_proj_df_grouped['project_name'].head(10) #print only the heading project_name\n"
   ]
  },
  {
   "cell_type": "code",
   "execution_count": 213,
   "metadata": {},
   "outputs": [
    {
     "name": "stdout",
     "output_type": "stream",
     "text": [
      "number of african countries: 55\n",
      "\n",
      "\n",
      "['Algeria', 'Angola', 'Benin', 'Botswana', 'Burkina Faso', 'Burundi', 'Cameroon', 'Cape Verde', 'Central African Republic', 'Chad', 'Comoros', 'Democratic Republic of the Congo', 'Republic of the Congo', 'Ivory Coast', 'Djibouti', 'Egypt', 'Equatorial Guinea', 'Eritrea', 'Ethiopia', 'Gabon', 'Gambia', 'Ghana', 'Guinea', 'Guinea-Bissau', 'Kenya', 'Lesotho', 'Liberia', 'Libya', 'Madagascar', 'Malawi', 'Mali', 'Mauritania', 'Mauritius', 'Morocco', 'Mozambique', 'Namibia', 'Niger', 'Nigeria', 'Rwanda', 'São Tomé and Príncipe', 'Senegal', 'Seychelles', 'Sierra Leone', 'Somalia', 'South Africa', 'South Sudan', 'Sudan', 'Swaziland', 'Tanzania', 'Togo', 'Tunisia', 'Uganda', 'Sahrawi Arab Democratic Republic', 'Zambia', 'Zimbabwe']"
     ]
    }
   ],
   "source": [
    "#Add validation using list of african countries\n",
    "#get a complete list of African countries.\n",
    "\n",
    "import requests\n",
    "from bs4 import BeautifulSoup  # for webscraping\n",
    "\n",
    "# Request information from wikipedia\n",
    "res = requests.get(\"https://en.wikipedia.org/wiki/List_of_African_Union_member_states_by_political_system\")\n",
    "\n",
    "# Create a BeautifulSoup class\n",
    "soup = BeautifulSoup(res.content, 'lxml')\n",
    "\n",
    "# Extract info. from a table\n",
    "table = soup.find_all(class_=\"wikitable\")[0]\n",
    "\n",
    "# Load table info. into a Pandas DataFrame\n",
    "df = pd.read_html(str(table), header=0)[0] #, index_col='Chemical class')[0]\n",
    "african_countries_list=list(df.State) #turn into a list\n",
    "#number of african countries:\n",
    "print('number of african countries:',len(african_countries_list)) #check\n",
    "print('\\n')\n",
    "print(african_countries_list, end='') #check\n"
   ]
  },
  {
   "cell_type": "code",
   "execution_count": 214,
   "metadata": {},
   "outputs": [
    {
     "name": "stdout",
     "output_type": "stream",
     "text": [
      "Total number of projects corresponding to all African countries: 145\n",
      "Total no. of african countries in world_bank_df: 38\n",
      "\n",
      "\n",
      "List of african countries in world_bank_df: ['Angola', 'Benin', 'Burkina Faso', 'Burundi', 'Cameroon', 'Cape Verde', 'Central African Republic', 'Chad', 'Comoros', 'Djibouti', 'Ethiopia', 'Ghana', 'Guinea', 'Kenya', 'Lesotho', 'Liberia', 'Madagascar', 'Malawi', 'Mali', 'Mauritania', 'Mauritius', 'Morocco', 'Mozambique', 'Namibia', 'Niger', 'Nigeria', 'Rwanda', 'Senegal', 'Seychelles', 'Sierra Leone', 'South Sudan', 'Sudan', 'Tanzania', 'Togo', 'Tunisia', 'Uganda', 'Zambia', 'Zimbabwe']\n"
     ]
    }
   ],
   "source": [
    "#total number of projects corresponding to all African countries\n",
    "print(\"Total number of projects corresponding to all African countries:\", world_bank_df[world_bank_df.countryshortname.isin(african_countries_list)].project_name.count()) \n",
    "\n",
    "#total number of African countries\n",
    "print(\"Total no. of african countries in world_bank_df:\", len(set(world_bank_df.countryshortname[world_bank_df.countryshortname.isin(african_countries_list)])))\n",
    "\n",
    "print('\\n')\n",
    "#List of african countries in world_bank_df \n",
    "print(\"List of african countries in world_bank_df:\", sorted(list(set(world_bank_df.countryshortname[world_bank_df.countryshortname.isin(african_countries_list)]))))"
   ]
  },
  {
   "cell_type": "markdown",
   "metadata": {},
   "source": [
    "Given that the total number of projects corresponding to all African countries exceed 'Africa' under the 'countryshortname' on world_bank_df (i.e., 145 versus 10), the countryshortname 'Africa' is most likely a typo.\n",
    "\n",
    "Excluding 'Africa' as the 10 countries with most projects, we have: "
   ]
  },
  {
   "cell_type": "code",
   "execution_count": 215,
   "metadata": {},
   "outputs": [
    {
     "data": {
      "text/plain": [
       "countryshortname\n",
       "China                 19\n",
       "Indonesia             19\n",
       "Vietnam               17\n",
       "India                 16\n",
       "Yemen, Republic of    13\n",
       "Nepal                 12\n",
       "Bangladesh            12\n",
       "Morocco               12\n",
       "Mozambique            11\n",
       "Pakistan               9\n",
       "Name: project_name, dtype: int64"
      ]
     },
     "execution_count": 215,
     "metadata": {},
     "output_type": "execute_result"
    }
   ],
   "source": [
    "#This time, remove Africa from world_bank_df list and re-do the ranking\n",
    "#world_bank_proj_df_grouped=world_bank_proj_df_grouped.drop(world_bank_proj_df_grouped.index['Africa'])\n",
    "\n",
    "#world_bank_proj_df_grouped=world_bank_proj_df_grouped[world_bank_proj_df_grouped.index=='Africa'].drop\n",
    "world_bank_proj_df_grouped=world_bank_proj_df_grouped.drop(['Africa'])\n",
    "\n",
    "world_bank_proj_df_grouped.project_name.head(10) #.head(10) #This is not working out!\n"
   ]
  },
  {
   "cell_type": "code",
   "execution_count": 216,
   "metadata": {},
   "outputs": [
    {
     "data": {
      "image/png": "[encoded data removed]",
      "text/plain": [
       "<matplotlib.figure.Figure at 0x23a04e20668>"
      ]
     },
     "metadata": {},
     "output_type": "display_data"
    }
   ],
   "source": [
    "#display top ten countries with most no. of projects into a pie chart \n",
    "#plt.plot(figsize=(20, 10)) \n",
    "world_bank_proj_df_grouped.head(10).plot.pie(['project_name'],figsize=(5, 5))\n",
    "plt.tight_layout()\n",
    "plt.legend(bbox_to_anchor=(1.5, 0.75))\n",
    "plt.title('Top 10 countries with the highest number of project names')\n",
    "plt.ylabel('')\n",
    "plt.show()"
   ]
  },
  {
   "cell_type": "code",
   "execution_count": 217,
   "metadata": {},
   "outputs": [
    {
     "data": {
      "text/markdown": [
       "## <span style=\"color:blue\"> Therefore, the 10 countries with most projects are:</span>"
      ],
      "text/plain": [
       "<IPython.core.display.Markdown object>"
      ]
     },
     "metadata": {},
     "output_type": "display_data"
    },
    {
     "name": "stdout",
     "output_type": "stream",
     "text": [
      "['China', 'Indonesia', 'Vietnam', 'India', 'Yemen, Republic of', 'Nepal', 'Bangladesh', 'Morocco', 'Mozambique', 'Pakistan']\n"
     ]
    }
   ],
   "source": [
    "from IPython.display import display, Markdown\n",
    "\n",
    "display(Markdown('## <span style=\"color:blue\"> Therefore, the 10 countries with most projects are:</span>')) \n",
    "print(list(world_bank_proj_df_grouped.index[:10]))"
   ]
  },
  {
   "cell_type": "markdown",
   "metadata": {},
   "source": [
    "# <b> 2. Find the top 10 major project themes (using column 'mjtheme_namecode') </b>   "
   ]
  },
  {
   "cell_type": "code",
   "execution_count": 218,
   "metadata": {},
   "outputs": [
    {
     "data": {
      "text/html": [
       "<div>\n",
       "<table border=\"1\" class=\"dataframe\">\n",
       "  <thead>\n",
       "    <tr style=\"text-align: right;\">\n",
       "      <th></th>\n",
       "      <th>code</th>\n",
       "      <th>counts</th>\n",
       "    </tr>\n",
       "  </thead>\n",
       "  <tbody>\n",
       "    <tr>\n",
       "      <th>2</th>\n",
       "      <td>11</td>\n",
       "      <td>250</td>\n",
       "    </tr>\n",
       "    <tr>\n",
       "      <th>1</th>\n",
       "      <td>10</td>\n",
       "      <td>216</td>\n",
       "    </tr>\n",
       "    <tr>\n",
       "      <th>9</th>\n",
       "      <td>8</td>\n",
       "      <td>210</td>\n",
       "    </tr>\n",
       "    <tr>\n",
       "      <th>3</th>\n",
       "      <td>2</td>\n",
       "      <td>199</td>\n",
       "    </tr>\n",
       "    <tr>\n",
       "      <th>7</th>\n",
       "      <td>6</td>\n",
       "      <td>168</td>\n",
       "    </tr>\n",
       "    <tr>\n",
       "      <th>5</th>\n",
       "      <td>4</td>\n",
       "      <td>146</td>\n",
       "    </tr>\n",
       "    <tr>\n",
       "      <th>8</th>\n",
       "      <td>7</td>\n",
       "      <td>130</td>\n",
       "    </tr>\n",
       "    <tr>\n",
       "      <th>6</th>\n",
       "      <td>5</td>\n",
       "      <td>77</td>\n",
       "    </tr>\n",
       "    <tr>\n",
       "      <th>10</th>\n",
       "      <td>9</td>\n",
       "      <td>50</td>\n",
       "    </tr>\n",
       "    <tr>\n",
       "      <th>0</th>\n",
       "      <td>1</td>\n",
       "      <td>38</td>\n",
       "    </tr>\n",
       "    <tr>\n",
       "      <th>4</th>\n",
       "      <td>3</td>\n",
       "      <td>15</td>\n",
       "    </tr>\n",
       "  </tbody>\n",
       "</table>\n",
       "</div>"
      ],
      "text/plain": [
       "    code  counts\n",
       "2     11     250\n",
       "1     10     216\n",
       "9      8     210\n",
       "3      2     199\n",
       "7      6     168\n",
       "5      4     146\n",
       "8      7     130\n",
       "6      5      77\n",
       "10     9      50\n",
       "0      1      38\n",
       "4      3      15"
      ]
     },
     "execution_count": 218,
     "metadata": {},
     "output_type": "execute_result"
    }
   ],
   "source": [
    "#Loading 'mjtheme_namecode' column reveals that it is a list of dictionary\n",
    "world_bank_df['mjtheme_namecode']\n",
    "\n",
    "#To unpack the content, we use the command json_normalize.\n",
    "#To do so, we have to first create a world_bank list\n",
    "world_bank_json=json.load((open('data/world_bank_projects.json')))\n",
    "\n",
    "#Now, let's unpack the list of dictionary\n",
    "unpacked_mjtheme_namecode=json_normalize(world_bank_json,'mjtheme_namecode')\n",
    "\n",
    "#The data type is a DataFrame\n",
    "type(unpacked_mjtheme_namecode) \n",
    "\n",
    "#Let's count the number of recurring projects\n",
    "count_project_themes=unpacked_mjtheme_namecode.groupby('code').count()\n",
    "count_project_themes.columns=['counts'] #rename column to 'counts'\n",
    "\n",
    "count_project_themes.index=count_project_themes.index.astype(int) #change data type of index to int\n",
    "#print(count_project_themes.sort_index(ascending=False)) #test\n",
    "\n",
    "count_project_themes=count_project_themes.reset_index('code') #turn code index into a column\n",
    "\n",
    "count_project_themes.sort_values('counts', ascending=False) #sort by 'counts'\n"
   ]
  },
  {
   "cell_type": "code",
   "execution_count": 219,
   "metadata": {},
   "outputs": [
    {
     "data": {
      "text/html": [
       "<div>\n",
       "<table border=\"1\" class=\"dataframe\">\n",
       "  <thead>\n",
       "    <tr style=\"text-align: right;\">\n",
       "      <th></th>\n",
       "      <th>code</th>\n",
       "      <th>name</th>\n",
       "    </tr>\n",
       "  </thead>\n",
       "  <tbody>\n",
       "    <tr>\n",
       "      <th>2</th>\n",
       "      <td>1</td>\n",
       "      <td>Economic management</td>\n",
       "    </tr>\n",
       "    <tr>\n",
       "      <th>5</th>\n",
       "      <td>2</td>\n",
       "      <td>Public sector governance</td>\n",
       "    </tr>\n",
       "    <tr>\n",
       "      <th>252</th>\n",
       "      <td>3</td>\n",
       "      <td>Rule of law</td>\n",
       "    </tr>\n",
       "    <tr>\n",
       "      <th>11</th>\n",
       "      <td>4</td>\n",
       "      <td>Financial and private sector development</td>\n",
       "    </tr>\n",
       "    <tr>\n",
       "      <th>4</th>\n",
       "      <td>5</td>\n",
       "      <td>Trade and integration</td>\n",
       "    </tr>\n",
       "    <tr>\n",
       "      <th>3</th>\n",
       "      <td>6</td>\n",
       "      <td>Social protection and risk management</td>\n",
       "    </tr>\n",
       "    <tr>\n",
       "      <th>8</th>\n",
       "      <td>7</td>\n",
       "      <td>Social dev/gender/inclusion</td>\n",
       "    </tr>\n",
       "    <tr>\n",
       "      <th>0</th>\n",
       "      <td>8</td>\n",
       "      <td>Human development</td>\n",
       "    </tr>\n",
       "    <tr>\n",
       "      <th>53</th>\n",
       "      <td>9</td>\n",
       "      <td>Urban development</td>\n",
       "    </tr>\n",
       "    <tr>\n",
       "      <th>18</th>\n",
       "      <td>10</td>\n",
       "      <td>Rural development</td>\n",
       "    </tr>\n",
       "    <tr>\n",
       "      <th>6</th>\n",
       "      <td>11</td>\n",
       "      <td>Environment and natural resources management</td>\n",
       "    </tr>\n",
       "  </tbody>\n",
       "</table>\n",
       "</div>"
      ],
      "text/plain": [
       "     code                                          name\n",
       "2       1                           Economic management\n",
       "5       2                      Public sector governance\n",
       "252     3                                   Rule of law\n",
       "11      4      Financial and private sector development\n",
       "4       5                         Trade and integration\n",
       "3       6         Social protection and risk management\n",
       "8       7                   Social dev/gender/inclusion\n",
       "0       8                             Human development\n",
       "53      9                             Urban development\n",
       "18     10                             Rural development\n",
       "6      11  Environment and natural resources management"
      ]
     },
     "execution_count": 219,
     "metadata": {},
     "output_type": "execute_result"
    }
   ],
   "source": [
    "#create a new dataframe of world_bank mjtheme_namecodes and the corresponding names \n",
    "\n",
    "mjtheme_namecodes_df=unpacked_mjtheme_namecode[unpacked_mjtheme_namecode.name != ''].drop_duplicates() #remove all empty cells\n",
    "mjtheme_namecodes_df.code=mjtheme_namecodes_df.code.astype(int) #change data type to integers\n",
    "mjtheme_namecodes_df.sort_values('code',ascending=True) #sort by codes\n"
   ]
  },
  {
   "cell_type": "code",
   "execution_count": 220,
   "metadata": {
    "scrolled": true
   },
   "outputs": [
    {
     "data": {
      "text/html": [
       "<div>\n",
       "<table border=\"1\" class=\"dataframe\">\n",
       "  <thead>\n",
       "    <tr style=\"text-align: right;\">\n",
       "      <th></th>\n",
       "      <th>code</th>\n",
       "      <th>counts</th>\n",
       "      <th>name</th>\n",
       "    </tr>\n",
       "  </thead>\n",
       "  <tbody>\n",
       "    <tr>\n",
       "      <th>2</th>\n",
       "      <td>11</td>\n",
       "      <td>250</td>\n",
       "      <td>Environment and natural resources management</td>\n",
       "    </tr>\n",
       "    <tr>\n",
       "      <th>1</th>\n",
       "      <td>10</td>\n",
       "      <td>216</td>\n",
       "      <td>Rural development</td>\n",
       "    </tr>\n",
       "    <tr>\n",
       "      <th>9</th>\n",
       "      <td>8</td>\n",
       "      <td>210</td>\n",
       "      <td>Human development</td>\n",
       "    </tr>\n",
       "    <tr>\n",
       "      <th>3</th>\n",
       "      <td>2</td>\n",
       "      <td>199</td>\n",
       "      <td>Public sector governance</td>\n",
       "    </tr>\n",
       "    <tr>\n",
       "      <th>7</th>\n",
       "      <td>6</td>\n",
       "      <td>168</td>\n",
       "      <td>Social protection and risk management</td>\n",
       "    </tr>\n",
       "    <tr>\n",
       "      <th>5</th>\n",
       "      <td>4</td>\n",
       "      <td>146</td>\n",
       "      <td>Financial and private sector development</td>\n",
       "    </tr>\n",
       "    <tr>\n",
       "      <th>8</th>\n",
       "      <td>7</td>\n",
       "      <td>130</td>\n",
       "      <td>Social dev/gender/inclusion</td>\n",
       "    </tr>\n",
       "    <tr>\n",
       "      <th>6</th>\n",
       "      <td>5</td>\n",
       "      <td>77</td>\n",
       "      <td>Trade and integration</td>\n",
       "    </tr>\n",
       "    <tr>\n",
       "      <th>10</th>\n",
       "      <td>9</td>\n",
       "      <td>50</td>\n",
       "      <td>Urban development</td>\n",
       "    </tr>\n",
       "    <tr>\n",
       "      <th>0</th>\n",
       "      <td>1</td>\n",
       "      <td>38</td>\n",
       "      <td>Economic management</td>\n",
       "    </tr>\n",
       "  </tbody>\n",
       "</table>\n",
       "</div>"
      ],
      "text/plain": [
       "    code  counts                                          name\n",
       "2     11     250  Environment and natural resources management\n",
       "1     10     216                             Rural development\n",
       "9      8     210                             Human development\n",
       "3      2     199                      Public sector governance\n",
       "7      6     168         Social protection and risk management\n",
       "5      4     146      Financial and private sector development\n",
       "8      7     130                   Social dev/gender/inclusion\n",
       "6      5      77                         Trade and integration\n",
       "10     9      50                             Urban development\n",
       "0      1      38                           Economic management"
      ]
     },
     "execution_count": 220,
     "metadata": {},
     "output_type": "execute_result"
    }
   ],
   "source": [
    "#combine count_project_themes with mjtheme_namecodes_df\n",
    "project_themes_count_labelled=pd.merge(count_project_themes, mjtheme_namecodes_df, on='code').sort_values('counts', ascending=False)\n",
    "project_themes_count_labelled.head(10)"
   ]
  },
  {
   "cell_type": "code",
   "execution_count": 221,
   "metadata": {},
   "outputs": [
    {
     "data": {
      "text/markdown": [
       "## <span style=\"color:blue\"> Therefore, the top 10 major project themes in descending order are:</span>"
      ],
      "text/plain": [
       "<IPython.core.display.Markdown object>"
      ]
     },
     "metadata": {},
     "output_type": "display_data"
    },
    {
     "name": "stdout",
     "output_type": "stream",
     "text": [
      "['Environment and natural resources management', 'Rural development', 'Human development', 'Public sector governance', 'Social protection and risk management', 'Financial and private sector development', 'Social dev/gender/inclusion', 'Trade and integration', 'Urban development', 'Economic management']\n"
     ]
    }
   ],
   "source": [
    "display(Markdown('## <span style=\"color:blue\"> Therefore, the top 10 major project themes in descending order are:</span>')) \n",
    "print(list(project_themes_count_labelled.name.head(10)))"
   ]
  },
  {
   "cell_type": "markdown",
   "metadata": {},
   "source": [
    "# <b> 3. In 2. above you will notice that some entries have only the code and the name is missing. Create a dataframe with the missing names filled in. </b> "
   ]
  },
  {
   "cell_type": "code",
   "execution_count": 222,
   "metadata": {},
   "outputs": [
    {
     "name": "stdout",
     "output_type": "stream",
     "text": [
      "    code                                          name\n",
      "0      8                             Human development\n",
      "1     11  Environment and natural resources management\n",
      "2      1                           Economic management\n",
      "3      6         Social protection and risk management\n",
      "4      5                         Trade and integration\n",
      "5      2                      Public sector governance\n",
      "6     11  Environment and natural resources management\n",
      "7      6         Social protection and risk management\n",
      "8      7                   Social dev/gender/inclusion\n",
      "9      7                   Social dev/gender/inclusion\n",
      "10     5                         Trade and integration\n",
      "11     4      Financial and private sector development\n",
      "12     6         Social protection and risk management\n",
      "13     6         Social protection and risk management\n",
      "14     2                      Public sector governance\n",
      "15     4      Financial and private sector development\n",
      "16    11  Environment and natural resources management\n",
      "17     8                             Human development\n",
      "18    10                             Rural development\n",
      "19     7                   Social dev/gender/inclusion\n"
     ]
    }
   ],
   "source": [
    "#turn the 'code' and 'name' columns in mjtheme_namecode column into a dictionary\n",
    "project_themes_codes_dict=dict(zip(list(project_themes_count_labelled['code']),list(project_themes_count_labelled['name'])))\n",
    "#project_themes_codes_dict #check\n",
    "\n",
    "#project_themes_count_labelled=project_themes_count_labelled.set_index('code') #set 'code' column as the index\n",
    "\n",
    "\n",
    "#unpacked_mjtheme_namecode.head(5) #check\n",
    "#create a newpandas DataFrame\n",
    "mjtheme_namecode_labelled=pd.DataFrame()\n",
    "mjtheme_namecode_labelled['code']=unpacked_mjtheme_namecode.code.astype(int) #add a new column 'code' with a converted data type of integer\n",
    "mjtheme_namecode_labelled['name']=unpacked_mjtheme_namecode.name\n",
    "##mjtheme_namecode_labelled #check\n",
    "\n",
    "#fill out empty cells with names\n",
    "mjtheme_namecode_labelled.name=mjtheme_namecode_labelled.name.replace('',mjtheme_namecode_labelled.code.map(project_themes_codes_dict)) #replace empty cells with codess\n",
    "\n",
    "print(mjtheme_namecode_labelled.head(20)) #check\n"
   ]
  },
  {
   "cell_type": "code",
   "execution_count": 223,
   "metadata": {},
   "outputs": [
    {
     "name": "stdout",
     "output_type": "stream",
     "text": [
      "No. of empty cellls within the unpacked_mjtheme_namecode['name'] column is: 122\n",
      "No. of empty cells within the mjtheme_namecode_labelled['name'] column is: 0\n"
     ]
    }
   ],
   "source": [
    "#Validation. Count the number of empty cells before and after treatments.\n",
    "\n",
    "#unpacked_mjtheme_namecode.head(10)\n",
    "print(\"No. of empty cellls within the unpacked_mjtheme_namecode['name'] column is:\", list(unpacked_mjtheme_namecode[unpacked_mjtheme_namecode.name==''].count())[0])\n",
    "\n",
    "#mjtheme_namecode_labelled.head(10)\n",
    "print(\"No. of empty cells within the mjtheme_namecode_labelled['name'] column is:\", list(mjtheme_namecode_labelled[mjtheme_namecode_labelled.name==''].count())[0])\n"
   ]
  },
  {
   "cell_type": "code",
   "execution_count": 224,
   "metadata": {},
   "outputs": [
    {
     "data": {
      "text/markdown": [
       "## <span style=\"color:blue\"> The empty cells within the 'name' column have been filled and validated, the number of missing cells was:</span>"
      ],
      "text/plain": [
       "<IPython.core.display.Markdown object>"
      ]
     },
     "metadata": {},
     "output_type": "display_data"
    },
    {
     "name": "stdout",
     "output_type": "stream",
     "text": [
      "122\n"
     ]
    }
   ],
   "source": [
    "display(Markdown('## <span style=\"color:blue\"> The empty cells within the \\'name\\' column have been filled and validated, the number of missing cells was:</span>')) \n",
    "print(list(unpacked_mjtheme_namecode[unpacked_mjtheme_namecode.name==''].count())[0])"
   ]
  }
 ],
 "metadata": {
  "kernelspec": {
   "display_name": "Python 3",
   "language": "python",
   "name": "python3"
  },
  "language_info": {
   "codemirror_mode": {
    "name": "ipython",
    "version": 3
   },
   "file_extension": ".py",
   "mimetype": "text/x-python",
   "name": "python",
   "nbconvert_exporter": "python",
   "pygments_lexer": "ipython3",
   "version": "3.5.3"
  }
 },
 "nbformat": 4,
 "nbformat_minor": 1
}
