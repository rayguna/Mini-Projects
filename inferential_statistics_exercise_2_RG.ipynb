{
 "cells": [
  {
   "cell_type": "markdown",
   "metadata": {},
   "source": [
    "# Examining Racial Discrimination in the US Job Market\n",
    "\n",
    "### Background\n",
    "Racial discrimination continues to be pervasive in cultures throughout the world. Researchers examined the level of racial discrimination in the United States labor market by randomly assigning identical résumés to black-sounding or white-sounding names and observing the impact on requests for interviews from employers.\n",
    "\n",
    "### Data\n",
    "In the dataset provided, each row represents a resume. The 'race' column has two values, 'b' and 'w', indicating black-sounding and white-sounding. The column 'call' has two values, 1 and 0, indicating whether the resume received a call from employers or not.\n",
    "\n",
    "Note that the 'b' and 'w' values in race are assigned randomly to the resumes when presented to the employer."
   ]
  },
  {
   "cell_type": "markdown",
   "metadata": {},
   "source": [
    "### Exercises\n",
    "You will perform a statistical analysis to establish whether race has a significant impact on the rate of callbacks for resumes.\n",
    "\n",
    "Answer the following questions **in this notebook below and submit to your Github account**. \n",
    "\n",
    "   1. What test is appropriate for this problem? Does CLT apply?\n",
    "   2. What are the null and alternate hypotheses?\n",
    "   3. Compute margin of error, confidence interval, and p-value.\n",
    "   4. Write a story describing the statistical significance in the context or the original problem.\n",
    "   5. Does your analysis mean that race/name is the most important factor in callback success? Why or why not? If not, how would you amend your analysis?\n",
    "\n",
    "You can include written notes in notebook cells using Markdown: \n",
    "   - In the control panel at the top, choose Cell > Cell Type > Markdown\n",
    "   - Markdown syntax: http://nestacms.com/docs/creating-content/markdown-cheat-sheet\n",
    "\n",
    "\n",
    "#### Resources\n",
    "+ Experiment information and data source: http://www.povertyactionlab.org/evaluation/discrimination-job-market-united-states\n",
    "+ Scipy statistical methods: http://docs.scipy.org/doc/scipy/reference/stats.html \n",
    "+ Markdown syntax: http://nestacms.com/docs/creating-content/markdown-cheat-sheet\n",
    "****"
   ]
  },
  {
   "cell_type": "markdown",
   "metadata": {},
   "source": [
    "<b> (1) What test is appropriate for this problem? </b>\n",
    "\n",
    "<b> ans: </b> An appropriate test is a two-tail comparison of sample proportions.\n",
    "\n",
    "Does CLT apply?\n",
    "\n",
    "<span style=\"color:blue\"> <b> ans: </b> Yes. CLT states that the sampling distribution of a population that has an unknown probability distribution, given that the sample size n is large, will yield an approximately normal sampling distribution. For a sample proportion, in order for the samples to meet the conditions for CLT: </span>\n",
    "> (1) Average number of successes, np, must be at least 10.   \n",
    "<span style=\"color:blue\"> In the present case, for black race, np=157 and, for white race, np=235. </span>   \n",
    "> (2) Average number of failures, n(1-p), must be at least 10.   \n",
    "<span style=\"color:blue\"> In the present case, for black race, n(1-p)=2278 and, for white race, n(1-p)=2200. </span>\n",
    "\n",
    "ref.:   \n",
    "D.C.Montgomery, G.C.Runger, and N.F. Hubele, \"Engineering Statistics\", John Wiley and Sons, Second Edition, 2001, pg. 123.  \n",
    "D. Rumsey, \"Statistics Essentials for Dummies\", Wiley Publishings, Inc., 2010, Chpt. 6.\n",
    "\n",
    "\n"
   ]
  },
  {
   "cell_type": "markdown",
   "metadata": {},
   "source": [
    "<b> (2) What are the null and alternate hypotheses? </b>\n",
    "\n",
    "<span style=\"color:blue\"> <b> ans: </b>  \n",
    "H0: Racially-inclined sounding names have no significant impact on the rate of callbacks (i.e. $\\mu_{(p_{black} = p_{white})}$=0).  \n",
    "Ha: Racially-inclined sounding names have a significant impact on the rate of callbacks (i.e. $\\mu_{(p_{black} \\neq\\ p_{white})}$=0) \n",
    "</span>\n"
   ]
  },
  {
   "cell_type": "markdown",
   "metadata": {},
   "source": [
    "<b> (3) Compute margin of error, confidence interval, and p-value. </b>"
   ]
  },
  {
   "cell_type": "code",
   "execution_count": 3,
   "metadata": {
    "collapsed": true
   },
   "outputs": [],
   "source": [
    "import pandas as pd\n",
    "import numpy as np\n",
    "from scipy import stats\n",
    "import matplotlib.pyplot as plt"
   ]
  },
  {
   "cell_type": "code",
   "execution_count": 4,
   "metadata": {
    "collapsed": true
   },
   "outputs": [],
   "source": [
    "data = pd.io.stata.read_stata('data/us_job_market_discrimination.dta')"
   ]
  },
  {
   "cell_type": "code",
   "execution_count": 5,
   "metadata": {},
   "outputs": [
    {
     "data": {
      "text/plain": [
       "157.0"
      ]
     },
     "execution_count": 5,
     "metadata": {},
     "output_type": "execute_result"
    }
   ],
   "source": [
    "# number of callbacks for black-sounding names\n",
    "sum(data[data.race=='b'].call)"
   ]
  },
  {
   "cell_type": "code",
   "execution_count": 6,
   "metadata": {},
   "outputs": [
    {
     "data": {
      "text/html": [
       "<div>\n",
       "<table border=\"1\" class=\"dataframe\">\n",
       "  <thead>\n",
       "    <tr style=\"text-align: right;\">\n",
       "      <th></th>\n",
       "      <th>id</th>\n",
       "      <th>ad</th>\n",
       "      <th>education</th>\n",
       "      <th>ofjobs</th>\n",
       "      <th>yearsexp</th>\n",
       "      <th>honors</th>\n",
       "      <th>volunteer</th>\n",
       "      <th>military</th>\n",
       "      <th>empholes</th>\n",
       "      <th>occupspecific</th>\n",
       "      <th>...</th>\n",
       "      <th>compreq</th>\n",
       "      <th>orgreq</th>\n",
       "      <th>manuf</th>\n",
       "      <th>transcom</th>\n",
       "      <th>bankreal</th>\n",
       "      <th>trade</th>\n",
       "      <th>busservice</th>\n",
       "      <th>othservice</th>\n",
       "      <th>missind</th>\n",
       "      <th>ownership</th>\n",
       "    </tr>\n",
       "  </thead>\n",
       "  <tbody>\n",
       "    <tr>\n",
       "      <th>0</th>\n",
       "      <td>b</td>\n",
       "      <td>1</td>\n",
       "      <td>4</td>\n",
       "      <td>2</td>\n",
       "      <td>6</td>\n",
       "      <td>0</td>\n",
       "      <td>0</td>\n",
       "      <td>0</td>\n",
       "      <td>1</td>\n",
       "      <td>17</td>\n",
       "      <td>...</td>\n",
       "      <td>1.0</td>\n",
       "      <td>0.0</td>\n",
       "      <td>1.0</td>\n",
       "      <td>0.0</td>\n",
       "      <td>0.0</td>\n",
       "      <td>0.0</td>\n",
       "      <td>0.0</td>\n",
       "      <td>0.0</td>\n",
       "      <td>0.0</td>\n",
       "      <td></td>\n",
       "    </tr>\n",
       "    <tr>\n",
       "      <th>1</th>\n",
       "      <td>b</td>\n",
       "      <td>1</td>\n",
       "      <td>3</td>\n",
       "      <td>3</td>\n",
       "      <td>6</td>\n",
       "      <td>0</td>\n",
       "      <td>1</td>\n",
       "      <td>1</td>\n",
       "      <td>0</td>\n",
       "      <td>316</td>\n",
       "      <td>...</td>\n",
       "      <td>1.0</td>\n",
       "      <td>0.0</td>\n",
       "      <td>1.0</td>\n",
       "      <td>0.0</td>\n",
       "      <td>0.0</td>\n",
       "      <td>0.0</td>\n",
       "      <td>0.0</td>\n",
       "      <td>0.0</td>\n",
       "      <td>0.0</td>\n",
       "      <td></td>\n",
       "    </tr>\n",
       "    <tr>\n",
       "      <th>2</th>\n",
       "      <td>b</td>\n",
       "      <td>1</td>\n",
       "      <td>4</td>\n",
       "      <td>1</td>\n",
       "      <td>6</td>\n",
       "      <td>0</td>\n",
       "      <td>0</td>\n",
       "      <td>0</td>\n",
       "      <td>0</td>\n",
       "      <td>19</td>\n",
       "      <td>...</td>\n",
       "      <td>1.0</td>\n",
       "      <td>0.0</td>\n",
       "      <td>1.0</td>\n",
       "      <td>0.0</td>\n",
       "      <td>0.0</td>\n",
       "      <td>0.0</td>\n",
       "      <td>0.0</td>\n",
       "      <td>0.0</td>\n",
       "      <td>0.0</td>\n",
       "      <td></td>\n",
       "    </tr>\n",
       "    <tr>\n",
       "      <th>3</th>\n",
       "      <td>b</td>\n",
       "      <td>1</td>\n",
       "      <td>3</td>\n",
       "      <td>4</td>\n",
       "      <td>6</td>\n",
       "      <td>0</td>\n",
       "      <td>1</td>\n",
       "      <td>0</td>\n",
       "      <td>1</td>\n",
       "      <td>313</td>\n",
       "      <td>...</td>\n",
       "      <td>1.0</td>\n",
       "      <td>0.0</td>\n",
       "      <td>1.0</td>\n",
       "      <td>0.0</td>\n",
       "      <td>0.0</td>\n",
       "      <td>0.0</td>\n",
       "      <td>0.0</td>\n",
       "      <td>0.0</td>\n",
       "      <td>0.0</td>\n",
       "      <td></td>\n",
       "    </tr>\n",
       "    <tr>\n",
       "      <th>4</th>\n",
       "      <td>b</td>\n",
       "      <td>1</td>\n",
       "      <td>3</td>\n",
       "      <td>3</td>\n",
       "      <td>22</td>\n",
       "      <td>0</td>\n",
       "      <td>0</td>\n",
       "      <td>0</td>\n",
       "      <td>0</td>\n",
       "      <td>313</td>\n",
       "      <td>...</td>\n",
       "      <td>1.0</td>\n",
       "      <td>1.0</td>\n",
       "      <td>0.0</td>\n",
       "      <td>0.0</td>\n",
       "      <td>0.0</td>\n",
       "      <td>0.0</td>\n",
       "      <td>0.0</td>\n",
       "      <td>1.0</td>\n",
       "      <td>0.0</td>\n",
       "      <td>Nonprofit</td>\n",
       "    </tr>\n",
       "  </tbody>\n",
       "</table>\n",
       "<p>5 rows × 65 columns</p>\n",
       "</div>"
      ],
      "text/plain": [
       "  id ad  education  ofjobs  yearsexp  honors  volunteer  military  empholes  \\\n",
       "0  b  1          4       2         6       0          0         0         1   \n",
       "1  b  1          3       3         6       0          1         1         0   \n",
       "2  b  1          4       1         6       0          0         0         0   \n",
       "3  b  1          3       4         6       0          1         0         1   \n",
       "4  b  1          3       3        22       0          0         0         0   \n",
       "\n",
       "   occupspecific    ...      compreq  orgreq  manuf  transcom  bankreal trade  \\\n",
       "0             17    ...          1.0     0.0    1.0       0.0       0.0   0.0   \n",
       "1            316    ...          1.0     0.0    1.0       0.0       0.0   0.0   \n",
       "2             19    ...          1.0     0.0    1.0       0.0       0.0   0.0   \n",
       "3            313    ...          1.0     0.0    1.0       0.0       0.0   0.0   \n",
       "4            313    ...          1.0     1.0    0.0       0.0       0.0   0.0   \n",
       "\n",
       "  busservice othservice  missind  ownership  \n",
       "0        0.0        0.0      0.0             \n",
       "1        0.0        0.0      0.0             \n",
       "2        0.0        0.0      0.0             \n",
       "3        0.0        0.0      0.0             \n",
       "4        0.0        1.0      0.0  Nonprofit  \n",
       "\n",
       "[5 rows x 65 columns]"
      ]
     },
     "execution_count": 6,
     "metadata": {},
     "output_type": "execute_result"
    }
   ],
   "source": [
    "data.head() #inspect data"
   ]
  },
  {
   "cell_type": "code",
   "execution_count": 7,
   "metadata": {},
   "outputs": [
    {
     "name": "stdout",
     "output_type": "stream",
     "text": [
      "<class 'pandas.core.frame.DataFrame'>\n",
      "Int64Index: 4870 entries, 0 to 4869\n",
      "Data columns (total 65 columns):\n",
      "id                    4870 non-null object\n",
      "ad                    4870 non-null object\n",
      "education             4870 non-null int8\n",
      "ofjobs                4870 non-null int8\n",
      "yearsexp              4870 non-null int8\n",
      "honors                4870 non-null int8\n",
      "volunteer             4870 non-null int8\n",
      "military              4870 non-null int8\n",
      "empholes              4870 non-null int8\n",
      "occupspecific         4870 non-null int16\n",
      "occupbroad            4870 non-null int8\n",
      "workinschool          4870 non-null int8\n",
      "email                 4870 non-null int8\n",
      "computerskills        4870 non-null int8\n",
      "specialskills         4870 non-null int8\n",
      "firstname             4870 non-null object\n",
      "sex                   4870 non-null object\n",
      "race                  4870 non-null object\n",
      "h                     4870 non-null float32\n",
      "l                     4870 non-null float32\n",
      "call                  4870 non-null float32\n",
      "city                  4870 non-null object\n",
      "kind                  4870 non-null object\n",
      "adid                  4870 non-null float32\n",
      "fracblack             4784 non-null float32\n",
      "fracwhite             4784 non-null float32\n",
      "lmedhhinc             4784 non-null float32\n",
      "fracdropout           4784 non-null float32\n",
      "fraccolp              4784 non-null float32\n",
      "linc                  4784 non-null float32\n",
      "col                   4870 non-null float32\n",
      "expminreq             4870 non-null object\n",
      "schoolreq             4870 non-null object\n",
      "eoe                   4870 non-null float32\n",
      "parent_sales          1672 non-null float32\n",
      "parent_emp            1722 non-null float32\n",
      "branch_sales          608 non-null float32\n",
      "branch_emp            658 non-null float32\n",
      "fed                   3102 non-null float32\n",
      "fracblack_empzip      1918 non-null float32\n",
      "fracwhite_empzip      1918 non-null float32\n",
      "lmedhhinc_empzip      1908 non-null float32\n",
      "fracdropout_empzip    1918 non-null float32\n",
      "fraccolp_empzip       1918 non-null float32\n",
      "linc_empzip           1918 non-null float32\n",
      "manager               4870 non-null float32\n",
      "supervisor            4870 non-null float32\n",
      "secretary             4870 non-null float32\n",
      "offsupport            4870 non-null float32\n",
      "salesrep              4870 non-null float32\n",
      "retailsales           4870 non-null float32\n",
      "req                   4870 non-null float32\n",
      "expreq                4870 non-null float32\n",
      "comreq                4870 non-null float32\n",
      "educreq               4870 non-null float32\n",
      "compreq               4870 non-null float32\n",
      "orgreq                4870 non-null float32\n",
      "manuf                 4870 non-null float32\n",
      "transcom              4870 non-null float32\n",
      "bankreal              4870 non-null float32\n",
      "trade                 4870 non-null float32\n",
      "busservice            4870 non-null float32\n",
      "othservice            4870 non-null float32\n",
      "missind               4870 non-null float32\n",
      "ownership             4870 non-null object\n",
      "dtypes: float32(42), int16(1), int8(12), object(10)\n",
      "memory usage: 1.3+ MB\n"
     ]
    }
   ],
   "source": [
    "data.info() #inspect data"
   ]
  },
  {
   "cell_type": "code",
   "execution_count": 8,
   "metadata": {},
   "outputs": [
    {
     "name": "stdout",
     "output_type": "stream",
     "text": [
      "No. of calls to black applicants: 157.0\n",
      "No. of calls to white applicants: 235.0\n",
      "\n",
      "\n",
      "Black calls: 2435\n",
      "White calls: 2435\n",
      "\n",
      "\n",
      "p_b_calls: 0.064476386037\n",
      "p_w_calls: 0.0965092402464\n"
     ]
    }
   ],
   "source": [
    "#Calculate the number of calls for each race \n",
    "b_calls= data[data['race']=='b']['call'].sum()\n",
    "w_calls= data[data['race']=='w']['call'].sum()\n",
    "print('No. of calls to black applicants:', b_calls)\n",
    "print('No. of calls to white applicants:', w_calls)\n",
    "print('\\n')\n",
    "\n",
    "#calculate the total number of applicants for each race\n",
    "b_applicants=data['call'][data['race']=='b'].count()\n",
    "w_applicants=data['call'][data['race']=='w'].count()\n",
    "\n",
    "print('Black calls:', b_applicants)\n",
    "print('White calls:', w_applicants)\n",
    "print('\\n')\n",
    "\n",
    "#calculate proportions\n",
    "p_b_calls=b_calls/b_applicants\n",
    "p_w_calls=w_calls/w_applicants\n",
    "\n",
    "print('p_b_calls:', p_b_calls)\n",
    "print('p_w_calls:', p_w_calls)\n"
   ]
  },
  {
   "cell_type": "markdown",
   "metadata": {},
   "source": [
    "Thus, the population proportion of blacks receiving calls is 6.45% and the population proportion of whites receiving calls is 9.65% "
   ]
  },
  {
   "cell_type": "markdown",
   "metadata": {},
   "source": [
    "(a) Margin of error and confidence interval  \n",
    "<span style=\"color:blue\"> <b> ans: </b> The margin of error is 0.0153 and the confidence interval at 95% is 0.0168-0.0473. </span>"
   ]
  },
  {
   "cell_type": "code",
   "execution_count": 9,
   "metadata": {},
   "outputs": [
    {
     "name": "stdout",
     "output_type": "stream",
     "text": [
      "Z0.025:  -1.95996398454\n",
      "margin of error:  0.0152551260282\n",
      "\n",
      "\n",
      "conf_interval: (0.0168,0.0473)\n"
     ]
    }
   ],
   "source": [
    "#Calculate margin or error, and subsequently confidence interval.\n",
    "#At a 95% confidence interval, the margin of error is:\n",
    "z0_025=stats.norm.ppf(0.025)\n",
    "print('Z0.025: ', z0_025) #check\n",
    "margin_of_error=z0_025*np.sqrt((p_b_calls*(1-p_b_calls)/b_applicants)+(p_w_calls*(1-p_w_calls)/w_applicants))\n",
    "print('margin of error: ', np.abs(margin_of_error))\n",
    "\n",
    "conf_interval=((p_w_calls-p_b_calls)-np.abs(margin_of_error),(p_w_calls-p_b_calls)+np.abs(margin_of_error))\n",
    "print('\\n')\n",
    "print('conf_interval: (%.4f,%.4f)' %(conf_interval[0],conf_interval[1]))\n"
   ]
  },
  {
   "cell_type": "markdown",
   "metadata": {},
   "source": [
    "<span style=\"color:blue\">\n",
    "<b> ans: </b> The confidence interval at 95% is: 0.0168-0.0473.\n",
    "</span>\n",
    "\n",
    "<span style=\"color:blue\">\n",
    "<b> conclusion: </b> The 95% confidence interval on the difference does not include zero. This implies that the difference is quite significant.\n",
    "</span>"
   ]
  },
  {
   "cell_type": "markdown",
   "metadata": {},
   "source": [
    "(b) p-value calculation"
   ]
  },
  {
   "cell_type": "markdown",
   "metadata": {},
   "source": [
    "<span style=\"color:blue\"> \n",
    "<b> ans: </b> When calculated both using statsmodel.api and using the statistical formula, the p-values are 3.984e-05.\n",
    "</span>"
   ]
  },
  {
   "cell_type": "markdown",
   "metadata": {},
   "source": [
    "(b1) calculate p-value using statsmodel.api"
   ]
  },
  {
   "cell_type": "code",
   "execution_count": 10,
   "metadata": {},
   "outputs": [
    {
     "name": "stdout",
     "output_type": "stream",
     "text": [
      "z-score: -4.10841215243 p-value: 3.98388683759e-05\n"
     ]
    }
   ],
   "source": [
    "import statsmodels.api as sm\n",
    "\n",
    "#z-test\n",
    "z0, p_value = sm.stats.proportions_ztest([b_calls, w_calls], [b_applicants, w_applicants])\n",
    "\n",
    "print('z-score:', z0, 'p-value:', p_value)"
   ]
  },
  {
   "cell_type": "markdown",
   "metadata": {},
   "source": [
    "(b2) calculate p-value using the statistical formula"
   ]
  },
  {
   "cell_type": "code",
   "execution_count": 11,
   "metadata": {
    "scrolled": true
   },
   "outputs": [
    {
     "name": "stdout",
     "output_type": "stream",
     "text": [
      "p-bar: 0.0804928131417\n",
      "\n",
      "\n",
      "z: -4.10841215243\n",
      "\n",
      "\n",
      "z0.025 critical: -1.95996398454\n",
      "p-value: 3.98388683759e-05\n"
     ]
    }
   ],
   "source": [
    "#First, calculate the pooled estimate of the population proportions\n",
    "p_bar=(b_calls+w_calls)/(b_applicants+w_applicants)\n",
    "print('p-bar:', p_bar) #check\n",
    "print('\\n')\n",
    "\n",
    "#Calculate the test statistic, z:\n",
    "z=(p_b_calls-p_w_calls)/np.sqrt((p_bar*(1-p_bar))*((1/b_applicants)+(1/w_applicants)))\n",
    "print('z:', z)\n",
    "\n",
    "\n",
    "#The z0.025 critical (two-tail test) is\n",
    "print('\\n')\n",
    "print('z0.025 critical:', stats.norm.ppf(0.025))\n",
    "\n",
    "#calculate p-value\n",
    "print('p-value:', 2*stats.norm.cdf(z)) #we multiply by two, since it is a two-tail test."
   ]
  },
  {
   "cell_type": "markdown",
   "metadata": {},
   "source": [
    "<span style=\"color:blue\">\n",
    "<b> conclusion: </b> Since z < z-critical, we reject H0. That is, the population means are significantly different between the two races at a low p-value of 3.984e-5. Racially-inclined sounding names have a significant impact on the rate of callbacks.\n",
    "</span>"
   ]
  },
  {
   "cell_type": "markdown",
   "metadata": {},
   "source": [
    "<b> (4) Write a story describing the statistical significance in the context or the original problem. </b>"
   ]
  },
  {
   "cell_type": "markdown",
   "metadata": {},
   "source": [
    "## Title: Race may not be the sole contributor on the rate of callbacks for resumes.\n",
    "\n",
    "While a two-tail test comparison of sample proportions concludes that the population means are significantly different between the two races at a low p-value of 3.984e-5 the histograms of various other numerical factors (56 altogether) show that the applicants with white sounding race mostly exceed the applicants with black sounding race in various numerical categories. Further tests are recommended before taking on any positions. For this, description on the column names is needed. "
   ]
  },
  {
   "cell_type": "markdown",
   "metadata": {
    "collapsed": true
   },
   "source": [
    "<b> (5) Does your analysis mean that race/name is the most important factor in callback success? Why or why not? If not, how would you amend your analysis? </b>\n",
    "\n",
    "<span style=\"color:blue\"> <b> ans: </b> normalizing the numerical factors and plotting into bar charts for each of the two race reveals that, for the most part, the percentage of the white race exceed the black race; except for fracblack_empzip and transcom. </span>"
   ]
  },
  {
   "cell_type": "code",
   "execution_count": 28,
   "metadata": {},
   "outputs": [
    {
     "name": "stdout",
     "output_type": "stream",
     "text": [
      "No. of numerical columns: 56\n"
     ]
    },
    {
     "data": {
      "image/png": "[encoded data removed]",
      "text/plain": [
       "<matplotlib.figure.Figure at 0x1c757b8d9e8>"
      ]
     },
     "metadata": {},
     "output_type": "display_data"
    },
    {
     "data": {
      "image/png": "[encoded data removed]",
      "text/plain": [
       "<matplotlib.figure.Figure at 0x1c757aae9b0>"
      ]
     },
     "metadata": {},
     "output_type": "display_data"
    },
    {
     "data": {
      "image/png": "[encoded data removed]",
      "text/plain": [
       "<matplotlib.figure.Figure at 0x1c757cb26a0>"
      ]
     },
     "metadata": {},
     "output_type": "display_data"
    },
    {
     "data": {
      "image/png": "[encoded data removed]",
      "text/plain": [
       "<matplotlib.figure.Figure at 0x1c756433eb8>"
      ]
     },
     "metadata": {},
     "output_type": "display_data"
    },
    {
     "data": {
      "image/png": "[encoded data removed]",
      "text/plain": [
       "<matplotlib.figure.Figure at 0x1c757b8dd68>"
      ]
     },
     "metadata": {},
     "output_type": "display_data"
    },
    {
     "data": {
      "image/png": "[encoded data removed]",
      "text/plain": [
       "<matplotlib.figure.Figure at 0x1c757a96a90>"
      ]
     },
     "metadata": {},
     "output_type": "display_data"
    },
    {
     "data": {
      "image/png": "[encoded data removed]",
      "text/plain": [
       "<matplotlib.figure.Figure at 0x1c757a509b0>"
      ]
     },
     "metadata": {},
     "output_type": "display_data"
    },
    {
     "data": {
      "image/png": "[encoded data removed]",
      "text/plain": [
       "<matplotlib.figure.Figure at 0x1c757a58630>"
      ]
     },
     "metadata": {},
     "output_type": "display_data"
    }
   ],
   "source": [
    "#strategy: compare other factors than number of calls\n",
    "\n",
    "#steps:\n",
    "#1. Convert all numerical factors into percentage for each race.\n",
    "#   only focus on ones who got interview.\n",
    "#2. Plot out the bar charts.\n",
    "\n",
    "#1a. To convert all numerical factors into percentage\n",
    "data_got_calls=pd.DataFrame() #create a new DataFrame to contain info. only for those who received calls\n",
    "data_got_calls=data[data['call']==1] #filter for only those who got calls\n",
    "\n",
    "#1b. express values in percentage\n",
    "#https://stackoverflow.com/questions/26537878/pandas-sum-across-columns-and-divide-each-cell-from-that-value\n",
    "\n",
    "for col in data_got_calls.columns:\n",
    "    if data_got_calls[col].dtype==object and col != 'race':\n",
    "        #print(col) #these are columns that are type objects. Exclude from the list, except for race\n",
    "        data_got_calls=data_got_calls.drop(col, axis=1)\n",
    "\n",
    "print('No. of numerical columns:', len(data_got_calls.columns))        \n",
    "        \n",
    "col_tot=data_got_calls.iloc[:,data_got_calls.columns != 'race'].sum(axis=0) #calculate sum for each column for normalization, except 'race'.\n",
    "data_got_calls_pct=100*data_got_calls.iloc[:,data_got_calls.columns != 'race'].div(col_tot,axis=1) #normalize each column\n",
    "data_got_calls_pct['race']=data_got_calls['race'][data_got_calls.index==data_got_calls_pct.index]#add back the race column\n",
    "\n",
    "#2. plot bar charts in chunks for easy inspection\n",
    "\n",
    "for col_no in range(int(len(data_got_calls_pct.columns)/7)):\n",
    "    #print(7*col_no,',',7*(col_no+1))      \n",
    "    \n",
    "    data_got_calls_pct.groupby('race').sum().iloc[:,7*col_no:7*(col_no+1)].plot.bar() #groupby race and aggregate by sum\n",
    "    plt.legend(bbox_to_anchor=(1.1, 1.05))\n",
    "    plt.ylabel('%')\n",
    "\n",
    "\n",
    "    plt.show()\n"
   ]
  },
  {
   "cell_type": "code",
   "execution_count": 13,
   "metadata": {},
   "outputs": [
    {
     "name": "stdout",
     "output_type": "stream",
     "text": [
      "fracblack_empzip\n",
      "transcom\n"
     ]
    }
   ],
   "source": [
    "#check which factors are higher for black race than white race from those who got calls\n",
    "for col in data_got_calls_pct.columns:\n",
    "    if data_got_calls_pct[col][data_got_calls_pct['race']=='b'].sum()>data_got_calls_pct[col][data_got_calls_pct['race']=='w'].sum(): #print out just black race.\n",
    "        print(col)"
   ]
  },
  {
   "cell_type": "markdown",
   "metadata": {},
   "source": [
    "<b> Taking it one-step further, let's look at the percentage number of calls for these two columns </b>\n",
    "\n",
    "Stating the hypothesis:  \n",
    "> H0: Transcom being equal to 1  has no significant impact on the rate of callbacks.  \n",
    "> Ha: Transcom  being equal to 1 has a significant impact on the rate of callbacks."
   ]
  },
  {
   "cell_type": "code",
   "execution_count": 14,
   "metadata": {},
   "outputs": [
    {
     "name": "stdout",
     "output_type": "stream",
     "text": [
      "<class 'pandas.core.frame.DataFrame'>\n",
      "Int64Index: 4870 entries, 0 to 4869\n",
      "Data columns (total 2 columns):\n",
      "fracblack_empzip    1918 non-null float32\n",
      "transcom            4870 non-null float32\n",
      "dtypes: float32(2)\n",
      "memory usage: 76.1 KB\n",
      "\n",
      "\n",
      "black call 11.0\n",
      "white call 9.0\n",
      "\n",
      "\n",
      "No. of black race with transcom=1:  74\n",
      "No. of white race with transcom=1:  74\n",
      "\n",
      "\n",
      "z-score: 0.480884601542 p-value: 0.630598517391\n",
      "Reject H0 at an alpha=0.05. That is, transcom has no significant impact on the rate of callbacks.\n",
      "\n",
      "\n",
      "NOTE: While the result concludes that transcom has a significant impact on the rate of callbacks, it is worth noting that np for white race is 9.0, which is less than 10.0. More samples are needed to carry out a more robust test\n"
     ]
    }
   ],
   "source": [
    "#inspect data\n",
    "data.loc[:,['fracblack_empzip','transcom']].info()\n",
    "#Upon inpspection, it is seen that the factor 'fracblack_empzip' contains many missing data. \n",
    "#  Therefore, the analysis is focused on the factor 'transcom'.  \n",
    "print('\\n')\n",
    "\n",
    "###For those with 'transcom'=1, get the 'call' column and do a sample proportion test!!!\n",
    "bw_transcom_1=data[data['transcom']==1]\n",
    "bw_transcom_1 #check\n",
    "\n",
    "b_transcom_1_calls=bw_transcom_1['call'][bw_transcom_1['race']=='b'].sum()\n",
    "w_transcom_1_calls=bw_transcom_1['call'][bw_transcom_1['race']=='w'].sum()\n",
    "\n",
    "print('black call', b_transcom_1_calls) #check\n",
    "print('white call', w_transcom_1_calls) #check\n",
    "print('\\n')\n",
    "\n",
    "###for comparison, caculate the opposite scenario: got calls, prop of transcom! They are one and the same.\n",
    "#carry out comparative test to check if the transcoms are different by race.\n",
    "#z-test\n",
    "bw_transcom_1=data[data['transcom']==1]\n",
    "\n",
    "#separatate by race\n",
    "b_transcom_1=bw_transcom_1[bw_transcom_1['race']=='b']['call'].count() #total number of black race with transcom=1\n",
    "w_transcom_1=bw_transcom_1[bw_transcom_1['race']=='w']['call'].count() #total number of white race with transcom=1\n",
    "\n",
    "print('No. of black race with transcom=1: ', b_transcom_1) #check\n",
    "print('No. of white race with transcom=1: ', w_transcom_1) #check\n",
    "\n",
    "#Calculate statistic\n",
    "\n",
    "z0_transcom, p_value_transcom = sm.stats.proportions_ztest([b_transcom_1_calls, w_transcom_1_calls], [b_transcom_1, w_transcom_1])\n",
    "print('\\n')\n",
    "print('z-score:', z0_transcom, 'p-value:', p_value_transcom)\n",
    "\n",
    "if p_value_transcom > 0.025:\n",
    "    print('Reject H0 at an alpha=0.05. That is, transcom has no significant impact on the rate of callbacks.')\n",
    "else:\n",
    "    print('Fail to reject H0 at an alpha=0.05. That is, transcom has a significant impact on the rate of callbacks.')\n",
    "\n",
    "print('\\n')    \n",
    "print('NOTE: While the result concludes that transcom has a significant impact on the rate of callbacks, it is worth noting \\\n",
    "that np for white race is 9.0, which is less than 10.0. More samples are needed to \\\n",
    "carry out a more robust test')"
   ]
  },
  {
   "cell_type": "markdown",
   "metadata": {},
   "source": [
    "<span style=\"color:blue\"> <b> conclusion: </b> The bar charts that correspond to the numerical factors reveal that most factors are higher for the white race than it is for the black race. Aside from race/name, these factors may also contribute to the fact that the callback rate is higher for the white than it is for the black race. </span>\n",
    "\n",
    "<span style=\"color:blue\"> Nonetheless, of all the numerical factors, two of which the black race percentage exceed the white race, i.e., fracblack_empzip and transcom. A closer inspection reveals that the fracblack_empzip data contains null entries. Performing a two-tail comparison of sample proportions, however, reveals that at alpha=0.05, transcom has no significant impact on the rate of callbacks. </span>\n",
    "\n",
    "<span style=\"color:blue\"> Additional information about the description of each of the 56 numerical factors is needed to help discern which of these factors should be examined further. </span>"
   ]
  }
 ],
 "metadata": {
  "kernelspec": {
   "display_name": "Python 3",
   "language": "python",
   "name": "python3"
  },
  "language_info": {
   "codemirror_mode": {
    "name": "ipython",
    "version": 3
   },
   "file_extension": ".py",
   "mimetype": "text/x-python",
   "name": "python",
   "nbconvert_exporter": "python",
   "pygments_lexer": "ipython3",
   "version": "3.5.4"
  }
 },
 "nbformat": 4,
 "nbformat_minor": 1
}
