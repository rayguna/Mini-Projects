{
 "cells": [
  {
   "cell_type": "markdown",
   "metadata": {},
   "source": [
    "### Ultimate Data Science Challenge\n",
    "\n",
    "Data:\n",
    "- logins.json\n",
    "- ultimate_data_challenge.json"
   ]
  },
  {
   "cell_type": "markdown",
   "metadata": {},
   "source": [
    "### Part 1 ‑ Exploratory data analysis\n",
    "\n",
    "The attached logins.json file contains (simulated) timestamps of user logins in a particular geographic location. Aggregate these login counts based on 15 minute time intervals, and visualize and describe the resulting time series of login counts in ways that best characterize the underlying patterns of the demand. \n",
    "\n",
    "Please report/illustrate important features of the demand, such as daily cycles. If there are data quality issues, please report them."
   ]
  },
  {
   "cell_type": "markdown",
   "metadata": {},
   "source": [
    "#### Answer:\n",
    "    - The time-series data is non-stationary (Based on histogram plot of the login counts, ADF test, and time-series \n",
    "      decomposition)\n",
    "    - The data shows weekly cycles.\n",
    "    \n",
    "See below for detailed analysis    "
   ]
  },
  {
   "cell_type": "markdown",
   "metadata": {},
   "source": [
    "A. logins Dataset"
   ]
  },
  {
   "cell_type": "markdown",
   "metadata": {},
   "source": [
    "1.1. Load data, convert to datetime, and resample to 15 min intervals"
   ]
  },
  {
   "cell_type": "code",
   "execution_count": 1,
   "metadata": {},
   "outputs": [
    {
     "data": {
      "text/html": [
       "<div>\n",
       "<table border=\"1\" class=\"dataframe\">\n",
       "  <thead>\n",
       "    <tr style=\"text-align: right;\">\n",
       "      <th></th>\n",
       "      <th>login_time</th>\n",
       "      <th>Counts</th>\n",
       "    </tr>\n",
       "  </thead>\n",
       "  <tbody>\n",
       "    <tr>\n",
       "      <th>0</th>\n",
       "      <td>1970-01-01 20:13:18</td>\n",
       "      <td>1</td>\n",
       "    </tr>\n",
       "    <tr>\n",
       "      <th>1</th>\n",
       "      <td>1970-01-01 20:16:10</td>\n",
       "      <td>1</td>\n",
       "    </tr>\n",
       "    <tr>\n",
       "      <th>2</th>\n",
       "      <td>1970-01-01 20:16:37</td>\n",
       "      <td>1</td>\n",
       "    </tr>\n",
       "    <tr>\n",
       "      <th>3</th>\n",
       "      <td>1970-01-01 20:16:36</td>\n",
       "      <td>1</td>\n",
       "    </tr>\n",
       "    <tr>\n",
       "      <th>4</th>\n",
       "      <td>1970-01-01 20:26:21</td>\n",
       "      <td>1</td>\n",
       "    </tr>\n",
       "  </tbody>\n",
       "</table>\n",
       "</div>"
      ],
      "text/plain": [
       "           login_time  Counts\n",
       "0 1970-01-01 20:13:18       1\n",
       "1 1970-01-01 20:16:10       1\n",
       "2 1970-01-01 20:16:37       1\n",
       "3 1970-01-01 20:16:36       1\n",
       "4 1970-01-01 20:26:21       1"
      ]
     },
     "execution_count": 1,
     "metadata": {},
     "output_type": "execute_result"
    }
   ],
   "source": [
    "import pandas as pd\n",
    "\n",
    "df1=pd.read_json('logins.json')\n",
    "#change to datetime\n",
    "df1=pd.to_datetime(df1['login_time'])\n",
    "df1=pd.DataFrame(df1) #change to a DataFrame \n",
    "\n",
    "df1['Counts']=1 #crete a new column\n",
    "df1.head() #check\n"
   ]
  },
  {
   "cell_type": "code",
   "execution_count": 2,
   "metadata": {},
   "outputs": [
    {
     "data": {
      "text/html": [
       "<div>\n",
       "<table border=\"1\" class=\"dataframe\">\n",
       "  <thead>\n",
       "    <tr style=\"text-align: right;\">\n",
       "      <th></th>\n",
       "      <th>Counts</th>\n",
       "    </tr>\n",
       "    <tr>\n",
       "      <th>login_time</th>\n",
       "      <th></th>\n",
       "    </tr>\n",
       "  </thead>\n",
       "  <tbody>\n",
       "    <tr>\n",
       "      <th>1970-01-01 20:00:00</th>\n",
       "      <td>2.0</td>\n",
       "    </tr>\n",
       "    <tr>\n",
       "      <th>1970-01-01 20:15:00</th>\n",
       "      <td>6.0</td>\n",
       "    </tr>\n",
       "    <tr>\n",
       "      <th>1970-01-01 20:30:00</th>\n",
       "      <td>9.0</td>\n",
       "    </tr>\n",
       "    <tr>\n",
       "      <th>1970-01-01 20:45:00</th>\n",
       "      <td>7.0</td>\n",
       "    </tr>\n",
       "    <tr>\n",
       "      <th>1970-01-01 21:00:00</th>\n",
       "      <td>1.0</td>\n",
       "    </tr>\n",
       "  </tbody>\n",
       "</table>\n",
       "</div>"
      ],
      "text/plain": [
       "                     Counts\n",
       "login_time                 \n",
       "1970-01-01 20:00:00     2.0\n",
       "1970-01-01 20:15:00     6.0\n",
       "1970-01-01 20:30:00     9.0\n",
       "1970-01-01 20:45:00     7.0\n",
       "1970-01-01 21:00:00     1.0"
      ]
     },
     "execution_count": 2,
     "metadata": {},
     "output_type": "execute_result"
    }
   ],
   "source": [
    "#resample data in 15 min increments\n",
    "#https://stackoverflow.com/questions/14861023/resampling-minute-data\n",
    "\n",
    "df1=df1.set_index('login_time') \n",
    "df1=df1.resample('15Min').sum()\n",
    "df1.head() #check"
   ]
  },
  {
   "cell_type": "code",
   "execution_count": 3,
   "metadata": {},
   "outputs": [
    {
     "data": {
      "text/plain": [
       "Counts    407\n",
       "dtype: int64"
      ]
     },
     "execution_count": 3,
     "metadata": {},
     "output_type": "execute_result"
    }
   ],
   "source": [
    "df1.isnull().sum() #count number of null entries."
   ]
  },
  {
   "cell_type": "code",
   "execution_count": 4,
   "metadata": {},
   "outputs": [
    {
     "data": {
      "text/plain": [
       "Counts    0\n",
       "dtype: int64"
      ]
     },
     "execution_count": 4,
     "metadata": {},
     "output_type": "execute_result"
    }
   ],
   "source": [
    "#set null entries to zero\n",
    "df1=df1.fillna(0) #fill na entries with 0\n",
    "df1.isnull().sum() #check"
   ]
  },
  {
   "cell_type": "markdown",
   "metadata": {
    "collapsed": true
   },
   "source": [
    "1.2. Visualize data"
   ]
  },
  {
   "cell_type": "code",
   "execution_count": 5,
   "metadata": {},
   "outputs": [
    {
     "data": {
      "image/png": "[encoded data removed]",
      "text/plain": [
       "<Figure size 432x288 with 1 Axes>"
      ]
     },
     "metadata": {},
     "output_type": "display_data"
    }
   ],
   "source": [
    "import matplotlib.pyplot as plt\n",
    "\n",
    "df1.plot()\n",
    "plt.ylabel('Counts')\n",
    "plt.title('Time-Series Data of login_time in a 15 min intevals')\n",
    "plt.show()"
   ]
  },
  {
   "cell_type": "code",
   "execution_count": 6,
   "metadata": {},
   "outputs": [
    {
     "data": {
      "text/plain": [
       "Counts    0\n",
       "dtype: int64"
      ]
     },
     "execution_count": 6,
     "metadata": {},
     "output_type": "execute_result"
    }
   ],
   "source": [
    "#resample into daily intervals\n",
    "df1=df1.resample('D').sum()\n",
    "df1.isnull().sum() #check"
   ]
  },
  {
   "cell_type": "code",
   "execution_count": 7,
   "metadata": {},
   "outputs": [
    {
     "data": {
      "image/png": "[encoded data removed]",
      "text/plain": [
       "<Figure size 432x288 with 1 Axes>"
      ]
     },
     "metadata": {},
     "output_type": "display_data"
    }
   ],
   "source": [
    "df1.plot()\n",
    "plt.ylabel('Counts')\n",
    "plt.title('Time-Series Data of login_time in a daily intevals')\n",
    "plt.show()"
   ]
  },
  {
   "cell_type": "markdown",
   "metadata": {},
   "source": [
    "- The above time-series data shows the number of logins over per 15 min interval and per day\n",
    "- Overall, the time series data looks cyclical    \n",
    "- There is an obvious anomaly in the cyclical pattern during the 3rd week of March  \n",
    "- The amplitude is generally lower in the beginning, and it increases with time"
   ]
  },
  {
   "cell_type": "markdown",
   "metadata": {},
   "source": [
    "1.3. Determine if the time-series data is stationary or not"
   ]
  },
  {
   "cell_type": "markdown",
   "metadata": {},
   "source": [
    "A. Visual inspection"
   ]
  },
  {
   "cell_type": "code",
   "execution_count": 8,
   "metadata": {},
   "outputs": [
    {
     "data": {
      "image/png": "[encoded data removed]",
      "text/plain": [
       "<Figure size 432x288 with 1 Axes>"
      ]
     },
     "metadata": {},
     "output_type": "display_data"
    }
   ],
   "source": [
    "#df1.Counts.plot(kind='hist')\n",
    "\n",
    "plt.hist(df1.Counts)\n",
    "plt.show()\n"
   ]
  },
  {
   "cell_type": "markdown",
   "metadata": {},
   "source": [
    "- The histogram plot of the data shows that the distribution is slightly skewed to the right. This suggests that the time-series data is non-stationary. "
   ]
  },
  {
   "cell_type": "markdown",
   "metadata": {},
   "source": [
    "B. Perform an augmented Dickey-Fuller test\n",
    "\n",
    "H0: time-series data is non-stationary  \n",
    "H1: time series data is stationary"
   ]
  },
  {
   "cell_type": "code",
   "execution_count": 9,
   "metadata": {},
   "outputs": [
    {
     "name": "stdout",
     "output_type": "stream",
     "text": [
      "ADF Statistic: -1.40\n",
      "p-value: 0.58\n",
      "Critical values:\n",
      "\t10%: -2.584\n",
      "\t1%: -3.506\n",
      "\t5%: -2.895\n"
     ]
    }
   ],
   "source": [
    "from statsmodels.tsa.stattools import adfuller\n",
    "\n",
    "print('ADF Statistic: %.2f' %(adfuller(df1.Counts.values)[0]))\n",
    "print('p-value: %.2f' %(adfuller(df1.Counts.values)[1]))\n",
    "\n",
    "print('Critical values:')\n",
    "for key,value in adfuller(df1.Counts.values)[4].items():\n",
    "    print('\\t%s: %.3f' %(key,value))"
   ]
  },
  {
   "cell_type": "markdown",
   "metadata": {},
   "source": [
    "- Since the test statistic is greater than the critical values, we fail to reject the null hypothesis.This means that the time-series data is non-stationary (i.e., the trend changes with time)"
   ]
  },
  {
   "cell_type": "markdown",
   "metadata": {},
   "source": [
    "C. Time-series decomposition"
   ]
  },
  {
   "cell_type": "code",
   "execution_count": 10,
   "metadata": {},
   "outputs": [
    {
     "data": {
      "image/png": "[encoded data removed]",
      "text/plain": [
       "<Figure size 432x288 with 4 Axes>"
      ]
     },
     "metadata": {},
     "output_type": "display_data"
    }
   ],
   "source": [
    "#decompose time-series data\n",
    "#ref.: Jason Brownlee, \"Introduction to Time Series Forecasting with Python\", Machine Learning Mastery, pg.123\n",
    "from statsmodels.tsa.seasonal import seasonal_decompose\n",
    "\n",
    "result=seasonal_decompose(df1.Counts,model='multiplicative')\n",
    "result.plot()\n",
    "plt.show()"
   ]
  },
  {
   "cell_type": "markdown",
   "metadata": {},
   "source": [
    "- The trend is non-linear\n",
    "- The seasonal component is cyclical \n",
    "- The residual shows periods of high variability in early Feb. and in mid-Mar"
   ]
  },
  {
   "cell_type": "markdown",
   "metadata": {},
   "source": [
    "D. Characterize Counts"
   ]
  },
  {
   "cell_type": "markdown",
   "metadata": {},
   "source": [
    "### Part 2 ‑ Experiment and metrics design\n",
    "\n",
    "The neighboring cities of Gotham and Metropolis have complementary circadian rhythms: on weekdays, Ultimate Gotham is most active at night, and Ultimate Metropolis is most active during the day. On weekends, there is reasonable activity in both cities. However, a toll bridge, with a two way toll, between the two cities causes driver partners to tend to be exclusive to each city. The Ultimate managers of city operations for the two cities have proposed an experiment to encourage driver partners to be available in both cities, by reimbursing all toll costs."
   ]
  },
  {
   "cell_type": "markdown",
   "metadata": {},
   "source": [
    "#### 2.1. What would you choose as the key measure of success of this experiment in encouraging driver partners to serve both cities, and why would you choose this metric?\n",
    "\n",
    "If the experiment is successful: \n",
    "    - (1) more cars will pass through the toll road \n",
    "    - (2) the proportion of cars from each city will change in both cities.  \n",
    "\n",
    "The change in the proportion of cars from each city in both cities will be a good key measure of success. This is a direct indicator of whether the driver partners remain exclusive to each city or not after the toll costs reimbursement program is introduced."
   ]
  },
  {
   "cell_type": "markdown",
   "metadata": {
    "collapsed": true
   },
   "source": [
    "##### 2.2. Describe a practical experiment you would design to compare the effectiveness of the proposed change in relation to the key measure of success. Please provide details on:\n",
    "#### a. how you will implement the experiment  \n",
    "A practical way to implement the experiment is to give each driver a membership card which can be used to admit the driver into the toll road free of charge. Each time the driver enter the toll road, the card is scanned and the entry is recorded. The driver's city of origin is noted. This is a more efficient approach than having the driver to reimburst payments.\n",
    "\n",
    "#### b. what statistical test(s) you will conduct to verify the significance of the observation  \n",
    "I will perform a paired/dependent t-test. I will compare the number of cars passing through the toll roads, as well as the proportion of drivers from each city before and after the toll costs reimbursement program is introduced.\n",
    "\n",
    "#### c. how you would interpret the results and provide recommendations to the city operations team along with any caveats.  \n",
    "I will choose an alpha value of 5%. The null hypothesis would state that the mean difference in the average number of cars passing through the toll roads before and after the program is introduced is zero. The alternative hypothesis would state that the mean difference is greater than zero.\n"
   ]
  },
  {
   "cell_type": "markdown",
   "metadata": {},
   "source": [
    "### Part 3 ‑ Predictive modeling\n",
    "\n",
    "Ultimate is interested in predicting rider retention. To help explore this question, we have provided a sample dataset of a cohort of users who signed up for an Ultimate account in January 2014. The data was pulled several months later; we consider a user retained if they were “active” (i.e. took a trip) in the preceding 30 days. We would like you to use this data set to help understand what factors are the best predictors for retention, and offer suggestions to operationalize those insights to help Ultimate. The data is in the attached file ultimate_data_challenge.json. See below for a detailed description of the dataset. Please include any code you wrote for the analysis and delete the dataset when you have finished with the challenge."
   ]
  },
  {
   "cell_type": "markdown",
   "metadata": {},
   "source": [
    "#### 3.1. Perform any cleaning, exploratory analysis, and/or visualizations to use the provided data for this analysis (a few sentences/plots describing your approach will suffice). What fraction of the observed users were retained?"
   ]
  },
  {
   "cell_type": "markdown",
   "metadata": {
    "collapsed": true
   },
   "source": [
    "#### Answer:\n",
    "\n",
    "- The fraction of observed users that were retained is: 0.6922\n",
    "\n",
    "See below for detailed analysis"
   ]
  },
  {
   "cell_type": "markdown",
   "metadata": {},
   "source": [
    "A. Import and inspect data"
   ]
  },
  {
   "cell_type": "code",
   "execution_count": null,
   "metadata": {
    "collapsed": true,
    "scrolled": true
   },
   "outputs": [],
   "source": [
    "#https://stackoverflow.com/questions/36837663/reading-json-file-as-pandas-dataframe-error\n",
    "import pandas as pd\n",
    "import json\n",
    "\n",
    "#import as json\n",
    "with open('ultimate_data_challenge.json') as f:\n",
    "    data = json.load(f)\n",
    "\n",
    "#convert into pandas\n",
    "df2=pd.DataFrame(data)\n",
    "df2.head()"
   ]
  },
  {
   "cell_type": "code",
   "execution_count": null,
   "metadata": {
    "collapsed": true
   },
   "outputs": [],
   "source": [
    "#change date fields to datetime\n",
    "df2['signup_date']=pd.to_datetime(df2['signup_date'])\n",
    "max(df2['signup_date']) #check"
   ]
  },
  {
   "cell_type": "code",
   "execution_count": null,
   "metadata": {
    "collapsed": true,
    "scrolled": true
   },
   "outputs": [],
   "source": [
    "#inspect data\n",
    "df2.info()"
   ]
  },
  {
   "cell_type": "markdown",
   "metadata": {},
   "source": [
    "- There are missing data for: \n",
    "    - avg_rating_by_driver\n",
    "    - avg_rating_of_driver\n",
    "    - phone"
   ]
  },
  {
   "cell_type": "code",
   "execution_count": null,
   "metadata": {
    "collapsed": true
   },
   "outputs": [],
   "source": [
    "#check the number of cities\n",
    "\n",
    "set(df2.city) "
   ]
  },
  {
   "cell_type": "code",
   "execution_count": null,
   "metadata": {
    "collapsed": true
   },
   "outputs": [],
   "source": [
    "#do counts of number of entries per city\n",
    "\n",
    "df2.city.value_counts().plot(kind='bar')\n",
    "plt.ylabel('Counts')\n",
    "plt.show()"
   ]
  },
  {
   "cell_type": "markdown",
   "metadata": {},
   "source": [
    "- There are three cities"
   ]
  },
  {
   "cell_type": "markdown",
   "metadata": {},
   "source": [
    "B. Add an additional column to indicate if the user is active or not"
   ]
  },
  {
   "cell_type": "code",
   "execution_count": null,
   "metadata": {
    "collapsed": true,
    "scrolled": true
   },
   "outputs": [],
   "source": [
    "\n",
    "df2['Active_or_not']=df2.trips_in_first_30_days>0\n",
    "df2.head() #check\n"
   ]
  },
  {
   "cell_type": "code",
   "execution_count": null,
   "metadata": {
    "collapsed": true
   },
   "outputs": [],
   "source": [
    "#fraction of observed users that were retained:\n",
    "\n",
    "#check if there are nulls\n",
    "df2.Active_or_not.isnull().sum()\n",
    "#there are no null values"
   ]
  },
  {
   "cell_type": "markdown",
   "metadata": {},
   "source": [
    "- Since there are no missing values, data treatment is not needed."
   ]
  },
  {
   "cell_type": "code",
   "execution_count": null,
   "metadata": {
    "collapsed": true
   },
   "outputs": [],
   "source": [
    "#fraction of observed users that were retained:\n",
    "\n",
    "fract_ret=df2[df2.Active_or_not==True]['Active_or_not'].value_counts().sum()/df2.Active_or_not.value_counts().sum()\n",
    "print('The fraction of observed users that were retained is: %s' %(fract_ret))"
   ]
  },
  {
   "cell_type": "markdown",
   "metadata": {},
   "source": [
    "#### 3.2. Build a predictive model to help Ultimate determine whether or not a user will be active in their 6th month on the system. Discuss why you chose your approach, what alternatives you considered, and any concerns you have. How valid is your model? Include any key indicators of model performance."
   ]
  },
  {
   "cell_type": "markdown",
   "metadata": {},
   "source": [
    "#### Answer:\n",
    "\n",
    "- Relevant fields are selected for the model: \n",
    "    - avg_rating_by_driver\n",
    "    - avg_rating_of_driver\n",
    "    - avg_surge \n",
    "    - surge_pct\n",
    "    - trips_in_first_30_days\n",
    "    - ultimate_black_user\n",
    "    - weekday_pct  \n",
    "<br>    \n",
    "- A gradient boosting model is selected because: \n",
    "    - such an ensemble model will yield a more accurate result than an individual model.\n",
    "    - gradient boosting does not require the data to be treated (i.e., normalized or standardized. This makes the \n",
    "    interpretation straightforward.   \n",
    "<br>    \n",
    "- The model yields a 0.99 accuracy both for the training and test datasets. Moreover, the AUC ROC is 0.99. This means that the fraction of true positives much exceed the fraction of the false positives.  \n",
    "<br>  \n",
    "- See below for detailed analysis."
   ]
  },
  {
   "cell_type": "markdown",
   "metadata": {},
   "source": [
    "A. Prepare and Review Data"
   ]
  },
  {
   "cell_type": "code",
   "execution_count": null,
   "metadata": {
    "collapsed": true,
    "scrolled": true
   },
   "outputs": [],
   "source": [
    "#create a new column to show the length of time the user has been a user.\n",
    "#calculate the time-delta between signup_date and last_trip_date\n",
    "#https://stackoverflow.com/questions/22923775/calculate-pandas-dataframe-time-difference-between-two-columns-in-hours-and-minu\n",
    "\n",
    "df2['length_of_service']=(pd.to_datetime(df2.last_trip_date) - pd.to_datetime(df2.signup_date))\n",
    "df2.head() #check"
   ]
  },
  {
   "cell_type": "code",
   "execution_count": null,
   "metadata": {
    "collapsed": true,
    "scrolled": true
   },
   "outputs": [],
   "source": [
    "#add a new column to indicate if user has signed up for at least 5 months.\n",
    "df2['at_least_5_months']=df2.length_of_service.dt.days > 150\n",
    "df2[df2['at_least_5_months']==True] #check\n",
    "df2.head() #check"
   ]
  },
  {
   "cell_type": "code",
   "execution_count": null,
   "metadata": {
    "collapsed": true,
    "scrolled": true
   },
   "outputs": [],
   "source": [
    "#only keep users that have signed up for at least 5 months\n",
    "\n",
    "df_signed_up_at_least_5_mths=df2[df2.at_least_5_months==True]\n",
    "df_signed_up_at_least_5_mths #check"
   ]
  },
  {
   "cell_type": "code",
   "execution_count": null,
   "metadata": {
    "collapsed": true
   },
   "outputs": [],
   "source": [
    "#count number of users wo got into the sixth month\n",
    "df_signed_up_at_least_5_mths.shape[0]"
   ]
  },
  {
   "cell_type": "code",
   "execution_count": null,
   "metadata": {
    "collapsed": true
   },
   "outputs": [],
   "source": [
    "#number of users initially\n",
    "\n",
    "df2.shape[0]"
   ]
  },
  {
   "cell_type": "code",
   "execution_count": null,
   "metadata": {
    "collapsed": true
   },
   "outputs": [],
   "source": [
    "#fraction of users who have signed up for at least 5 months\n",
    "12198/50000"
   ]
  },
  {
   "cell_type": "markdown",
   "metadata": {},
   "source": [
    "- Only 24.4% users have signed up for at least 5 months. "
   ]
  },
  {
   "cell_type": "markdown",
   "metadata": {},
   "source": [
    "***"
   ]
  },
  {
   "cell_type": "code",
   "execution_count": null,
   "metadata": {
    "collapsed": true
   },
   "outputs": [],
   "source": [
    "#select just the data in which the users have signed up for at least 5 months.\n",
    "#do modeling and see which ones remain active."
   ]
  },
  {
   "cell_type": "code",
   "execution_count": null,
   "metadata": {
    "collapsed": true
   },
   "outputs": [],
   "source": [
    "#create a new dataframe with relevant fields.\n",
    "#change data type as needed \n",
    "#plot out the data to visualize\n",
    "\n",
    "df_signed_up_at_least_5_mths_selected=pd.DataFrame(df2.loc[:,['avg_dist', \\\n",
    "                                                'avg_rating_by_driver', \\\n",
    "                                                'avg_rating_of_driver', \\\n",
    "                                                'avg_surge', \\\n",
    "                                                'surge_pct', \\\n",
    "                                                'trips_in_first_30_days', \\\n",
    "                                                'ultimate_black_user', \\\n",
    "                                                'weekday_pct']])\n",
    "df_signed_up_at_least_5_mths_selected.head() #check"
   ]
  },
  {
   "cell_type": "code",
   "execution_count": null,
   "metadata": {
    "collapsed": true,
    "scrolled": true
   },
   "outputs": [],
   "source": [
    "plt.subplots(figsize=(5,3))\n",
    "df_signed_up_at_least_5_mths_selected['avg_dist'].plot(kind='hist', bins=30)\n",
    "plt.title('avg_dist')\n",
    "\n",
    "plt.subplots(figsize=(5,3))\n",
    "df_signed_up_at_least_5_mths_selected['avg_rating_by_driver'].plot(kind='hist', bins=30)\n",
    "plt.title('avg_rating_by_driver')\n",
    "\n",
    "plt.subplots(figsize=(5,3))\n",
    "df_signed_up_at_least_5_mths_selected['avg_rating_of_driver'].plot(kind='hist', bins=30)\n",
    "plt.title('avg_rating_of_driver')\n",
    "\n",
    "plt.subplots(figsize=(5,3))\n",
    "df_signed_up_at_least_5_mths_selected['avg_surge'].plot(kind='hist', bins=30)\n",
    "plt.title('avg_surge')\n",
    "\n",
    "plt.subplots(figsize=(5,3))\n",
    "df_signed_up_at_least_5_mths_selected['surge_pct'].plot(kind='hist', bins=30)\n",
    "plt.title('surge_pct')\n",
    "\n",
    "plt.subplots(figsize=(5,3))\n",
    "df_signed_up_at_least_5_mths_selected['trips_in_first_30_days'].plot(kind='hist', bins=30)\n",
    "plt.title('trips_in_first_30_days')\n",
    "\n",
    "plt.subplots(figsize=(5,3))\n",
    "df_signed_up_at_least_5_mths_selected['ultimate_black_user'].value_counts().plot(kind='bar')\n",
    "plt.title('ultimate_black_user')\n",
    "\n",
    "plt.subplots(figsize=(5,3))\n",
    "df_signed_up_at_least_5_mths_selected['weekday_pct'].plot(kind='hist', bins=30)\n",
    "plt.title('weekday_pct')\n",
    " \n",
    "            \n",
    "plt.tight_layout()\n",
    "plt.show()\n"
   ]
  },
  {
   "cell_type": "markdown",
   "metadata": {},
   "source": [
    "- The above charts show that the following fields show skewed distributions:\n",
    "        - avg_dist: most users travel a short distance\n",
    "        - avg_rating_by_driver: most drivers are rated highly\n",
    "        - avg_rating_of_driver: most drivers are rated highly\n",
    "        - avg_surge: avg_surge are close to 1\n",
    "        - surge_pct: surge_pct are close to 0 \n",
    "        - trips_in_first_30_days: the number of trips in the first 30 days are mostly close to 0\n",
    "        "
   ]
  },
  {
   "cell_type": "markdown",
   "metadata": {},
   "source": [
    "***"
   ]
  },
  {
   "cell_type": "markdown",
   "metadata": {},
   "source": [
    "B. Prepare Data for Modeling"
   ]
  },
  {
   "cell_type": "code",
   "execution_count": null,
   "metadata": {
    "collapsed": true
   },
   "outputs": [],
   "source": [
    "#review data\n",
    "\n",
    "df2.head()"
   ]
  },
  {
   "cell_type": "code",
   "execution_count": null,
   "metadata": {
    "collapsed": true
   },
   "outputs": [],
   "source": [
    "#select only relevant columns\n",
    "df2_selected=df2.loc[:,['avg_dist','avg_rating_by_driver',\\\n",
    "                        'avg_rating_of_driver','avg_surge','city','phone',\\\n",
    "                        'surge_pct','trips_in_first_30_days','ultimate_black_user',\\\n",
    "                       'weekday_pct','at_least_5_months']]"
   ]
  },
  {
   "cell_type": "code",
   "execution_count": null,
   "metadata": {
    "collapsed": true
   },
   "outputs": [],
   "source": [
    "#check data types\n",
    "df2_selected.info()"
   ]
  },
  {
   "cell_type": "code",
   "execution_count": null,
   "metadata": {
    "collapsed": true
   },
   "outputs": [],
   "source": [
    "#convert to the appropriate data types as needed\n",
    "#first, convert to categorical\n",
    "df2_selected.city=df2_selected.city.astype('category')\n",
    "df2_selected.phone=df2_selected.phone.astype('category')\n",
    "\n",
    "#then, convert to dummy variables\n",
    "df2_selected=pd.get_dummies(df2_selected, prefix=['city','phone']); #change to dummy variables\n",
    "df2_selected.info() #check"
   ]
  },
  {
   "cell_type": "code",
   "execution_count": null,
   "metadata": {
    "collapsed": true
   },
   "outputs": [],
   "source": [
    "#remove null values\n",
    "df2_selected.dropna(inplace=True)\n",
    "\n",
    "df2_selected.info() #check"
   ]
  },
  {
   "cell_type": "code",
   "execution_count": null,
   "metadata": {
    "collapsed": true
   },
   "outputs": [],
   "source": [
    "#set X and Y datasets\n",
    "X=df2_selected.iloc[:,:-1].values\n",
    "Y=df2_selected.iloc[:,-1].values\n",
    "\n",
    "#X #check\n",
    "#Y #check"
   ]
  },
  {
   "cell_type": "code",
   "execution_count": null,
   "metadata": {
    "collapsed": true
   },
   "outputs": [],
   "source": [
    "#Apply gradient boosting\n",
    "\n",
    "# Import machine learning modules\n",
    "from sklearn.model_selection import train_test_split\n",
    "\n",
    "from sklearn.ensemble import GradientBoostingClassifier, partial_dependence\n",
    "from sklearn.linear_model import LogisticRegression\n",
    "\n",
    "from sklearn.metrics import roc_auc_score\n",
    "\n",
    "# Split into train and test sets\n",
    "X_train, X_test, y_train, y_test = train_test_split(X, Y,test_size=0.2,random_state=123)\n"
   ]
  },
  {
   "cell_type": "code",
   "execution_count": null,
   "metadata": {
    "collapsed": true
   },
   "outputs": [],
   "source": [
    "gbc=GradientBoostingClassifier()\n",
    "gbc.fit(X_train,y_train)"
   ]
  },
  {
   "cell_type": "code",
   "execution_count": null,
   "metadata": {
    "collapsed": true
   },
   "outputs": [],
   "source": [
    "print('Training score: %.2f' %(gbc.score(X_train,y_train)))\n",
    "print('Test score: %.2f' %(gbc.score(X_test,y_test)))"
   ]
  },
  {
   "cell_type": "markdown",
   "metadata": {},
   "source": [
    "- Both training and test scores are high at 0.99."
   ]
  },
  {
   "cell_type": "code",
   "execution_count": null,
   "metadata": {
    "collapsed": true
   },
   "outputs": [],
   "source": [
    "import seaborn as sns\n",
    "# Plot feature importances\n",
    "plt.title('Normalized Feature Importances')\n",
    "sns.barplot(y=df2_selected.iloc[:,:-1].columns, x=gbc.feature_importances_)\n",
    "plt.show()"
   ]
  },
  {
   "cell_type": "markdown",
   "metadata": {},
   "source": [
    "- The above graph shows that the most important feature is phone_Android, followed by avgdist, as well as weekday_pct. "
   ]
  },
  {
   "cell_type": "code",
   "execution_count": null,
   "metadata": {
    "collapsed": true
   },
   "outputs": [],
   "source": [
    "# Get class probability predictions on test set\n",
    "pred = gbc.predict_proba(X_test)\n",
    "\n",
    "# Only keep the positive class\n",
    "pred = [p[1] for p in pred]\n",
    "\n",
    "# Display AUROC\n",
    "print('Area under the curve: %.2f' %(roc_auc_score(y_test, pred)))\n"
   ]
  },
  {
   "cell_type": "markdown",
   "metadata": {},
   "source": [
    "- The area under the curve is close to one. This means that the number of true positives much exceed the number of false positives."
   ]
  },
  {
   "cell_type": "markdown",
   "metadata": {},
   "source": [
    "#### 3.3. Briefly discuss how Ultimate might leverage the insights gained from the model to improve its longterm rider retention (again, a few sentences will suffice)."
   ]
  },
  {
   "cell_type": "markdown",
   "metadata": {},
   "source": [
    "#### Answer\n",
    "\n",
    "- The two major features are:   \n",
    "    - (1) phone type   \n",
    "        The model reveals that Android user has the greatest influence on the model, despite that the number of iphone \n",
    "        users much exceed the Android user.\n",
    "        Therefore, I **recommend** to work with the UX team to discuss whether the app features are any different between \n",
    "        the two operating systems and whether anything can be improved.\n",
    "    - (2) avg_dist  \n",
    "        The avg_distance is a significant feature. A histogram plot of avg_dist shows that the highest distribution os \n",
    "        users travel less than 10 miles. I **recommend** the Marketing campaign to focus more on local users (i.e., users who travel a \n",
    "        short distance).   \n",
    "        \n",
    "        \n",
    "- See below for additional analysis.\n"
   ]
  },
  {
   "cell_type": "code",
   "execution_count": null,
   "metadata": {
    "collapsed": true
   },
   "outputs": [],
   "source": [
    "# (1) check the distribution of phone users\n",
    "set(df2.phone)"
   ]
  },
  {
   "cell_type": "code",
   "execution_count": null,
   "metadata": {
    "collapsed": true
   },
   "outputs": [],
   "source": [
    "#plot the distribution of phone types\n",
    "df2.phone.value_counts().plot(kind='bar')\n",
    "plt.show()"
   ]
  },
  {
   "cell_type": "markdown",
   "metadata": {},
   "source": [
    "- It is worth noting that the number of iphone users exceed the number of Android users."
   ]
  },
  {
   "cell_type": "code",
   "execution_count": null,
   "metadata": {
    "collapsed": true
   },
   "outputs": [],
   "source": [
    "#(2) avg_dist\n",
    "df2.avg_dist\n",
    "\n",
    "df2.avg_dist.hist(bins=50)\n",
    "plt.show()"
   ]
  },
  {
   "cell_type": "markdown",
   "metadata": {},
   "source": [
    "- It is worth noting that the highest distribution of avg_dist is less than 10 miles."
   ]
  },
  {
   "cell_type": "markdown",
   "metadata": {},
   "source": [
    "#### Data description\n",
    "\n",
    "● city: city this user signed up in  \n",
    "● phone: primary device for this user  \n",
    "● signup_date: date of account registration; in the form ‘YYYY MM DD’  \n",
    "● last_trip_date: the last time this user completed a trip; in the form ‘YYYY MM DD’  \n",
    "● avg_dist: the average distance in miles per trip taken in the first 30 days after signup  \n",
    "● avg_rating_by_driver: the rider’s average rating over all of their trips  \n",
    "● avg_rating_of_driver: the rider’s average rating of their drivers over all of their trips  \n",
    "● surge_pct: the percent of trips taken with surge multiplier > 1  \n",
    "● avg_surge: The average surge multiplier over all of this user’s trips  \n",
    "● trips_in_first_30_days: the number of trips this user took in the first 30 days after signing up  \n",
    "● ultimate_black_user: TRUE if the user took an Ultimate Black in their first 30 days; FALSE otherwise  \n",
    "● weekday_pct: the percent of the user’s trips occurring during a weekday  "
   ]
  }
 ],
 "metadata": {
  "kernelspec": {
   "display_name": "Python 3",
   "language": "python",
   "name": "python3"
  },
  "language_info": {
   "codemirror_mode": {
    "name": "ipython",
    "version": 3
   },
   "file_extension": ".py",
   "mimetype": "text/x-python",
   "name": "python",
   "nbconvert_exporter": "python",
   "pygments_lexer": "ipython3",
   "version": "3.5.4"
  },
  "widgets": {
   "state": {},
   "version": "1.1.2"
  }
 },
 "nbformat": 4,
 "nbformat_minor": 1
}
