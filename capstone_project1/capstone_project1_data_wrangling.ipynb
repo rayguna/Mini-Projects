{
 "cells": [
  {
   "cell_type": "markdown",
   "metadata": {},
   "source": [
    "## Data Wrangling \n",
    "<br/>\n",
    "<b> Submission: </b>  \n",
    "Create a short document (1-2 pages) in your github describing the data wrangling steps that you undertook to clean your capstone project data set. \n",
    "- What kind of cleaning steps did you perform?   \n",
    "- How did you deal with missing values, if any?   \n",
    "- Were there outliers, and how did you decide to handle them?   \n",
    "\n",
    "This document will eventually become part of your milestone report."
   ]
  },
  {
   "cell_type": "markdown",
   "metadata": {},
   "source": [
    "## Capstone Project 1: IR spectral analysis of organic compounds via a machine learning approach"
   ]
  },
  {
   "cell_type": "markdown",
   "metadata": {},
   "source": [
    "***\n",
    "<b> Table of contents </b>   \n",
    "&nbsp;&nbsp; I.   Data overview  \n",
    "&nbsp;&nbsp; II.   Data cleaning   \n",
    "&nbsp;&nbsp; III.  Data treatment  \n",
    "&nbsp;&nbsp; IV. Data analysis  \n",
    "&nbsp;&nbsp; V. Conclusions"
   ]
  },
  {
   "cell_type": "markdown",
   "metadata": {},
   "source": [
    "****\n",
    "### I. Data overview\n",
    "\n",
    "****\n",
    "<b> 1) Project scope: </b>    \n",
    "IR spectroscopy is a versatile and a precise method for chemical identification because every compound exhibits unique IR spectral features; however, the spectral features tend to be ambiguous. A manual interpretation is often time-consuming and may lead to inconsistent, erroneous results. Hence, there is a need for a rapid, accurate, and reproducible alternative to a manual interpretation. \n",
    "\n",
    "The purpose of this program is to automate the IR spectrum interpretation routine of an unknown compound with the aid of the IR spectra database of over 40,000 known compounds available in the NIST database (http://webbook.nist.gov/chemistry/vib-ser/). The <b>goal</b> of this work is to come up with an accurate and reproducible 'guessing' algorithms.\n",
    "\n",
    "<b> 2) Current endeavor </b>  \n",
    "NIST chemistry webbook (http://webbook.nist.gov/chemistry/download/) lists over 40,000 known compounds. The webbook consists of three columns:\n",
    "  - Name: chemical name  \n",
    "  - Formula: chemical formula  \n",
    "  - CAS: a unique identification number (https://support.cas.org/content/chemical-substances/faqs#zero) \n",
    "\n",
    "As a starting point, I am taking this chemicals list and cut down the number of entries to yield the compounds that are relevant to this project. "
   ]
  },
  {
   "cell_type": "markdown",
   "metadata": {},
   "source": []
  },
  {
   "cell_type": "markdown",
   "metadata": {},
   "source": [
    "### II. Data cleaning\n",
    "\n",
    "<b> 1) Remove all entries with null values and remove duplicates </b>  \n",
    "- Below provides an overview of the chemicals list.    "
   ]
  },
  {
   "cell_type": "code",
   "execution_count": 1,
   "metadata": {},
   "outputs": [
    {
     "name": "stdout",
     "output_type": "stream",
     "text": [
      "<class 'pandas.core.frame.DataFrame'>\n",
      "RangeIndex: 72618 entries, 0 to 72617\n",
      "Data columns (total 3 columns):\n",
      "Name       72456 non-null object\n",
      "Formula    70767 non-null object\n",
      "CAS        44657 non-null object\n",
      "dtypes: object(3)\n",
      "memory usage: 1.7+ MB\n"
     ]
    },
    {
     "data": {
      "text/html": [
       "<div>\n",
       "<table border=\"1\" class=\"dataframe\">\n",
       "  <thead>\n",
       "    <tr style=\"text-align: right;\">\n",
       "      <th></th>\n",
       "      <th>Name</th>\n",
       "      <th>Formula</th>\n",
       "      <th>CAS</th>\n",
       "    </tr>\n",
       "  </thead>\n",
       "  <tbody>\n",
       "    <tr>\n",
       "      <th>0</th>\n",
       "      <td>Electron</td>\n",
       "      <td>e-</td>\n",
       "      <td>NaN</td>\n",
       "    </tr>\n",
       "    <tr>\n",
       "      <th>1</th>\n",
       "      <td>Iron(2) oxide anion</td>\n",
       "      <td>FeO-</td>\n",
       "      <td>NaN</td>\n",
       "    </tr>\n",
       "    <tr>\n",
       "      <th>2</th>\n",
       "      <td>AsF3..Cl anion</td>\n",
       "      <td>AsClF3-</td>\n",
       "      <td>NaN</td>\n",
       "    </tr>\n",
       "    <tr>\n",
       "      <th>3</th>\n",
       "      <td>AgH2-</td>\n",
       "      <td>H2Ag-</td>\n",
       "      <td>NaN</td>\n",
       "    </tr>\n",
       "    <tr>\n",
       "      <th>4</th>\n",
       "      <td>HAg(H2)</td>\n",
       "      <td>H3Ag</td>\n",
       "      <td>NaN</td>\n",
       "    </tr>\n",
       "  </tbody>\n",
       "</table>\n",
       "</div>"
      ],
      "text/plain": [
       "                  Name  Formula  CAS\n",
       "0             Electron       e-  NaN\n",
       "1  Iron(2) oxide anion     FeO-  NaN\n",
       "2       AsF3..Cl anion  AsClF3-  NaN\n",
       "3                AgH2-    H2Ag-  NaN\n",
       "4              HAg(H2)     H3Ag  NaN"
      ]
     },
     "execution_count": 1,
     "metadata": {},
     "output_type": "execute_result"
    }
   ],
   "source": [
    "import pandas as pd\n",
    "df=pd.read_csv('data/NIST_chemicals_list.csv', header=0, names=['Name','Formula','CAS'])\n",
    "df.info() #check\n",
    "df.head() #check"
   ]
  },
  {
   "cell_type": "markdown",
   "metadata": {},
   "source": [
    "It is seen that the list consists of 72,618 entries. Certainly, this number is only a fraction of all compounds that have assigned CAS number. According to the chemical abstracts service, the registry currently (January 28th, 2018) has 67,483,385 sequences (https://support.cas.org/content/counter)."
   ]
  },
  {
   "cell_type": "markdown",
   "metadata": {},
   "source": [
    "Since all three columns are essential, the first step is to remove rows entries that contain null values in any of the columns."
   ]
  },
  {
   "cell_type": "code",
   "execution_count": 2,
   "metadata": {},
   "outputs": [
    {
     "name": "stdout",
     "output_type": "stream",
     "text": [
      "<class 'pandas.core.frame.DataFrame'>\n",
      "Int64Index: 44455 entries, 10613 to 55269\n",
      "Data columns (total 3 columns):\n",
      "Name       44455 non-null object\n",
      "Formula    44455 non-null object\n",
      "CAS        44455 non-null object\n",
      "dtypes: object(3)\n",
      "memory usage: 1.4+ MB\n"
     ]
    }
   ],
   "source": [
    "df.dropna(inplace=True) #remove rows that cotain null values in any of the columns\n",
    "df.info() #assess data types and number of entries"
   ]
  },
  {
   "cell_type": "markdown",
   "metadata": {},
   "source": [
    "<b> 2) Check for duplicates in the CAS column </b>  \n",
    "-Since there are no duplicates, set the unique CAS number as the index column"
   ]
  },
  {
   "cell_type": "code",
   "execution_count": 3,
   "metadata": {},
   "outputs": [
    {
     "name": "stdout",
     "output_type": "stream",
     "text": [
      "\n",
      "\n",
      "Number of unique CAS: 44455\n",
      "Number of CAS entries: 44455\n",
      "There are no duplicates\n"
     ]
    },
    {
     "data": {
      "text/html": [
       "<div>\n",
       "<table border=\"1\" class=\"dataframe\">\n",
       "  <thead>\n",
       "    <tr style=\"text-align: right;\">\n",
       "      <th></th>\n",
       "      <th>Name</th>\n",
       "      <th>Formula</th>\n",
       "    </tr>\n",
       "    <tr>\n",
       "      <th>CAS</th>\n",
       "      <th></th>\n",
       "      <th></th>\n",
       "    </tr>\n",
       "  </thead>\n",
       "  <tbody>\n",
       "    <tr>\n",
       "      <th>100-00-5</th>\n",
       "      <td>Benzene, 1-chloro-4-nitro-</td>\n",
       "      <td>C6H4ClNO2</td>\n",
       "    </tr>\n",
       "    <tr>\n",
       "      <th>100-01-6</th>\n",
       "      <td>p-Nitroaniline</td>\n",
       "      <td>C6H6N2O2</td>\n",
       "    </tr>\n",
       "    <tr>\n",
       "      <th>100-02-7</th>\n",
       "      <td>Phenol, 4-nitro-</td>\n",
       "      <td>C6H5NO3</td>\n",
       "    </tr>\n",
       "    <tr>\n",
       "      <th>100043-29-6</th>\n",
       "      <td>2H-Tetrazole</td>\n",
       "      <td>CH2N4</td>\n",
       "    </tr>\n",
       "    <tr>\n",
       "      <th>100046-00-2</th>\n",
       "      <td>2,2,4,4',6,6'-Hexamethylazobenzene N,N'-dioxide</td>\n",
       "      <td>C18H22N2O2</td>\n",
       "    </tr>\n",
       "  </tbody>\n",
       "</table>\n",
       "</div>"
      ],
      "text/plain": [
       "                                                        Name     Formula\n",
       "CAS                                                                     \n",
       "100-00-5                          Benzene, 1-chloro-4-nitro-   C6H4ClNO2\n",
       "100-01-6                                      p-Nitroaniline    C6H6N2O2\n",
       "100-02-7                                    Phenol, 4-nitro-     C6H5NO3\n",
       "100043-29-6                                     2H-Tetrazole       CH2N4\n",
       "100046-00-2  2,2,4,4',6,6'-Hexamethylazobenzene N,N'-dioxide  C18H22N2O2"
      ]
     },
     "execution_count": 3,
     "metadata": {},
     "output_type": "execute_result"
    }
   ],
   "source": [
    "no_unique_cas=len(set(df.CAS))\n",
    "no_cas_entries=len(df.CAS)                  \n",
    "\n",
    "print('\\n')\n",
    "print('Number of unique CAS:', len(set(df.CAS))) \n",
    "print('Number of CAS entries:', len(df.CAS))\n",
    "\n",
    "if no_unique_cas==no_cas_entries:\n",
    "    print('There are no duplicates')\n",
    "else:\n",
    "    print('There are no duplicates')\n",
    "                  \n",
    "df=df.set_index('CAS') #since there are no duplicates, set the unique CAS number as the index column\n",
    "df.head()"
   ]
  },
  {
   "cell_type": "markdown",
   "metadata": {},
   "source": [
    "<b> 3) Check for chemical names duplicates </b>  \n",
    "-There are indeed duplicate names, but occasionally with a different chemical formula. In the exceptional case, a more precise naming and/or chemical formula is required. \n",
    "\n",
    "For instance, the name Tungsten bromide occurs twice with assigned chemical formulae BrW (CAS:74966-78-2) and Br6W (CAS:13701-86-5), respectively. In this case, the one with CAS:13701-86-5 should be more precisely named Tungsten(VI) Bromide to differentiate with the other duplicate.  \n",
    "\n",
    "-As a second example, the entries with duplicate names have exactly the same chemical formula. \n",
    "\n",
    "For instance, the compound named 1,4:5,8-Dimethanonaphthalene, decahydro-9-methyoxy-, stereoisomer with a chemical formula C12H18O is listed as four different CAS numbers: 36197-17-8, 36197-16-7, 82189-44-4, and 82161-26-0. \n",
    "\n",
    "In this case, the name generally specifies that this compound occurs as a stereoisomer.\n",
    "\n",
    "-As a third example, D-Glucose with a chemical formula C6H12O6 is listed twice as two different CAS numbers, 26655-34-5 and 492-62-6.\n",
    "\n",
    "-Nonetheless, the analysis of chemical compounds via FTIR spectroscopy, the precise chemical names or chemical formulae are not required.  \n",
    "\n",
    "-Some explanations/discussions pertaining to this issue can be found here:    \n",
    "- https://en.wikipedia.org/wiki/CAS_Registry_Number  \n",
    "- http://www.chemspider.com/blog/cas-registry-numbers-and-how-confused-we-are.html\n",
    "- https://www.researchgate.net/post/Why_do_some_chemicals_have_multiple_Chemical_Abstracts_Service_CAS_numbers"
   ]
  },
  {
   "cell_type": "code",
   "execution_count": 4,
   "metadata": {},
   "outputs": [
    {
     "data": {
      "text/html": [
       "<div>\n",
       "<table border=\"1\" class=\"dataframe\">\n",
       "  <thead>\n",
       "    <tr style=\"text-align: right;\">\n",
       "      <th></th>\n",
       "      <th>Name</th>\n",
       "      <th>Formula</th>\n",
       "    </tr>\n",
       "    <tr>\n",
       "      <th>CAS</th>\n",
       "      <th></th>\n",
       "      <th></th>\n",
       "    </tr>\n",
       "  </thead>\n",
       "  <tbody>\n",
       "    <tr>\n",
       "      <th>26655-34-5</th>\n",
       "      <td>&amp;#945;-D-Glucose</td>\n",
       "      <td>C6H12O6</td>\n",
       "    </tr>\n",
       "    <tr>\n",
       "      <th>492-62-6</th>\n",
       "      <td>&amp;#945;-D-Glucose</td>\n",
       "      <td>C6H12O6</td>\n",
       "    </tr>\n",
       "    <tr>\n",
       "      <th>10639-26-6</th>\n",
       "      <td>&amp;#945;-Lactose monohydrate</td>\n",
       "      <td>C12H22O11.H2O</td>\n",
       "    </tr>\n",
       "    <tr>\n",
       "      <th>5989-81-1</th>\n",
       "      <td>&amp;#945;-Lactose monohydrate</td>\n",
       "      <td>C12H22O11.H2O</td>\n",
       "    </tr>\n",
       "    <tr>\n",
       "      <th>10208-80-7</th>\n",
       "      <td>&amp;#945;-Muurolene</td>\n",
       "      <td>C15H24</td>\n",
       "    </tr>\n",
       "  </tbody>\n",
       "</table>\n",
       "</div>"
      ],
      "text/plain": [
       "                                  Name        Formula\n",
       "CAS                                                  \n",
       "26655-34-5            &#945;-D-Glucose        C6H12O6\n",
       "492-62-6              &#945;-D-Glucose        C6H12O6\n",
       "10639-26-6  &#945;-Lactose monohydrate  C12H22O11.H2O\n",
       "5989-81-1   &#945;-Lactose monohydrate  C12H22O11.H2O\n",
       "10208-80-7            &#945;-Muurolene         C15H24"
      ]
     },
     "execution_count": 4,
     "metadata": {},
     "output_type": "execute_result"
    }
   ],
   "source": [
    "#Get entries with duplicated names\n",
    "df[df.Name.duplicated(keep=False)].sort_values('Name').head()"
   ]
  },
  {
   "cell_type": "markdown",
   "metadata": {},
   "source": [
    "Note that the symbolic characters such as '&\\#945;' in '&\\#945;-D-Glucose' is a hexadecimal character for symbols and Greek letters. In this case, '&\\#945;' is '&#945;'. "
   ]
  },
  {
   "cell_type": "code",
   "execution_count": 5,
   "metadata": {},
   "outputs": [
    {
     "data": {
      "text/plain": [
       "229"
      ]
     },
     "execution_count": 5,
     "metadata": {},
     "output_type": "execute_result"
    }
   ],
   "source": [
    "#No. of unique values from these duplicates\n",
    "len(set(df.Name[df.Name.duplicated(keep=False)]))"
   ]
  },
  {
   "cell_type": "markdown",
   "metadata": {},
   "source": [
    "Hence, there are 229 species with duplicate names, but unique CAS number."
   ]
  },
  {
   "cell_type": "markdown",
   "metadata": {},
   "source": [
    "<b> 4) Inspect for isomers </b>  \n",
    "-Assuming that each entry is unique (https://en.wikipedia.org/wiki/CAS_Registry_Number, http://support.cas.org/content/chemical-substances), compounds that have the same chemical formula, but different chemical structures, hence different chemical names are referred to as <b>isomers</b> (https://en.wikipedia.org/wiki/Isomer).  \n",
    "\n",
    "Nonetheless, we have seen in section <b> 3a </b> that some of these isomers (i.e., 1,4:5,8-Dimethanonaphthalene, decahydro-9-methyoxy-, stereoisomer) are ambiguously referred to the same names with added adjective, stereoisomer.  \n",
    "\n",
    "Furthermore, some of these entries are pure elements (e.g., Tellurium, Te, with CAS numbers 22541-49-7 and 13494-80-9). In this case, duplicated entries may, but not necessarily refer to different <b>allotropes</b> (https://en.wikipedia.org/wiki/Allotropy). \n",
    "\n",
    "-It is also seen that some of the entries are not assigned with the proper chemical formula (e.g., CAS numbers: 26700-39-0,\n",
    "25988-63-0, 61257-62-3, 26982-20-7, and 61857-39-4)\n"
   ]
  },
  {
   "cell_type": "code",
   "execution_count": 6,
   "metadata": {},
   "outputs": [
    {
     "data": {
      "text/html": [
       "<div>\n",
       "<table border=\"1\" class=\"dataframe\">\n",
       "  <thead>\n",
       "    <tr style=\"text-align: right;\">\n",
       "      <th></th>\n",
       "      <th>Name</th>\n",
       "      <th>Formula</th>\n",
       "    </tr>\n",
       "    <tr>\n",
       "      <th>CAS</th>\n",
       "      <th></th>\n",
       "      <th></th>\n",
       "    </tr>\n",
       "  </thead>\n",
       "  <tbody>\n",
       "    <tr>\n",
       "      <th>26700-39-0</th>\n",
       "      <td>Poly-L-lysine hydrobromide&amp;middot;phenylalanin...</td>\n",
       "      <td>()n</td>\n",
       "    </tr>\n",
       "    <tr>\n",
       "      <th>25988-63-0</th>\n",
       "      <td>Poly-L-lysine hydrobromide</td>\n",
       "      <td>()n</td>\n",
       "    </tr>\n",
       "    <tr>\n",
       "      <th>61257-62-3</th>\n",
       "      <td>Poly-L-lysine hydrobromide&amp;middot;alanine copo...</td>\n",
       "      <td>()n</td>\n",
       "    </tr>\n",
       "    <tr>\n",
       "      <th>26982-20-7</th>\n",
       "      <td>Poly-L-arginine hydrochloride</td>\n",
       "      <td>()n</td>\n",
       "    </tr>\n",
       "    <tr>\n",
       "      <th>61857-39-4</th>\n",
       "      <td>Poly-L-histidine hydrochloride</td>\n",
       "      <td>()n</td>\n",
       "    </tr>\n",
       "  </tbody>\n",
       "</table>\n",
       "</div>"
      ],
      "text/plain": [
       "                                                         Name Formula\n",
       "CAS                                                                  \n",
       "26700-39-0  Poly-L-lysine hydrobromide&middot;phenylalanin...     ()n\n",
       "25988-63-0                         Poly-L-lysine hydrobromide     ()n\n",
       "61257-62-3  Poly-L-lysine hydrobromide&middot;alanine copo...     ()n\n",
       "26982-20-7                      Poly-L-arginine hydrochloride     ()n\n",
       "61857-39-4                     Poly-L-histidine hydrochloride     ()n"
      ]
     },
     "execution_count": 6,
     "metadata": {},
     "output_type": "execute_result"
    }
   ],
   "source": [
    "#Get entries with duplicated chemical formulae\n",
    "df[df.Formula.duplicated(keep=False)].sort_values('Formula').head()"
   ]
  },
  {
   "cell_type": "code",
   "execution_count": 7,
   "metadata": {},
   "outputs": [
    {
     "data": {
      "text/plain": [
       "5251"
      ]
     },
     "execution_count": 7,
     "metadata": {},
     "output_type": "execute_result"
    }
   ],
   "source": [
    "#No. of unique values from these duplicates\n",
    "len(set(df.Formula[df.Formula.duplicated(keep=False)]))"
   ]
  },
  {
   "cell_type": "markdown",
   "metadata": {},
   "source": [
    "Hence, there are 5,251 species with duplicated formula (i.e., 5,251 compounds having <b>isomers</b>, <b>allotropes</b>, and possibly different purities)."
   ]
  },
  {
   "cell_type": "markdown",
   "metadata": {},
   "source": [
    "<b> 5) Retain compounds that contain organic elements </b>  \n",
    "Due to the overwhelming amount of information, the current interest is to assess a certain classes of organic compounds that contain the following elements: C, H, O, N, S, P, F, Cl, Br, and I. By eliminating the rest of the compounds, but those that contain these elements we will eliminate some of the ambiguities that we encountered above. \n",
    "\n",
    "To cut down the number of entries to just those that contain the elements listed above, the steps are as follows:\n",
    "\n",
    "&nbsp;&nbsp; i) Generate a dictionary of periodic table of elements  \n",
    "&nbsp;&nbsp; ii) Get unique elements present in each compound  \n",
    "&nbsp;&nbsp; iii) Remove compounds that contain inorganic elements"
   ]
  },
  {
   "cell_type": "markdown",
   "metadata": {},
   "source": [
    "<b> i) Using NIST periodic table of elements, generate a dictionary of periodic table of elements </b>  \n",
    "-Notice that there are 120 elements instead of 118. The two additional elements are the hydrogen isotopes (i.e., D and T)"
   ]
  },
  {
   "cell_type": "code",
   "execution_count": 8,
   "metadata": {
    "scrolled": true
   },
   "outputs": [
    {
     "name": "stdout",
     "output_type": "stream",
     "text": [
      "['H', 'D', 'T', 'He', 'Li', 'Be', 'B', 'C', 'N', 'O', 'F', 'Ne', 'Na', 'Mg', 'Al', 'Si', 'P', 'S', 'Cl', 'Ar', 'K', 'Ca', 'Sc', 'Ti', 'V', 'Cr', 'Mn', 'Fe', 'Co', 'Ni', 'Cu', 'Zn', 'Ga', 'Ge', 'As', 'Se', 'Br', 'Kr', 'Rb', 'Sr', 'Y', 'Zr', 'Nb', 'Mo', 'Tc', 'Ru', 'Rh', 'Pd', 'Ag', 'Cd', 'In', 'Sn', 'Sb', 'Te', 'I', 'Xe', 'Cs', 'Ba', 'La', 'Ce', 'Pr', 'Nd', 'Pm', 'Sm', 'Eu', 'Gd', 'Tb', 'Dy', 'Ho', 'Er', 'Tm', 'Yb', 'Lu', 'Hf', 'Ta', 'W', 'Re', 'Os', 'Ir', 'Pt', 'Au', 'Hg', 'Tl', 'Pb', 'Bi', 'Po', 'At', 'Rn', 'Fr', 'Ra', 'Ac', 'Th', 'Pa', 'U', 'Np', 'Pu', 'Am', 'Cm', 'Bk', 'Cf', 'Es', 'Fm', 'Md', 'No', 'Lr', 'Rf', 'Db', 'Sg', 'Bh', 'Hs', 'Mt', 'Ds', 'Rg', 'Cn', 'Nh', 'Fl', 'Mc', 'Lv', 'Ts', 'Og']\n",
      "\n",
      "\n",
      "Number of dictinct elements in the dictionary: 120\n"
     ]
    }
   ],
   "source": [
    "import common as common\n",
    "# 1-1a. Call out function\n",
    "\n",
    "file_name = 'data/NIST_periodic_table.txt'\n",
    "periodic_table = common.create_periodic_table(file_name)\n",
    "\n",
    "# 1-1b.Test out dictionary by calling out the element keys\n",
    "print(list(periodic_table.keys()))\n",
    "print(\"\\n\")\n",
    "print(\"Number of dictinct elements in the dictionary:\", len(periodic_table))"
   ]
  },
  {
   "cell_type": "markdown",
   "metadata": {},
   "source": [
    "![periodic_table](data/Periodic_Table_wiki.png)\n"
   ]
  },
  {
   "cell_type": "markdown",
   "metadata": {},
   "source": [
    "<b> (ii) Get unique elements present in the compound </b>"
   ]
  },
  {
   "cell_type": "code",
   "execution_count": 9,
   "metadata": {},
   "outputs": [
    {
     "data": {
      "text/html": [
       "<div>\n",
       "<table border=\"1\" class=\"dataframe\">\n",
       "  <thead>\n",
       "    <tr style=\"text-align: right;\">\n",
       "      <th></th>\n",
       "      <th>Name</th>\n",
       "      <th>Formula</th>\n",
       "      <th>Elements</th>\n",
       "    </tr>\n",
       "    <tr>\n",
       "      <th>CAS</th>\n",
       "      <th></th>\n",
       "      <th></th>\n",
       "      <th></th>\n",
       "    </tr>\n",
       "  </thead>\n",
       "  <tbody>\n",
       "    <tr>\n",
       "      <th>100-00-5</th>\n",
       "      <td>Benzene, 1-chloro-4-nitro-</td>\n",
       "      <td>C6H4ClNO2</td>\n",
       "      <td>[C, H, Cl, N, O]</td>\n",
       "    </tr>\n",
       "    <tr>\n",
       "      <th>100-01-6</th>\n",
       "      <td>p-Nitroaniline</td>\n",
       "      <td>C6H6N2O2</td>\n",
       "      <td>[C, H, N, O]</td>\n",
       "    </tr>\n",
       "    <tr>\n",
       "      <th>100-02-7</th>\n",
       "      <td>Phenol, 4-nitro-</td>\n",
       "      <td>C6H5NO3</td>\n",
       "      <td>[C, H, N, O]</td>\n",
       "    </tr>\n",
       "    <tr>\n",
       "      <th>100043-29-6</th>\n",
       "      <td>2H-Tetrazole</td>\n",
       "      <td>CH2N4</td>\n",
       "      <td>[C, H, N]</td>\n",
       "    </tr>\n",
       "    <tr>\n",
       "      <th>100046-00-2</th>\n",
       "      <td>2,2,4,4',6,6'-Hexamethylazobenzene N,N'-dioxide</td>\n",
       "      <td>C18H22N2O2</td>\n",
       "      <td>[C, H, N, O]</td>\n",
       "    </tr>\n",
       "  </tbody>\n",
       "</table>\n",
       "</div>"
      ],
      "text/plain": [
       "                                                        Name     Formula  \\\n",
       "CAS                                                                        \n",
       "100-00-5                          Benzene, 1-chloro-4-nitro-   C6H4ClNO2   \n",
       "100-01-6                                      p-Nitroaniline    C6H6N2O2   \n",
       "100-02-7                                    Phenol, 4-nitro-     C6H5NO3   \n",
       "100043-29-6                                     2H-Tetrazole       CH2N4   \n",
       "100046-00-2  2,2,4,4',6,6'-Hexamethylazobenzene N,N'-dioxide  C18H22N2O2   \n",
       "\n",
       "                     Elements  \n",
       "CAS                            \n",
       "100-00-5     [C, H, Cl, N, O]  \n",
       "100-01-6         [C, H, N, O]  \n",
       "100-02-7         [C, H, N, O]  \n",
       "100043-29-6         [C, H, N]  \n",
       "100046-00-2      [C, H, N, O]  "
      ]
     },
     "execution_count": 9,
     "metadata": {},
     "output_type": "execute_result"
    }
   ],
   "source": [
    "df_el=common.extract_unique_elements(df)\n",
    "df_el.head()"
   ]
  },
  {
   "cell_type": "code",
   "execution_count": 10,
   "metadata": {},
   "outputs": [
    {
     "data": {
      "text/plain": [
       "Name        44455\n",
       "Formula     44455\n",
       "Elements    44455\n",
       "dtype: int64"
      ]
     },
     "execution_count": 10,
     "metadata": {},
     "output_type": "execute_result"
    }
   ],
   "source": [
    "df_el.count()"
   ]
  },
  {
   "cell_type": "markdown",
   "metadata": {},
   "source": [
    "<b> (iii) Extract only compounds that contain any of the following C, H ,O ,N, S, P, F, Cl, Br, and I elements and store into a new df</b>"
   ]
  },
  {
   "cell_type": "code",
   "execution_count": 11,
   "metadata": {},
   "outputs": [
    {
     "name": "stdout",
     "output_type": "stream",
     "text": [
      "Work in progress. Please wait...\n",
      "Work is completed. \n"
     ]
    }
   ],
   "source": [
    "#specify elements in the elements list\n",
    "#NOTE: need to make the code more efficient by avoiding the use of a for loop\n",
    "\n",
    "elements_list=['C','H','O','N','S','P','F','Cl','Br','I'] #specify the list of elements\n",
    "df_el_filt=common.shorten_df_by_elements_list(df_el, elements_list,'any') #Filter compounds by specifying list of acceptable elements"
   ]
  },
  {
   "cell_type": "code",
   "execution_count": 12,
   "metadata": {},
   "outputs": [
    {
     "data": {
      "text/html": [
       "<div>\n",
       "<table border=\"1\" class=\"dataframe\">\n",
       "  <thead>\n",
       "    <tr style=\"text-align: right;\">\n",
       "      <th></th>\n",
       "      <th>Name</th>\n",
       "      <th>Formula</th>\n",
       "      <th>Elements</th>\n",
       "    </tr>\n",
       "    <tr>\n",
       "      <th>CAS</th>\n",
       "      <th></th>\n",
       "      <th></th>\n",
       "      <th></th>\n",
       "    </tr>\n",
       "  </thead>\n",
       "  <tbody>\n",
       "    <tr>\n",
       "      <th>100-00-5</th>\n",
       "      <td>Benzene, 1-chloro-4-nitro-</td>\n",
       "      <td>C6H4ClNO2</td>\n",
       "      <td>[C, H, Cl, N, O]</td>\n",
       "    </tr>\n",
       "    <tr>\n",
       "      <th>100-01-6</th>\n",
       "      <td>p-Nitroaniline</td>\n",
       "      <td>C6H6N2O2</td>\n",
       "      <td>[C, H, N, O]</td>\n",
       "    </tr>\n",
       "    <tr>\n",
       "      <th>100-02-7</th>\n",
       "      <td>Phenol, 4-nitro-</td>\n",
       "      <td>C6H5NO3</td>\n",
       "      <td>[C, H, N, O]</td>\n",
       "    </tr>\n",
       "    <tr>\n",
       "      <th>100043-29-6</th>\n",
       "      <td>2H-Tetrazole</td>\n",
       "      <td>CH2N4</td>\n",
       "      <td>[C, H, N]</td>\n",
       "    </tr>\n",
       "    <tr>\n",
       "      <th>100046-00-2</th>\n",
       "      <td>2,2,4,4',6,6'-Hexamethylazobenzene N,N'-dioxide</td>\n",
       "      <td>C18H22N2O2</td>\n",
       "      <td>[C, H, N, O]</td>\n",
       "    </tr>\n",
       "  </tbody>\n",
       "</table>\n",
       "</div>"
      ],
      "text/plain": [
       "                                                        Name     Formula  \\\n",
       "CAS                                                                        \n",
       "100-00-5                          Benzene, 1-chloro-4-nitro-   C6H4ClNO2   \n",
       "100-01-6                                      p-Nitroaniline    C6H6N2O2   \n",
       "100-02-7                                    Phenol, 4-nitro-     C6H5NO3   \n",
       "100043-29-6                                     2H-Tetrazole       CH2N4   \n",
       "100046-00-2  2,2,4,4',6,6'-Hexamethylazobenzene N,N'-dioxide  C18H22N2O2   \n",
       "\n",
       "                     Elements  \n",
       "CAS                            \n",
       "100-00-5     [C, H, Cl, N, O]  \n",
       "100-01-6         [C, H, N, O]  \n",
       "100-02-7         [C, H, N, O]  \n",
       "100043-29-6         [C, H, N]  \n",
       "100046-00-2      [C, H, N, O]  "
      ]
     },
     "execution_count": 12,
     "metadata": {},
     "output_type": "execute_result"
    }
   ],
   "source": [
    "df_el_filt.head() #check"
   ]
  },
  {
   "cell_type": "markdown",
   "metadata": {},
   "source": [
    "<b> 6) Generate a new column containing the molecular weight of each compound </b>"
   ]
  },
  {
   "cell_type": "markdown",
   "metadata": {},
   "source": [
    "(i) Calculate molecular weight and add to a new column"
   ]
  },
  {
   "cell_type": "code",
   "execution_count": 13,
   "metadata": {
    "scrolled": true
   },
   "outputs": [
    {
     "data": {
      "text/html": [
       "<div>\n",
       "<table border=\"1\" class=\"dataframe\">\n",
       "  <thead>\n",
       "    <tr style=\"text-align: right;\">\n",
       "      <th></th>\n",
       "      <th>Name</th>\n",
       "      <th>Formula</th>\n",
       "      <th>Elements</th>\n",
       "      <th>Mw</th>\n",
       "    </tr>\n",
       "    <tr>\n",
       "      <th>CAS</th>\n",
       "      <th></th>\n",
       "      <th></th>\n",
       "      <th></th>\n",
       "      <th></th>\n",
       "    </tr>\n",
       "  </thead>\n",
       "  <tbody>\n",
       "    <tr>\n",
       "      <th>100-00-5</th>\n",
       "      <td>Benzene, 1-chloro-4-nitro-</td>\n",
       "      <td>C6H4ClNO2</td>\n",
       "      <td>[C, H, Cl, N, O]</td>\n",
       "      <td>156.993056</td>\n",
       "    </tr>\n",
       "    <tr>\n",
       "      <th>100-01-6</th>\n",
       "      <td>p-Nitroaniline</td>\n",
       "      <td>C6H6N2O2</td>\n",
       "      <td>[C, H, N, O]</td>\n",
       "      <td>138.042927</td>\n",
       "    </tr>\n",
       "    <tr>\n",
       "      <th>100-02-7</th>\n",
       "      <td>Phenol, 4-nitro-</td>\n",
       "      <td>C6H5NO3</td>\n",
       "      <td>[C, H, N, O]</td>\n",
       "      <td>139.026943</td>\n",
       "    </tr>\n",
       "    <tr>\n",
       "      <th>100043-29-6</th>\n",
       "      <td>2H-Tetrazole</td>\n",
       "      <td>CH2N4</td>\n",
       "      <td>[C, H, N]</td>\n",
       "      <td>70.027946</td>\n",
       "    </tr>\n",
       "    <tr>\n",
       "      <th>100046-00-2</th>\n",
       "      <td>2,2,4,4',6,6'-Hexamethylazobenzene N,N'-dioxide</td>\n",
       "      <td>C18H22N2O2</td>\n",
       "      <td>[C, H, N, O]</td>\n",
       "      <td>298.168128</td>\n",
       "    </tr>\n",
       "  </tbody>\n",
       "</table>\n",
       "</div>"
      ],
      "text/plain": [
       "                                                        Name     Formula  \\\n",
       "CAS                                                                        \n",
       "100-00-5                          Benzene, 1-chloro-4-nitro-   C6H4ClNO2   \n",
       "100-01-6                                      p-Nitroaniline    C6H6N2O2   \n",
       "100-02-7                                    Phenol, 4-nitro-     C6H5NO3   \n",
       "100043-29-6                                     2H-Tetrazole       CH2N4   \n",
       "100046-00-2  2,2,4,4',6,6'-Hexamethylazobenzene N,N'-dioxide  C18H22N2O2   \n",
       "\n",
       "                     Elements          Mw  \n",
       "CAS                                        \n",
       "100-00-5     [C, H, Cl, N, O]  156.993056  \n",
       "100-01-6         [C, H, N, O]  138.042927  \n",
       "100-02-7         [C, H, N, O]  139.026943  \n",
       "100043-29-6         [C, H, N]   70.027946  \n",
       "100046-00-2      [C, H, N, O]  298.168128  "
      ]
     },
     "execution_count": 13,
     "metadata": {},
     "output_type": "execute_result"
    }
   ],
   "source": [
    "#calculate molecular weight\n",
    "df_el_filt_mw=common.calc_molec_weight(df_el_filt,periodic_table)\n",
    "df_el_filt_mw.head() #check"
   ]
  },
  {
   "cell_type": "markdown",
   "metadata": {},
   "source": [
    "(ii) Inspect Mw distribution"
   ]
  },
  {
   "cell_type": "code",
   "execution_count": 14,
   "metadata": {},
   "outputs": [
    {
     "data": {
      "image/png": "[encoded data removed]",
      "text/plain": [
       "<matplotlib.figure.Figure at 0x1b669e6d7f0>"
      ]
     },
     "metadata": {},
     "output_type": "display_data"
    }
   ],
   "source": [
    "import matplotlib.pyplot as plt\n",
    "\n",
    "fig, (ax, ax2) = plt.subplots(nrows=2, figsize=(8,5))\n",
    "\n",
    "df_el_filt_mw.plot(kind='box', ax=ax, vert=False)\n",
    "df_el_filt_mw.plot(kind='hist',bins=100, ax=ax2)\n",
    "\n",
    "plt.show()"
   ]
  },
  {
   "cell_type": "code",
   "execution_count": 15,
   "metadata": {},
   "outputs": [
    {
     "data": {
      "text/html": [
       "<div>\n",
       "<table border=\"1\" class=\"dataframe\">\n",
       "  <thead>\n",
       "    <tr style=\"text-align: right;\">\n",
       "      <th></th>\n",
       "      <th>Mw</th>\n",
       "    </tr>\n",
       "  </thead>\n",
       "  <tbody>\n",
       "    <tr>\n",
       "      <th>count</th>\n",
       "      <td>37159.000000</td>\n",
       "    </tr>\n",
       "    <tr>\n",
       "      <th>mean</th>\n",
       "      <td>201.577782</td>\n",
       "    </tr>\n",
       "    <tr>\n",
       "      <th>std</th>\n",
       "      <td>107.026227</td>\n",
       "    </tr>\n",
       "    <tr>\n",
       "      <th>min</th>\n",
       "      <td>0.000000</td>\n",
       "    </tr>\n",
       "    <tr>\n",
       "      <th>25%</th>\n",
       "      <td>136.125201</td>\n",
       "    </tr>\n",
       "    <tr>\n",
       "      <th>50%</th>\n",
       "      <td>179.094629</td>\n",
       "    </tr>\n",
       "    <tr>\n",
       "      <th>75%</th>\n",
       "      <td>241.922361</td>\n",
       "    </tr>\n",
       "    <tr>\n",
       "      <th>max</th>\n",
       "      <td>4214.114381</td>\n",
       "    </tr>\n",
       "  </tbody>\n",
       "</table>\n",
       "</div>"
      ],
      "text/plain": [
       "                 Mw\n",
       "count  37159.000000\n",
       "mean     201.577782\n",
       "std      107.026227\n",
       "min        0.000000\n",
       "25%      136.125201\n",
       "50%      179.094629\n",
       "75%      241.922361\n",
       "max     4214.114381"
      ]
     },
     "execution_count": 15,
     "metadata": {},
     "output_type": "execute_result"
    }
   ],
   "source": [
    "df_el_filt_mw.describe()"
   ]
  },
  {
   "cell_type": "markdown",
   "metadata": {},
   "source": [
    "(ii) The Mw distribution looks suspicious (i.e., the minimum molecular weight is 0 and two of the compounds have molecular weights that are above 2000). Further inspection is needed. "
   ]
  },
  {
   "cell_type": "code",
   "execution_count": 16,
   "metadata": {},
   "outputs": [
    {
     "data": {
      "text/html": [
       "<div>\n",
       "<table border=\"1\" class=\"dataframe\">\n",
       "  <thead>\n",
       "    <tr style=\"text-align: right;\">\n",
       "      <th></th>\n",
       "      <th>Name</th>\n",
       "      <th>Formula</th>\n",
       "      <th>Elements</th>\n",
       "      <th>Mw</th>\n",
       "    </tr>\n",
       "    <tr>\n",
       "      <th>CAS</th>\n",
       "      <th></th>\n",
       "      <th></th>\n",
       "      <th></th>\n",
       "      <th></th>\n",
       "    </tr>\n",
       "  </thead>\n",
       "  <tbody>\n",
       "    <tr>\n",
       "      <th>61257-62-3</th>\n",
       "      <td>Poly-L-lysine hydrobromide&amp;middot;alanine copo...</td>\n",
       "      <td>(</td>\n",
       "      <td>[]</td>\n",
       "      <td>0.000000</td>\n",
       "    </tr>\n",
       "    <tr>\n",
       "      <th>61857-39-4</th>\n",
       "      <td>Poly-L-histidine hydrochloride</td>\n",
       "      <td>(</td>\n",
       "      <td>[]</td>\n",
       "      <td>0.000000</td>\n",
       "    </tr>\n",
       "    <tr>\n",
       "      <th>26982-20-7</th>\n",
       "      <td>Poly-L-arginine hydrochloride</td>\n",
       "      <td>(</td>\n",
       "      <td>[]</td>\n",
       "      <td>0.000000</td>\n",
       "    </tr>\n",
       "    <tr>\n",
       "      <th>26700-39-0</th>\n",
       "      <td>Poly-L-lysine hydrobromide&amp;middot;phenylalanin...</td>\n",
       "      <td>(</td>\n",
       "      <td>[]</td>\n",
       "      <td>0.000000</td>\n",
       "    </tr>\n",
       "    <tr>\n",
       "      <th>25988-63-0</th>\n",
       "      <td>Poly-L-lysine hydrobromide</td>\n",
       "      <td>(</td>\n",
       "      <td>[]</td>\n",
       "      <td>0.000000</td>\n",
       "    </tr>\n",
       "    <tr>\n",
       "      <th>12408-02-5</th>\n",
       "      <td>Hydrogen cation</td>\n",
       "      <td>H+</td>\n",
       "      <td>[H]</td>\n",
       "      <td>1.007825</td>\n",
       "    </tr>\n",
       "    <tr>\n",
       "      <th>12385-13-6</th>\n",
       "      <td>Hydrogen atom</td>\n",
       "      <td>H</td>\n",
       "      <td>[H]</td>\n",
       "      <td>1.007825</td>\n",
       "    </tr>\n",
       "    <tr>\n",
       "      <th>12184-88-2</th>\n",
       "      <td>Hydrogen anion</td>\n",
       "      <td>H-</td>\n",
       "      <td>[H]</td>\n",
       "      <td>1.007825</td>\n",
       "    </tr>\n",
       "    <tr>\n",
       "      <th>1333-74-0</th>\n",
       "      <td>Hydrogen</td>\n",
       "      <td>H2</td>\n",
       "      <td>[H]</td>\n",
       "      <td>2.015650</td>\n",
       "    </tr>\n",
       "    <tr>\n",
       "      <th>12184-90-6</th>\n",
       "      <td>Hydrogen cation</td>\n",
       "      <td>H2+</td>\n",
       "      <td>[H]</td>\n",
       "      <td>2.015650</td>\n",
       "    </tr>\n",
       "  </tbody>\n",
       "</table>\n",
       "</div>"
      ],
      "text/plain": [
       "                                                         Name Formula  \\\n",
       "CAS                                                                     \n",
       "61257-62-3  Poly-L-lysine hydrobromide&middot;alanine copo...       (   \n",
       "61857-39-4                     Poly-L-histidine hydrochloride       (   \n",
       "26982-20-7                      Poly-L-arginine hydrochloride       (   \n",
       "26700-39-0  Poly-L-lysine hydrobromide&middot;phenylalanin...       (   \n",
       "25988-63-0                         Poly-L-lysine hydrobromide       (   \n",
       "12408-02-5                                    Hydrogen cation      H+   \n",
       "12385-13-6                                      Hydrogen atom       H   \n",
       "12184-88-2                                     Hydrogen anion      H-   \n",
       "1333-74-0                                            Hydrogen      H2   \n",
       "12184-90-6                                    Hydrogen cation     H2+   \n",
       "\n",
       "           Elements        Mw  \n",
       "CAS                            \n",
       "61257-62-3       []  0.000000  \n",
       "61857-39-4       []  0.000000  \n",
       "26982-20-7       []  0.000000  \n",
       "26700-39-0       []  0.000000  \n",
       "25988-63-0       []  0.000000  \n",
       "12408-02-5      [H]  1.007825  \n",
       "12385-13-6      [H]  1.007825  \n",
       "12184-88-2      [H]  1.007825  \n",
       "1333-74-0       [H]  2.015650  \n",
       "12184-90-6      [H]  2.015650  "
      ]
     },
     "execution_count": 16,
     "metadata": {},
     "output_type": "execute_result"
    }
   ],
   "source": [
    "df_el_filt_mw[df_el_filt_mw.Mw<=50].sort_values('Mw').head(10)"
   ]
  },
  {
   "cell_type": "code",
   "execution_count": 17,
   "metadata": {},
   "outputs": [
    {
     "data": {
      "text/html": [
       "<div>\n",
       "<table border=\"1\" class=\"dataframe\">\n",
       "  <thead>\n",
       "    <tr style=\"text-align: right;\">\n",
       "      <th></th>\n",
       "      <th>Name</th>\n",
       "      <th>Formula</th>\n",
       "      <th>Elements</th>\n",
       "      <th>Mw</th>\n",
       "    </tr>\n",
       "    <tr>\n",
       "      <th>CAS</th>\n",
       "      <th></th>\n",
       "      <th></th>\n",
       "      <th></th>\n",
       "      <th></th>\n",
       "    </tr>\n",
       "  </thead>\n",
       "  <tbody>\n",
       "    <tr>\n",
       "      <th>500016-91-1</th>\n",
       "      <td>28,28-diethyl-23,33-didocosyltetrapentacontane</td>\n",
       "      <td>C103H208</td>\n",
       "      <td>[C, H]</td>\n",
       "      <td>1445.627607</td>\n",
       "    </tr>\n",
       "    <tr>\n",
       "      <th>3810-74-0</th>\n",
       "      <td>Streptomycin sulfate</td>\n",
       "      <td>C42H84N14O36S3</td>\n",
       "      <td>[C, H, N, O, S]</td>\n",
       "      <td>1456.433479</td>\n",
       "    </tr>\n",
       "    <tr>\n",
       "      <th>147771-02-6</th>\n",
       "      <td>C60F44 fullerene radical</td>\n",
       "      <td>C60F44</td>\n",
       "      <td>[C, F]</td>\n",
       "      <td>1555.929739</td>\n",
       "    </tr>\n",
       "    <tr>\n",
       "      <th>143471-96-9</th>\n",
       "      <td>C60F46 fullerene radical</td>\n",
       "      <td>C60F46</td>\n",
       "      <td>[C, F]</td>\n",
       "      <td>1593.926545</td>\n",
       "    </tr>\n",
       "    <tr>\n",
       "      <th>143471-98-1</th>\n",
       "      <td>C60F48 radical</td>\n",
       "      <td>C60F48</td>\n",
       "      <td>[C, F]</td>\n",
       "      <td>1631.923352</td>\n",
       "    </tr>\n",
       "    <tr>\n",
       "      <th>28746-04-5</th>\n",
       "      <td>Hexadecabromophthalocyanine</td>\n",
       "      <td>C32H2Br16N8</td>\n",
       "      <td>[C, H, Br, N]</td>\n",
       "      <td>1760.733644</td>\n",
       "    </tr>\n",
       "    <tr>\n",
       "      <th>143472-00-8</th>\n",
       "      <td>C70F52 fullerene radical</td>\n",
       "      <td>C70F52</td>\n",
       "      <td>[C, F]</td>\n",
       "      <td>1827.916964</td>\n",
       "    </tr>\n",
       "    <tr>\n",
       "      <th>143472-02-0</th>\n",
       "      <td>C70F54 fullerene radical</td>\n",
       "      <td>C70F54</td>\n",
       "      <td>[C, F]</td>\n",
       "      <td>1865.913771</td>\n",
       "    </tr>\n",
       "    <tr>\n",
       "      <th>120660-76-6</th>\n",
       "      <td>Galvinoxyl hydrogalvinoxyl (6:1) radical</td>\n",
       "      <td>C203H288O14</td>\n",
       "      <td>[C, H, O]</td>\n",
       "      <td>2950.182414</td>\n",
       "    </tr>\n",
       "    <tr>\n",
       "      <th>120660-77-7</th>\n",
       "      <td>Galvinoxyl hydrogalvinoxyl (9:1) radical</td>\n",
       "      <td>C290H411O20</td>\n",
       "      <td>[C, H, O]</td>\n",
       "      <td>4214.114381</td>\n",
       "    </tr>\n",
       "  </tbody>\n",
       "</table>\n",
       "</div>"
      ],
      "text/plain": [
       "                                                       Name         Formula  \\\n",
       "CAS                                                                           \n",
       "500016-91-1  28,28-diethyl-23,33-didocosyltetrapentacontane        C103H208   \n",
       "3810-74-0                              Streptomycin sulfate  C42H84N14O36S3   \n",
       "147771-02-6                        C60F44 fullerene radical          C60F44   \n",
       "143471-96-9                        C60F46 fullerene radical          C60F46   \n",
       "143471-98-1                                  C60F48 radical          C60F48   \n",
       "28746-04-5                      Hexadecabromophthalocyanine     C32H2Br16N8   \n",
       "143472-00-8                        C70F52 fullerene radical          C70F52   \n",
       "143472-02-0                        C70F54 fullerene radical          C70F54   \n",
       "120660-76-6        Galvinoxyl hydrogalvinoxyl (6:1) radical     C203H288O14   \n",
       "120660-77-7        Galvinoxyl hydrogalvinoxyl (9:1) radical     C290H411O20   \n",
       "\n",
       "                    Elements           Mw  \n",
       "CAS                                        \n",
       "500016-91-1           [C, H]  1445.627607  \n",
       "3810-74-0    [C, H, N, O, S]  1456.433479  \n",
       "147771-02-6           [C, F]  1555.929739  \n",
       "143471-96-9           [C, F]  1593.926545  \n",
       "143471-98-1           [C, F]  1631.923352  \n",
       "28746-04-5     [C, H, Br, N]  1760.733644  \n",
       "143472-00-8           [C, F]  1827.916964  \n",
       "143472-02-0           [C, F]  1865.913771  \n",
       "120660-76-6        [C, H, O]  2950.182414  \n",
       "120660-77-7        [C, H, O]  4214.114381  "
      ]
     },
     "execution_count": 17,
     "metadata": {},
     "output_type": "execute_result"
    }
   ],
   "source": [
    "df_el_filt_mw[df_el_filt_mw.Mw>=600].sort_values('Mw').tail(10)\n",
    "#It is seen that there are pure elements compounds, which are in gaseous state at ambient condition, except for 'C'.\n",
    "#Thus, the next step is to eliminate all of the pure elements compounds, except for 'C'"
   ]
  },
  {
   "cell_type": "markdown",
   "metadata": {},
   "source": [
    "It is seen that:\n",
    "- Some of these compounds don't have the proper molecular formulae\n",
    "- Others are ions and radicals\n",
    "- In the next section, we will shorten the chemicals list even further by eliminating these problematic compounds\n"
   ]
  },
  {
   "cell_type": "markdown",
   "metadata": {},
   "source": [
    "<b> 7) Inspect and shorten the list even more, as needed. </b>"
   ]
  },
  {
   "cell_type": "code",
   "execution_count": 18,
   "metadata": {},
   "outputs": [
    {
     "data": {
      "text/plain": [
       "(37159, 4)"
      ]
     },
     "execution_count": 18,
     "metadata": {},
     "output_type": "execute_result"
    }
   ],
   "source": [
    "df_el_filt_mw.shape #check original list"
   ]
  },
  {
   "cell_type": "code",
   "execution_count": 19,
   "metadata": {
    "collapsed": true,
    "scrolled": true
   },
   "outputs": [],
   "source": [
    "#Eliminate compounds that contain pure elements 'H', 'O', 'N',and halides. \n",
    "#Retain 'C', 'S', and 'P', as they can form pure elements at ambient conditions.\n",
    "#Filter a list: \n",
    "#https://stackoverflow.com/questions/32280556/how-to-filter-a-dataframe-column-of-lists-for-those-that-contain-a-certain-item\n",
    "df_el_filt_mw_filt1=df_el_filt_mw[(~df_el_filt_mw.Elements.apply(lambda x: ['H'] == x)) & \\\n",
    "                  (~df_el_filt_mw.Elements.apply(lambda x: ['O'] == x)) & \\\n",
    "                  (~df_el_filt_mw.Elements.apply(lambda x: ['N'] == x)) & \\\n",
    "                  (~df_el_filt_mw.Elements.apply(lambda x: ['F'] == x)) & \\\n",
    "                  (~df_el_filt_mw.Elements.apply(lambda x: ['Cl'] == x)) & \\\n",
    "                  (~df_el_filt_mw.Elements.apply(lambda x: ['Br'] == x)) & \\\n",
    "                  (~df_el_filt_mw.Elements.apply(lambda x: ['I'] == x))]\n",
    "#This command does not eliminate selected elements!!! Please check!!!\n",
    "\n",
    "#eliminate compounds that contain ions (i.e., contains plus, '\\+', or minus, '-' sign in the formula)\n",
    "#eliminate compounds that contain radicals (i.e., the chemical name contains the keyword radical)\n",
    "#eliminate compounds that contain the prefix- 'poly'\n",
    "df_el_filt_mw_filt2=df_el_filt_mw_filt1[(~df_el_filt_mw_filt1.Formula.str.contains('-')) & \\\n",
    "                                       (~df_el_filt_mw_filt1.Formula.str.contains('\\+')) & \\\n",
    "                                       (~df_el_filt_mw_filt1.Name.str.contains('radical')) & \\\n",
    "                                       (~df_el_filt_mw_filt1.Name.str.contains('Poly'))]\n",
    "                                       #the '+' filter requires the symbol'\\' to work to convert to raw text \n",
    "    \n",
    "df_el_filt_mw_filt3=df_el_filt_mw_filt2[~(df_el_filt_mw_filt2.Mw==0.0000000)] #delete ones with Mw=0"
   ]
  },
  {
   "cell_type": "code",
   "execution_count": 20,
   "metadata": {},
   "outputs": [
    {
     "data": {
      "text/html": [
       "<div>\n",
       "<table border=\"1\" class=\"dataframe\">\n",
       "  <thead>\n",
       "    <tr style=\"text-align: right;\">\n",
       "      <th></th>\n",
       "      <th>Name</th>\n",
       "      <th>Formula</th>\n",
       "      <th>Elements</th>\n",
       "      <th>Mw</th>\n",
       "    </tr>\n",
       "    <tr>\n",
       "      <th>CAS</th>\n",
       "      <th></th>\n",
       "      <th></th>\n",
       "      <th></th>\n",
       "      <th></th>\n",
       "    </tr>\n",
       "  </thead>\n",
       "  <tbody>\n",
       "    <tr>\n",
       "      <th>7782-40-3</th>\n",
       "      <td>Diamond</td>\n",
       "      <td>C</td>\n",
       "      <td>[C]</td>\n",
       "      <td>12.000000</td>\n",
       "    </tr>\n",
       "    <tr>\n",
       "      <th>7782-42-5</th>\n",
       "      <td>Graphite</td>\n",
       "      <td>C</td>\n",
       "      <td>[C]</td>\n",
       "      <td>12.000000</td>\n",
       "    </tr>\n",
       "    <tr>\n",
       "      <th>7440-44-0</th>\n",
       "      <td>Carbon</td>\n",
       "      <td>C</td>\n",
       "      <td>[C]</td>\n",
       "      <td>12.000000</td>\n",
       "    </tr>\n",
       "    <tr>\n",
       "      <th>82600-58-6</th>\n",
       "      <td>Carbon</td>\n",
       "      <td>C</td>\n",
       "      <td>[C]</td>\n",
       "      <td>12.000000</td>\n",
       "    </tr>\n",
       "    <tr>\n",
       "      <th>3315-37-5</th>\n",
       "      <td>Methylidyne</td>\n",
       "      <td>CH</td>\n",
       "      <td>[C, H]</td>\n",
       "      <td>13.007825</td>\n",
       "    </tr>\n",
       "  </tbody>\n",
       "</table>\n",
       "</div>"
      ],
      "text/plain": [
       "                   Name Formula Elements         Mw\n",
       "CAS                                                \n",
       "7782-40-3       Diamond       C      [C]  12.000000\n",
       "7782-42-5      Graphite       C      [C]  12.000000\n",
       "7440-44-0        Carbon       C      [C]  12.000000\n",
       "82600-58-6       Carbon       C      [C]  12.000000\n",
       "3315-37-5   Methylidyne      CH   [C, H]  13.007825"
      ]
     },
     "execution_count": 20,
     "metadata": {},
     "output_type": "execute_result"
    }
   ],
   "source": [
    "df_el_filt_mw_filt3.sort_values('Mw').head() #check"
   ]
  },
  {
   "cell_type": "code",
   "execution_count": 21,
   "metadata": {},
   "outputs": [
    {
     "data": {
      "text/plain": [
       "(36321, 4)"
      ]
     },
     "execution_count": 21,
     "metadata": {},
     "output_type": "execute_result"
    }
   ],
   "source": [
    "df_el_filt_mw_filt3.shape\n",
    "#df_el_filt_mw[df_el_filt_mw.Elements==['H']]"
   ]
  },
  {
   "cell_type": "markdown",
   "metadata": {},
   "source": [
    "### IV. Data analysis of the final list"
   ]
  },
  {
   "cell_type": "markdown",
   "metadata": {},
   "source": [
    "The final DataFrame is called: df_el_filt_mw_filt3\n",
    "> Let's look at the molecular weight distribution\n",
    "\n",
    "> Let's classify into various functional groups\n",
    "\n",
    "> classify by isomers\n",
    "\n",
    "> classify by same CAS or same chemical names"
   ]
  },
  {
   "cell_type": "markdown",
   "metadata": {},
   "source": [
    "<b> 1) Assess molecular weight distribution of compounds </b>  "
   ]
  },
  {
   "cell_type": "code",
   "execution_count": 22,
   "metadata": {},
   "outputs": [
    {
     "data": {
      "image/png": "[encoded data removed]",
      "text/plain": [
       "<matplotlib.figure.Figure at 0x1b669e6fb38>"
      ]
     },
     "metadata": {},
     "output_type": "display_data"
    }
   ],
   "source": [
    "#molecular weight distributions\n",
    "\n",
    "fig, (ax, ax2) = plt.subplots(nrows=2, figsize=(8,5))\n",
    "\n",
    "df_el_filt_mw_filt3.plot(kind='box', ax=ax, vert=False)\n",
    "df_el_filt_mw_filt3.plot(kind='hist',bins=100, ax=ax2)\n",
    "\n",
    "plt.show()\n",
    "\n",
    "#The final list contains a smooth distribution. The extreme outliers are now contained.\n",
    "#most Mw's concentrate around 160.\n",
    "#A skewed distribution."
   ]
  },
  {
   "cell_type": "code",
   "execution_count": 23,
   "metadata": {},
   "outputs": [
    {
     "name": "stdout",
     "output_type": "stream",
     "text": [
      "<class 'pandas.core.frame.DataFrame'>\n",
      "Index: 36321 entries, 100-00-5 to 999-90-6\n",
      "Data columns (total 4 columns):\n",
      "Name        36321 non-null object\n",
      "Formula     36321 non-null object\n",
      "Elements    36321 non-null object\n",
      "Mw          36321 non-null float64\n",
      "dtypes: float64(1), object(3)\n",
      "memory usage: 1.4+ MB\n"
     ]
    }
   ],
   "source": [
    "df_el_filt_mw_filt3.info()"
   ]
  },
  {
   "cell_type": "code",
   "execution_count": 24,
   "metadata": {},
   "outputs": [
    {
     "data": {
      "text/html": [
       "<div>\n",
       "<table border=\"1\" class=\"dataframe\">\n",
       "  <thead>\n",
       "    <tr style=\"text-align: right;\">\n",
       "      <th></th>\n",
       "      <th>Mw</th>\n",
       "    </tr>\n",
       "  </thead>\n",
       "  <tbody>\n",
       "    <tr>\n",
       "      <th>count</th>\n",
       "      <td>36321.000000</td>\n",
       "    </tr>\n",
       "    <tr>\n",
       "      <th>mean</th>\n",
       "      <td>203.490409</td>\n",
       "    </tr>\n",
       "    <tr>\n",
       "      <th>std</th>\n",
       "      <td>101.626605</td>\n",
       "    </tr>\n",
       "    <tr>\n",
       "      <th>min</th>\n",
       "      <td>12.000000</td>\n",
       "    </tr>\n",
       "    <tr>\n",
       "      <th>25%</th>\n",
       "      <td>139.038176</td>\n",
       "    </tr>\n",
       "    <tr>\n",
       "      <th>50%</th>\n",
       "      <td>180.187801</td>\n",
       "    </tr>\n",
       "    <tr>\n",
       "      <th>75%</th>\n",
       "      <td>242.260966</td>\n",
       "    </tr>\n",
       "    <tr>\n",
       "      <th>max</th>\n",
       "      <td>1760.733644</td>\n",
       "    </tr>\n",
       "  </tbody>\n",
       "</table>\n",
       "</div>"
      ],
      "text/plain": [
       "                 Mw\n",
       "count  36321.000000\n",
       "mean     203.490409\n",
       "std      101.626605\n",
       "min       12.000000\n",
       "25%      139.038176\n",
       "50%      180.187801\n",
       "75%      242.260966\n",
       "max     1760.733644"
      ]
     },
     "execution_count": 24,
     "metadata": {},
     "output_type": "execute_result"
    }
   ],
   "source": [
    "df_el_filt_mw_filt3.describe()"
   ]
  },
  {
   "cell_type": "markdown",
   "metadata": {},
   "source": [
    "<b> 2) Classify isomers/allotropes (i.e., the same chemical formula, but different chemical structure, and hence have different chemical names) </b>  \n",
    "-The final DataFrame contains duplicated chemical formulae, as well as duplicated chemicals names; however, the CAS numbers are unique.\n"
   ]
  },
  {
   "cell_type": "code",
   "execution_count": 25,
   "metadata": {},
   "outputs": [
    {
     "data": {
      "text/html": [
       "<div>\n",
       "<table border=\"1\" class=\"dataframe\">\n",
       "  <thead>\n",
       "    <tr style=\"text-align: right;\">\n",
       "      <th></th>\n",
       "      <th>Name</th>\n",
       "      <th>Formula</th>\n",
       "      <th>Elements</th>\n",
       "      <th>Mw</th>\n",
       "    </tr>\n",
       "    <tr>\n",
       "      <th>CAS</th>\n",
       "      <th></th>\n",
       "      <th></th>\n",
       "      <th></th>\n",
       "      <th></th>\n",
       "    </tr>\n",
       "  </thead>\n",
       "  <tbody>\n",
       "    <tr>\n",
       "      <th>68322-97-4</th>\n",
       "      <td>BrBrO</td>\n",
       "      <td>Br2O</td>\n",
       "      <td>[Br, O]</td>\n",
       "      <td>173.831590</td>\n",
       "    </tr>\n",
       "    <tr>\n",
       "      <th>21308-80-5</th>\n",
       "      <td>BrOBr</td>\n",
       "      <td>Br2O</td>\n",
       "      <td>[Br, O]</td>\n",
       "      <td>173.831590</td>\n",
       "    </tr>\n",
       "    <tr>\n",
       "      <th>13172-31-1</th>\n",
       "      <td>Disulfur dibromide</td>\n",
       "      <td>Br2S2</td>\n",
       "      <td>[Br, S]</td>\n",
       "      <td>221.780818</td>\n",
       "    </tr>\n",
       "    <tr>\n",
       "      <th>71677-14-0</th>\n",
       "      <td>SSBr2</td>\n",
       "      <td>Br2S2</td>\n",
       "      <td>[Br, S]</td>\n",
       "      <td>221.780818</td>\n",
       "    </tr>\n",
       "    <tr>\n",
       "      <th>151920-98-8</th>\n",
       "      <td>ClBrO</td>\n",
       "      <td>BrClO</td>\n",
       "      <td>[Br, Cl, O]</td>\n",
       "      <td>129.882105</td>\n",
       "    </tr>\n",
       "    <tr>\n",
       "      <th>151920-97-7</th>\n",
       "      <td>BrClO</td>\n",
       "      <td>BrClO</td>\n",
       "      <td>[Br, Cl, O]</td>\n",
       "      <td>129.882105</td>\n",
       "    </tr>\n",
       "    <tr>\n",
       "      <th>13536-70-4</th>\n",
       "      <td>BrNO2</td>\n",
       "      <td>BrNO2</td>\n",
       "      <td>[Br, N, O]</td>\n",
       "      <td>124.911241</td>\n",
       "    </tr>\n",
       "    <tr>\n",
       "      <th>96607-02-2</th>\n",
       "      <td>t-BrONO</td>\n",
       "      <td>BrNO2</td>\n",
       "      <td>[Br, N, O]</td>\n",
       "      <td>124.911241</td>\n",
       "    </tr>\n",
       "    <tr>\n",
       "      <th>67177-47-3</th>\n",
       "      <td>BrOO</td>\n",
       "      <td>BrO2</td>\n",
       "      <td>[Br, O]</td>\n",
       "      <td>110.908167</td>\n",
       "    </tr>\n",
       "    <tr>\n",
       "      <th>21255-83-4</th>\n",
       "      <td>OBrO</td>\n",
       "      <td>BrO2</td>\n",
       "      <td>[Br, O]</td>\n",
       "      <td>110.908167</td>\n",
       "    </tr>\n",
       "  </tbody>\n",
       "</table>\n",
       "</div>"
      ],
      "text/plain": [
       "                           Name Formula     Elements          Mw\n",
       "CAS                                                             \n",
       "68322-97-4                BrBrO    Br2O      [Br, O]  173.831590\n",
       "21308-80-5                BrOBr    Br2O      [Br, O]  173.831590\n",
       "13172-31-1   Disulfur dibromide   Br2S2      [Br, S]  221.780818\n",
       "71677-14-0                SSBr2   Br2S2      [Br, S]  221.780818\n",
       "151920-98-8               ClBrO   BrClO  [Br, Cl, O]  129.882105\n",
       "151920-97-7               BrClO   BrClO  [Br, Cl, O]  129.882105\n",
       "13536-70-4                BrNO2   BrNO2   [Br, N, O]  124.911241\n",
       "96607-02-2              t-BrONO   BrNO2   [Br, N, O]  124.911241\n",
       "67177-47-3                 BrOO    BrO2      [Br, O]  110.908167\n",
       "21255-83-4                 OBrO    BrO2      [Br, O]  110.908167"
      ]
     },
     "execution_count": 25,
     "metadata": {},
     "output_type": "execute_result"
    }
   ],
   "source": [
    "#Get entries with duplicated chemical formulae\n",
    "df_el_filt_mw_filt3[df_el_filt_mw_filt3.Formula.duplicated(keep=False)].sort_values('Formula').head(10)\n"
   ]
  },
  {
   "cell_type": "code",
   "execution_count": 26,
   "metadata": {},
   "outputs": [
    {
     "data": {
      "text/html": [
       "<div>\n",
       "<table border=\"1\" class=\"dataframe\">\n",
       "  <thead>\n",
       "    <tr style=\"text-align: right;\">\n",
       "      <th></th>\n",
       "      <th>Name</th>\n",
       "      <th>Formula</th>\n",
       "      <th>Elements</th>\n",
       "      <th>Mw</th>\n",
       "    </tr>\n",
       "    <tr>\n",
       "      <th>CAS</th>\n",
       "      <th></th>\n",
       "      <th></th>\n",
       "      <th></th>\n",
       "      <th></th>\n",
       "    </tr>\n",
       "  </thead>\n",
       "  <tbody>\n",
       "    <tr>\n",
       "      <th>26655-34-5</th>\n",
       "      <td>&amp;#945;-D-Glucose</td>\n",
       "      <td>C6H12O6</td>\n",
       "      <td>[C, H, O]</td>\n",
       "      <td>180.063388</td>\n",
       "    </tr>\n",
       "    <tr>\n",
       "      <th>492-62-6</th>\n",
       "      <td>&amp;#945;-D-Glucose</td>\n",
       "      <td>C6H12O6</td>\n",
       "      <td>[C, H, O]</td>\n",
       "      <td>180.063388</td>\n",
       "    </tr>\n",
       "    <tr>\n",
       "      <th>5989-81-1</th>\n",
       "      <td>&amp;#945;-Lactose monohydrate</td>\n",
       "      <td>C12H22O11.H2O</td>\n",
       "      <td>[C, H, O, H, O]</td>\n",
       "      <td>360.126776</td>\n",
       "    </tr>\n",
       "    <tr>\n",
       "      <th>10639-26-6</th>\n",
       "      <td>&amp;#945;-Lactose monohydrate</td>\n",
       "      <td>C12H22O11.H2O</td>\n",
       "      <td>[C, H, O, H, O]</td>\n",
       "      <td>360.126776</td>\n",
       "    </tr>\n",
       "    <tr>\n",
       "      <th>10208-80-7</th>\n",
       "      <td>&amp;#945;-Muurolene</td>\n",
       "      <td>C15H24</td>\n",
       "      <td>[C, H]</td>\n",
       "      <td>204.187801</td>\n",
       "    </tr>\n",
       "    <tr>\n",
       "      <th>31983-22-9</th>\n",
       "      <td>&amp;#945;-Muurolene</td>\n",
       "      <td>C15H24</td>\n",
       "      <td>[C, H]</td>\n",
       "      <td>204.187801</td>\n",
       "    </tr>\n",
       "    <tr>\n",
       "      <th>124191-33-9</th>\n",
       "      <td>&amp;#945;-n-Propyldecalin</td>\n",
       "      <td>C13H24</td>\n",
       "      <td>[C, H]</td>\n",
       "      <td>180.187801</td>\n",
       "    </tr>\n",
       "    <tr>\n",
       "      <th>91972-45-1</th>\n",
       "      <td>&amp;#945;-n-Propyldecalin</td>\n",
       "      <td>C13H24</td>\n",
       "      <td>[C, H]</td>\n",
       "      <td>180.187801</td>\n",
       "    </tr>\n",
       "    <tr>\n",
       "      <th>2268-32-8</th>\n",
       "      <td>(E)-1-Chloro-2-fluoroethene</td>\n",
       "      <td>C2H2ClF</td>\n",
       "      <td>[C, H, Cl, F]</td>\n",
       "      <td>79.982906</td>\n",
       "    </tr>\n",
       "    <tr>\n",
       "      <th>30860-28-7</th>\n",
       "      <td>(E)-1-Chloro-2-fluoroethene</td>\n",
       "      <td>C2HClF2</td>\n",
       "      <td>[C, H, Cl, F]</td>\n",
       "      <td>97.973484</td>\n",
       "    </tr>\n",
       "  </tbody>\n",
       "</table>\n",
       "</div>"
      ],
      "text/plain": [
       "                                    Name        Formula         Elements  \\\n",
       "CAS                                                                        \n",
       "26655-34-5              &#945;-D-Glucose        C6H12O6        [C, H, O]   \n",
       "492-62-6                &#945;-D-Glucose        C6H12O6        [C, H, O]   \n",
       "5989-81-1     &#945;-Lactose monohydrate  C12H22O11.H2O  [C, H, O, H, O]   \n",
       "10639-26-6    &#945;-Lactose monohydrate  C12H22O11.H2O  [C, H, O, H, O]   \n",
       "10208-80-7              &#945;-Muurolene         C15H24           [C, H]   \n",
       "31983-22-9              &#945;-Muurolene         C15H24           [C, H]   \n",
       "124191-33-9       &#945;-n-Propyldecalin         C13H24           [C, H]   \n",
       "91972-45-1        &#945;-n-Propyldecalin         C13H24           [C, H]   \n",
       "2268-32-8    (E)-1-Chloro-2-fluoroethene        C2H2ClF    [C, H, Cl, F]   \n",
       "30860-28-7   (E)-1-Chloro-2-fluoroethene        C2HClF2    [C, H, Cl, F]   \n",
       "\n",
       "                     Mw  \n",
       "CAS                      \n",
       "26655-34-5   180.063388  \n",
       "492-62-6     180.063388  \n",
       "5989-81-1    360.126776  \n",
       "10639-26-6   360.126776  \n",
       "10208-80-7   204.187801  \n",
       "31983-22-9   204.187801  \n",
       "124191-33-9  180.187801  \n",
       "91972-45-1   180.187801  \n",
       "2268-32-8     79.982906  \n",
       "30860-28-7    97.973484  "
      ]
     },
     "execution_count": 26,
     "metadata": {},
     "output_type": "execute_result"
    }
   ],
   "source": [
    "#get entries with duplicated chemical names\n",
    "df_el_filt_mw_filt3[df_el_filt_mw_filt3.Name.duplicated(keep=False)].sort_values('Name').head(10)\n"
   ]
  },
  {
   "cell_type": "code",
   "execution_count": 27,
   "metadata": {},
   "outputs": [
    {
     "name": "stdout",
     "output_type": "stream",
     "text": [
      "Number of compounds in the final DataFrame: 36321\n",
      "Number of compounds with unique CAS number in the final DataFrame: 36321\n"
     ]
    }
   ],
   "source": [
    "#check to ensure that the CAS numbers are unique\n",
    "print('Number of compounds in the final DataFrame:', len(df_el_filt_mw_filt3))\n",
    "print('Number of compounds with unique CAS number in the final DataFrame:', len(set(df_el_filt_mw_filt3.index)))"
   ]
  },
  {
   "cell_type": "markdown",
   "metadata": {},
   "source": [
    "Since the two numbers are equal, it is concluded that the compounds in the final DataFrame have unique CAS numbers."
   ]
  },
  {
   "cell_type": "markdown",
   "metadata": {},
   "source": [
    "<b> 3) Save the final list to csv </b>"
   ]
  },
  {
   "cell_type": "code",
   "execution_count": 28,
   "metadata": {
    "collapsed": true
   },
   "outputs": [],
   "source": [
    "df_el_filt_mw_filt3.to_csv('NIST_chemicals_list_organic.csv')"
   ]
  },
  {
   "cell_type": "markdown",
   "metadata": {},
   "source": [
    "### V. Conclusions"
   ]
  },
  {
   "cell_type": "markdown",
   "metadata": {},
   "source": [
    "The following main data wrangling steps have been undertaken:\n",
    "- Shortened the NIST chemical list from 72,618 to 36,416\n",
    "- All rows that contain null entries in any of the three columns are deleted\n",
    "- Only the list of compounds that are non ions, non radicals, and non-polymeric are retained\n",
    "- Only the list of organic compounds containing the following elements: C, H, O, N, S, P, F, Cl, Br, and I are retained\n",
    "- Each entry in the final DataFrame has a unique CAS number, but there are duplicate names and isomers and allotropes\n",
    "- The shortened DataFrame has been exported into a csv file called NIST_chemicals_list_organic\n",
    "- The information within this final DataFrame will be used to download the IR spectra from the NIST database (http://webbook.nist.gov/chemistry/vib-ser/)\n",
    "- The IR spectra will be analyzed for its spectral features to aid in automating the IR spectrum interpretation routine of an unknown compound "
   ]
  }
 ],
 "metadata": {
  "kernelspec": {
   "display_name": "Python 3",
   "language": "python",
   "name": "python3"
  },
  "language_info": {
   "codemirror_mode": {
    "name": "ipython",
    "version": 3
   },
   "file_extension": ".py",
   "mimetype": "text/x-python",
   "name": "python",
   "nbconvert_exporter": "python",
   "pygments_lexer": "ipython3",
   "version": "3.5.4"
  }
 },
 "nbformat": 4,
 "nbformat_minor": 1
}
