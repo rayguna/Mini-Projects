{
 "cells": [
  {
   "cell_type": "markdown",
   "metadata": {},
   "source": [
    "## Inferential Statistics\n",
    "<br/>\n",
    "At this point, you have obtained the data set for your Capstone project, cleaned and wrangled it into a form that's ready for analysis. It's now time to apply the inferential statistics techniques you have learned to explore the data. For example, are there variables that are particularly significant in terms of explaining the answer to your project question? Are there strong correlations between pairs of independent variables, or between an independent and a dependent variable? \n",
    " \n",
    "<b> Submission: </b>  \n",
    "Write a short report (1-2 pages) on the inferential statistics steps you performed and your findings. Check this report into your github and submit a link to it. Eventually, this report can be incorporated into your Milestone report."
   ]
  },
  {
   "cell_type": "markdown",
   "metadata": {},
   "source": [
    "## Capstone Project 1: IR spectral analysis of organic compounds via machine learning approach"
   ]
  },
  {
   "cell_type": "markdown",
   "metadata": {},
   "source": [
    "***\n",
    "<b> Table of contents </b>   \n",
    "&nbsp;&nbsp; I.   Data preparation  \n",
    "&nbsp;&nbsp; II.  Difference between two curves  \n",
    "&nbsp;&nbsp; III.  Molecular weight distribution analysis  \n",
    "&nbsp;&nbsp; IV. Conclusions"
   ]
  },
  {
   "cell_type": "markdown",
   "metadata": {},
   "source": [
    "****\n",
    "### I. Data preparation\n"
   ]
  },
  {
   "cell_type": "markdown",
   "metadata": {},
   "source": [
    "<b> 1) Import NIST_chemicals_list_organic.csv that was prepared earlier and check </b>"
   ]
  },
  {
   "cell_type": "code",
   "execution_count": 2,
   "metadata": {},
   "outputs": [
    {
     "data": {
      "text/html": [
       "<div>\n",
       "<table border=\"1\" class=\"dataframe\">\n",
       "  <thead>\n",
       "    <tr style=\"text-align: right;\">\n",
       "      <th></th>\n",
       "      <th>Name</th>\n",
       "      <th>Formula</th>\n",
       "      <th>Elements</th>\n",
       "      <th>Mw</th>\n",
       "    </tr>\n",
       "    <tr>\n",
       "      <th>CAS</th>\n",
       "      <th></th>\n",
       "      <th></th>\n",
       "      <th></th>\n",
       "      <th></th>\n",
       "    </tr>\n",
       "  </thead>\n",
       "  <tbody>\n",
       "    <tr>\n",
       "      <th>100-00-5</th>\n",
       "      <td>Benzene, 1-chloro-4-nitro-</td>\n",
       "      <td>C6H4ClNO2</td>\n",
       "      <td>['C', 'H', 'Cl', 'N', 'O']</td>\n",
       "      <td>156.993056</td>\n",
       "    </tr>\n",
       "    <tr>\n",
       "      <th>100-01-6</th>\n",
       "      <td>p-Nitroaniline</td>\n",
       "      <td>C6H6N2O2</td>\n",
       "      <td>['C', 'H', 'N', 'O']</td>\n",
       "      <td>138.042927</td>\n",
       "    </tr>\n",
       "    <tr>\n",
       "      <th>100-02-7</th>\n",
       "      <td>Phenol, 4-nitro-</td>\n",
       "      <td>C6H5NO3</td>\n",
       "      <td>['C', 'H', 'N', 'O']</td>\n",
       "      <td>139.026943</td>\n",
       "    </tr>\n",
       "    <tr>\n",
       "      <th>100043-29-6</th>\n",
       "      <td>2H-Tetrazole</td>\n",
       "      <td>CH2N4</td>\n",
       "      <td>['C', 'H', 'N']</td>\n",
       "      <td>70.027946</td>\n",
       "    </tr>\n",
       "    <tr>\n",
       "      <th>100046-00-2</th>\n",
       "      <td>2,2,4,4',6,6'-Hexamethylazobenzene N,N'-dioxide</td>\n",
       "      <td>C18H22N2O2</td>\n",
       "      <td>['C', 'H', 'N', 'O']</td>\n",
       "      <td>298.168128</td>\n",
       "    </tr>\n",
       "  </tbody>\n",
       "</table>\n",
       "</div>"
      ],
      "text/plain": [
       "                                                        Name     Formula  \\\n",
       "CAS                                                                        \n",
       "100-00-5                          Benzene, 1-chloro-4-nitro-   C6H4ClNO2   \n",
       "100-01-6                                      p-Nitroaniline    C6H6N2O2   \n",
       "100-02-7                                    Phenol, 4-nitro-     C6H5NO3   \n",
       "100043-29-6                                     2H-Tetrazole       CH2N4   \n",
       "100046-00-2  2,2,4,4',6,6'-Hexamethylazobenzene N,N'-dioxide  C18H22N2O2   \n",
       "\n",
       "                               Elements          Mw  \n",
       "CAS                                                  \n",
       "100-00-5     ['C', 'H', 'Cl', 'N', 'O']  156.993056  \n",
       "100-01-6           ['C', 'H', 'N', 'O']  138.042927  \n",
       "100-02-7           ['C', 'H', 'N', 'O']  139.026943  \n",
       "100043-29-6             ['C', 'H', 'N']   70.027946  \n",
       "100046-00-2        ['C', 'H', 'N', 'O']  298.168128  "
      ]
     },
     "execution_count": 2,
     "metadata": {},
     "output_type": "execute_result"
    }
   ],
   "source": [
    "import pandas as pd\n",
    "\n",
    "df=pd.read_csv('NIST_chemicals_list_organic.csv',index_col=['CAS']) #set CAS column as index \n",
    "df.head()"
   ]
  },
  {
   "cell_type": "markdown",
   "metadata": {},
   "source": [
    "<b> 2) Randomly extract 50 samples from the list and inspect the Mw with that published on NIST website to validate </b>"
   ]
  },
  {
   "cell_type": "code",
   "execution_count": 3,
   "metadata": {},
   "outputs": [
    {
     "data": {
      "text/plain": [
       "['93-98-1',\n",
       " '730-46-1',\n",
       " '5348-74-3',\n",
       " '106-02-5',\n",
       " '474083-29-9',\n",
       " '106-49-0',\n",
       " '13048-17-4',\n",
       " '7307-03-1',\n",
       " '5240-32-4']"
      ]
     },
     "execution_count": 3,
     "metadata": {},
     "output_type": "execute_result"
    }
   ],
   "source": [
    "list_random=df.sample(50).index.tolist() #convert the CAS column into a list\n",
    "list_random[1:10] #check list by inspecting the first ten items"
   ]
  },
  {
   "cell_type": "code",
   "execution_count": 57,
   "metadata": {
    "collapsed": true
   },
   "outputs": [],
   "source": [
    "import requests\n",
    "from bs4 import BeautifulSoup\n",
    "import re\n",
    "from decimal import Decimal\n"
   ]
  },
  {
   "cell_type": "code",
   "execution_count": 78,
   "metadata": {},
   "outputs": [],
   "source": [
    "Mw_Regex=re.compile(r'\\d+\\.\\d+')\n",
    "\n",
    "for cas in list_random:\n",
    "    url='http://webbook.nist.gov/cgi/cbook.cgi?ID=%s' %(cas) #go to NIST website to look for the compound via its CAS number\n",
    "    #print(url)\n",
    "    r=requests.get(url)\n",
    "    html_doc=r.content\n",
    "    soup=BeautifulSoup(html_doc,\"html.parser\")\n",
    "    \n",
    "    #print(soup.find(\"main\",{\"id\":\"main\"}).find(\"ul\").find_all(\"li\")[1].text)\n",
    "    \n",
    "    Mw=soup.find(\"main\",{\"id\":\"main\"}).find(\"ul\").find_all(\"li\")[1].text\n",
    "    #print(Mw)\n",
    "    Mw_NIST=Mw_Regex.search(Mw).group()\n",
    "    int(Decimal(Mw_NIST)) #turn the string into decimal, and then turn it into an integer.\n",
    "    #print(int(Decimal(Mw_NIST))) #check\n",
    "    \n",
    "    #compare with the Mw in the table\n",
    "    if int(Decimal(Mw_NIST))>=(int(df[df.index==cas]['Mw'])*1.1) or int(Decimal(Mw_NIST))<=(int(df[df.index==cas]['Mw'])*1.1):\n",
    "        #print('excellent!')\n",
    "        pass\n",
    "    else:\n",
    "        print('Mw_NIST:', Mw_NIST, 'is not the same as Mw:', int(df[df.index==cas]['Mw']))    \n"
   ]
  },
  {
   "cell_type": "markdown",
   "metadata": {},
   "source": [
    "From 50 entries that are randomly selected from NIST_chemicals_list_organic.csv, no disagreement is found between the calculated molecular weight, Mw, and those listed on http://webbook.nist.gov/ website while allowing a plus/minus 10% error."
   ]
  },
  {
   "cell_type": "markdown",
   "metadata": {},
   "source": [
    "<b> 3) Extract chemicals NIST_chemicals_list_organic.csv that contain specific organic functional groups </b>  \n",
    "Need to consider of a more efficient way of storing each cluster of functional groups than separate DataFrames"
   ]
  },
  {
   "cell_type": "code",
   "execution_count": 82,
   "metadata": {},
   "outputs": [
    {
     "data": {
      "text/html": [
       "<div>\n",
       "<table border=\"1\" class=\"dataframe\">\n",
       "  <thead>\n",
       "    <tr style=\"text-align: right;\">\n",
       "      <th></th>\n",
       "      <th>Name</th>\n",
       "      <th>Formula</th>\n",
       "      <th>Elements</th>\n",
       "      <th>Mw</th>\n",
       "    </tr>\n",
       "    <tr>\n",
       "      <th>CAS</th>\n",
       "      <th></th>\n",
       "      <th></th>\n",
       "      <th></th>\n",
       "      <th></th>\n",
       "    </tr>\n",
       "  </thead>\n",
       "  <tbody>\n",
       "    <tr>\n",
       "      <th>100062-67-7</th>\n",
       "      <td>2-(2,4,5-Trichlorophenoxy)propyl 2,2-dichlorop...</td>\n",
       "      <td>C12H11Cl5O3</td>\n",
       "      <td>['C', 'H', 'Cl', 'O']</td>\n",
       "      <td>377.915083</td>\n",
       "    </tr>\n",
       "    <tr>\n",
       "      <th>10032-02-7</th>\n",
       "      <td>Geranyl caproate</td>\n",
       "      <td>C16H28O2</td>\n",
       "      <td>['C', 'H', 'O']</td>\n",
       "      <td>252.208930</td>\n",
       "    </tr>\n",
       "    <tr>\n",
       "      <th>101166-96-5</th>\n",
       "      <td>2,2,2-Trichloro-1-cyanoethyl 4-chlorobenzoate</td>\n",
       "      <td>C10H5Cl4NO2</td>\n",
       "      <td>['C', 'H', 'Cl', 'N', 'O']</td>\n",
       "      <td>310.907439</td>\n",
       "    </tr>\n",
       "  </tbody>\n",
       "</table>\n",
       "</div>"
      ],
      "text/plain": [
       "                                                          Name      Formula  \\\n",
       "CAS                                                                           \n",
       "100062-67-7  2-(2,4,5-Trichlorophenoxy)propyl 2,2-dichlorop...  C12H11Cl5O3   \n",
       "10032-02-7                                    Geranyl caproate     C16H28O2   \n",
       "101166-96-5      2,2,2-Trichloro-1-cyanoethyl 4-chlorobenzoate  C10H5Cl4NO2   \n",
       "\n",
       "                               Elements          Mw  \n",
       "CAS                                                  \n",
       "100062-67-7       ['C', 'H', 'Cl', 'O']  377.915083  \n",
       "10032-02-7              ['C', 'H', 'O']  252.208930  \n",
       "101166-96-5  ['C', 'H', 'Cl', 'N', 'O']  310.907439  "
      ]
     },
     "execution_count": 82,
     "metadata": {},
     "output_type": "execute_result"
    }
   ],
   "source": [
    "#Need to narrow down the search by limiting the elemental compositions\n",
    "#(1) search for esters\n",
    "df_ester=df[df.Name.str.endswith('oate')]\n",
    "df_ester.head(3)"
   ]
  },
  {
   "cell_type": "code",
   "execution_count": 83,
   "metadata": {},
   "outputs": [
    {
     "data": {
      "text/html": [
       "<div>\n",
       "<table border=\"1\" class=\"dataframe\">\n",
       "  <thead>\n",
       "    <tr style=\"text-align: right;\">\n",
       "      <th></th>\n",
       "      <th>Name</th>\n",
       "      <th>Formula</th>\n",
       "      <th>Elements</th>\n",
       "      <th>Mw</th>\n",
       "    </tr>\n",
       "    <tr>\n",
       "      <th>CAS</th>\n",
       "      <th></th>\n",
       "      <th></th>\n",
       "      <th></th>\n",
       "      <th></th>\n",
       "    </tr>\n",
       "  </thead>\n",
       "  <tbody>\n",
       "    <tr>\n",
       "      <th>1001-45-2</th>\n",
       "      <td>6-Pentadecanone</td>\n",
       "      <td>C15H30O</td>\n",
       "      <td>['C', 'H', 'O']</td>\n",
       "      <td>226.229666</td>\n",
       "    </tr>\n",
       "    <tr>\n",
       "      <th>1003-04-9</th>\n",
       "      <td>Dihydro-3-(2H)-thiophenone</td>\n",
       "      <td>C4H6OS</td>\n",
       "      <td>['C', 'H', 'O', 'S']</td>\n",
       "      <td>102.013936</td>\n",
       "    </tr>\n",
       "    <tr>\n",
       "      <th>1003-10-7</th>\n",
       "      <td>Dihydro-2-(3H)-thiophenone</td>\n",
       "      <td>C4H6OS</td>\n",
       "      <td>['C', 'H', 'O', 'S']</td>\n",
       "      <td>102.013936</td>\n",
       "    </tr>\n",
       "  </tbody>\n",
       "</table>\n",
       "</div>"
      ],
      "text/plain": [
       "                                 Name  Formula              Elements  \\\n",
       "CAS                                                                    \n",
       "1001-45-2             6-Pentadecanone  C15H30O       ['C', 'H', 'O']   \n",
       "1003-04-9  Dihydro-3-(2H)-thiophenone   C4H6OS  ['C', 'H', 'O', 'S']   \n",
       "1003-10-7  Dihydro-2-(3H)-thiophenone   C4H6OS  ['C', 'H', 'O', 'S']   \n",
       "\n",
       "                   Mw  \n",
       "CAS                    \n",
       "1001-45-2  226.229666  \n",
       "1003-04-9  102.013936  \n",
       "1003-10-7  102.013936  "
      ]
     },
     "execution_count": 83,
     "metadata": {},
     "output_type": "execute_result"
    }
   ],
   "source": [
    "#(2) search for ketones\n",
    "df_ketone=df[df.Name.str.endswith('none')]\n",
    "df_ketone.head(3)"
   ]
  },
  {
   "cell_type": "code",
   "execution_count": 87,
   "metadata": {},
   "outputs": [
    {
     "data": {
      "text/html": [
       "<div>\n",
       "<table border=\"1\" class=\"dataframe\">\n",
       "  <thead>\n",
       "    <tr style=\"text-align: right;\">\n",
       "      <th></th>\n",
       "      <th>Name</th>\n",
       "      <th>Formula</th>\n",
       "      <th>Elements</th>\n",
       "      <th>Mw</th>\n",
       "    </tr>\n",
       "    <tr>\n",
       "      <th>CAS</th>\n",
       "      <th></th>\n",
       "      <th></th>\n",
       "      <th></th>\n",
       "      <th></th>\n",
       "    </tr>\n",
       "  </thead>\n",
       "  <tbody>\n",
       "    <tr>\n",
       "      <th>100144-29-4</th>\n",
       "      <td>Cyclopentylethynylmethyl carbinol</td>\n",
       "      <td>C9H14O</td>\n",
       "      <td>['C', 'H', 'O']</td>\n",
       "      <td>138.104465</td>\n",
       "    </tr>\n",
       "    <tr>\n",
       "      <th>1002-28-4</th>\n",
       "      <td>3-Hexyn-1-ol</td>\n",
       "      <td>C6H10O</td>\n",
       "      <td>['C', 'H', 'O']</td>\n",
       "      <td>98.073165</td>\n",
       "    </tr>\n",
       "    <tr>\n",
       "      <th>100-49-2</th>\n",
       "      <td>Cyclohexanemethanol</td>\n",
       "      <td>C7H14O</td>\n",
       "      <td>['C', 'H', 'O']</td>\n",
       "      <td>114.104465</td>\n",
       "    </tr>\n",
       "  </tbody>\n",
       "</table>\n",
       "</div>"
      ],
      "text/plain": [
       "                                          Name Formula         Elements  \\\n",
       "CAS                                                                       \n",
       "100144-29-4  Cyclopentylethynylmethyl carbinol  C9H14O  ['C', 'H', 'O']   \n",
       "1002-28-4                         3-Hexyn-1-ol  C6H10O  ['C', 'H', 'O']   \n",
       "100-49-2                   Cyclohexanemethanol  C7H14O  ['C', 'H', 'O']   \n",
       "\n",
       "                     Mw  \n",
       "CAS                      \n",
       "100144-29-4  138.104465  \n",
       "1002-28-4     98.073165  \n",
       "100-49-2     114.104465  "
      ]
     },
     "execution_count": 87,
     "metadata": {},
     "output_type": "execute_result"
    }
   ],
   "source": [
    "#(3) search for alcohols\n",
    "df_alcohol=df[(df.Name.str.endswith('ol')) & (df.Formula.str.contains('O'))]\n",
    "df_alcohol.head(3)"
   ]
  },
  {
   "cell_type": "code",
   "execution_count": 91,
   "metadata": {},
   "outputs": [
    {
     "data": {
      "text/html": [
       "<div>\n",
       "<table border=\"1\" class=\"dataframe\">\n",
       "  <thead>\n",
       "    <tr style=\"text-align: right;\">\n",
       "      <th></th>\n",
       "      <th>Name</th>\n",
       "      <th>Formula</th>\n",
       "      <th>Elements</th>\n",
       "      <th>Mw</th>\n",
       "    </tr>\n",
       "    <tr>\n",
       "      <th>CAS</th>\n",
       "      <th></th>\n",
       "      <th></th>\n",
       "      <th></th>\n",
       "      <th></th>\n",
       "    </tr>\n",
       "  </thead>\n",
       "  <tbody>\n",
       "    <tr>\n",
       "      <th>1000-63-1</th>\n",
       "      <td>1-Tert-butoxybutane</td>\n",
       "      <td>C8H18O</td>\n",
       "      <td>['C', 'H', 'O']</td>\n",
       "      <td>130.135765</td>\n",
       "    </tr>\n",
       "    <tr>\n",
       "      <th>100098-21-3</th>\n",
       "      <td>1,7-Diazabicyclo[5.3.1]undecane</td>\n",
       "      <td>C9H18N2</td>\n",
       "      <td>['C', 'H', 'N']</td>\n",
       "      <td>154.146999</td>\n",
       "    </tr>\n",
       "    <tr>\n",
       "      <th>100098-22-4</th>\n",
       "      <td>1,8-Diazabicyclo[6.3.1]dodecane</td>\n",
       "      <td>C10H20N2</td>\n",
       "      <td>['C', 'H', 'N']</td>\n",
       "      <td>168.162649</td>\n",
       "    </tr>\n",
       "  </tbody>\n",
       "</table>\n",
       "</div>"
      ],
      "text/plain": [
       "                                        Name   Formula         Elements  \\\n",
       "CAS                                                                       \n",
       "1000-63-1                1-Tert-butoxybutane    C8H18O  ['C', 'H', 'O']   \n",
       "100098-21-3  1,7-Diazabicyclo[5.3.1]undecane   C9H18N2  ['C', 'H', 'N']   \n",
       "100098-22-4  1,8-Diazabicyclo[6.3.1]dodecane  C10H20N2  ['C', 'H', 'N']   \n",
       "\n",
       "                     Mw  \n",
       "CAS                      \n",
       "1000-63-1    130.135765  \n",
       "100098-21-3  154.146999  \n",
       "100098-22-4  168.162649  "
      ]
     },
     "execution_count": 91,
     "metadata": {},
     "output_type": "execute_result"
    }
   ],
   "source": [
    "#(4) search for alkanes\n",
    "df_alkane=df[(df.Name.str.endswith('ane')) & (df.Formula.str.contains('C')) & (~df.Formula.str.contains('Si'))]\n",
    "df_alkane.head(3)"
   ]
  },
  {
   "cell_type": "code",
   "execution_count": 90,
   "metadata": {},
   "outputs": [
    {
     "data": {
      "text/html": [
       "<div>\n",
       "<table border=\"1\" class=\"dataframe\">\n",
       "  <thead>\n",
       "    <tr style=\"text-align: right;\">\n",
       "      <th></th>\n",
       "      <th>Name</th>\n",
       "      <th>Formula</th>\n",
       "      <th>Elements</th>\n",
       "      <th>Mw</th>\n",
       "    </tr>\n",
       "    <tr>\n",
       "      <th>CAS</th>\n",
       "      <th></th>\n",
       "      <th></th>\n",
       "      <th></th>\n",
       "      <th></th>\n",
       "    </tr>\n",
       "  </thead>\n",
       "  <tbody>\n",
       "    <tr>\n",
       "      <th>1002-26-2</th>\n",
       "      <td>1,3-heptadiene</td>\n",
       "      <td>C7H12</td>\n",
       "      <td>['C', 'H']</td>\n",
       "      <td>96.09390</td>\n",
       "    </tr>\n",
       "    <tr>\n",
       "      <th>1002-27-3</th>\n",
       "      <td>1,3,6-Heptatriene</td>\n",
       "      <td>C7H10</td>\n",
       "      <td>['C', 'H']</td>\n",
       "      <td>94.07825</td>\n",
       "    </tr>\n",
       "    <tr>\n",
       "      <th>1002-33-1</th>\n",
       "      <td>1,3-Octadiene</td>\n",
       "      <td>C8H14</td>\n",
       "      <td>['C', 'H']</td>\n",
       "      <td>110.10955</td>\n",
       "    </tr>\n",
       "  </tbody>\n",
       "</table>\n",
       "</div>"
      ],
      "text/plain": [
       "                        Name Formula    Elements         Mw\n",
       "CAS                                                        \n",
       "1002-26-2     1,3-heptadiene   C7H12  ['C', 'H']   96.09390\n",
       "1002-27-3  1,3,6-Heptatriene   C7H10  ['C', 'H']   94.07825\n",
       "1002-33-1      1,3-Octadiene   C8H14  ['C', 'H']  110.10955"
      ]
     },
     "execution_count": 90,
     "metadata": {},
     "output_type": "execute_result"
    }
   ],
   "source": [
    "#(5) search for alkenes\n",
    "df_alkane=df[(df.Name.str.endswith('ene')) & (df.Formula.str.contains('C')) & (~df.Formula.str.contains('N'))]\n",
    "df_alkane.head(3)"
   ]
  },
  {
   "cell_type": "code",
   "execution_count": 93,
   "metadata": {},
   "outputs": [
    {
     "data": {
      "text/html": [
       "<div>\n",
       "<table border=\"1\" class=\"dataframe\">\n",
       "  <thead>\n",
       "    <tr style=\"text-align: right;\">\n",
       "      <th></th>\n",
       "      <th>Name</th>\n",
       "      <th>Formula</th>\n",
       "      <th>Elements</th>\n",
       "      <th>Mw</th>\n",
       "    </tr>\n",
       "    <tr>\n",
       "      <th>CAS</th>\n",
       "      <th></th>\n",
       "      <th></th>\n",
       "      <th></th>\n",
       "      <th></th>\n",
       "    </tr>\n",
       "  </thead>\n",
       "  <tbody>\n",
       "    <tr>\n",
       "      <th>1001-53-2</th>\n",
       "      <td>N-Acetylethylenediamine</td>\n",
       "      <td>C4H10N2O</td>\n",
       "      <td>['C', 'H', 'N', 'O']</td>\n",
       "      <td>102.079313</td>\n",
       "    </tr>\n",
       "    <tr>\n",
       "      <th>1003-03-8</th>\n",
       "      <td>Cyclopentanamine</td>\n",
       "      <td>C5H11N</td>\n",
       "      <td>['C', 'H', 'N']</td>\n",
       "      <td>85.089149</td>\n",
       "    </tr>\n",
       "    <tr>\n",
       "      <th>100-46-9</th>\n",
       "      <td>Benzylamine</td>\n",
       "      <td>C7H9N</td>\n",
       "      <td>['C', 'H', 'N']</td>\n",
       "      <td>107.073499</td>\n",
       "    </tr>\n",
       "  </tbody>\n",
       "</table>\n",
       "</div>"
      ],
      "text/plain": [
       "                              Name   Formula              Elements          Mw\n",
       "CAS                                                                           \n",
       "1001-53-2  N-Acetylethylenediamine  C4H10N2O  ['C', 'H', 'N', 'O']  102.079313\n",
       "1003-03-8         Cyclopentanamine    C5H11N       ['C', 'H', 'N']   85.089149\n",
       "100-46-9               Benzylamine     C7H9N       ['C', 'H', 'N']  107.073499"
      ]
     },
     "execution_count": 93,
     "metadata": {},
     "output_type": "execute_result"
    }
   ],
   "source": [
    "#(6) search for amines\n",
    "df_amine=df[(df.Name.str.endswith('amine')) & (df.Formula.str.contains('N'))]\n",
    "df_amine.head(3)"
   ]
  },
  {
   "cell_type": "code",
   "execution_count": 95,
   "metadata": {},
   "outputs": [
    {
     "data": {
      "text/html": [
       "<div>\n",
       "<table border=\"1\" class=\"dataframe\">\n",
       "  <thead>\n",
       "    <tr style=\"text-align: right;\">\n",
       "      <th></th>\n",
       "      <th>Name</th>\n",
       "      <th>Formula</th>\n",
       "      <th>Elements</th>\n",
       "      <th>Mw</th>\n",
       "    </tr>\n",
       "    <tr>\n",
       "      <th>CAS</th>\n",
       "      <th></th>\n",
       "      <th></th>\n",
       "      <th></th>\n",
       "      <th></th>\n",
       "    </tr>\n",
       "  </thead>\n",
       "  <tbody>\n",
       "    <tr>\n",
       "      <th>1003-29-8</th>\n",
       "      <td>1H-Pyrrole-2-carboxaldehyde</td>\n",
       "      <td>C5H5NO</td>\n",
       "      <td>['C', 'H', 'N', 'O']</td>\n",
       "      <td>95.037114</td>\n",
       "    </tr>\n",
       "    <tr>\n",
       "      <th>100-50-5</th>\n",
       "      <td>3-Cyclohexene-1-carboxaldehyde</td>\n",
       "      <td>C7H10O</td>\n",
       "      <td>['C', 'H', 'O']</td>\n",
       "      <td>110.073165</td>\n",
       "    </tr>\n",
       "    <tr>\n",
       "      <th>100-52-7</th>\n",
       "      <td>Benzaldehyde</td>\n",
       "      <td>C7H6O</td>\n",
       "      <td>['C', 'H', 'O']</td>\n",
       "      <td>106.041865</td>\n",
       "    </tr>\n",
       "  </tbody>\n",
       "</table>\n",
       "</div>"
      ],
      "text/plain": [
       "                                     Name Formula              Elements  \\\n",
       "CAS                                                                       \n",
       "1003-29-8     1H-Pyrrole-2-carboxaldehyde  C5H5NO  ['C', 'H', 'N', 'O']   \n",
       "100-50-5   3-Cyclohexene-1-carboxaldehyde  C7H10O       ['C', 'H', 'O']   \n",
       "100-52-7                     Benzaldehyde   C7H6O       ['C', 'H', 'O']   \n",
       "\n",
       "                   Mw  \n",
       "CAS                    \n",
       "1003-29-8   95.037114  \n",
       "100-50-5   110.073165  \n",
       "100-52-7   106.041865  "
      ]
     },
     "execution_count": 95,
     "metadata": {},
     "output_type": "execute_result"
    }
   ],
   "source": [
    "#(7) search for aldehydes\n",
    "df_aldehyde=df[(df.Name.str.endswith('anal')) & (df.Formula.str.contains('O')) | (df.Name.str.endswith('hyde'))]\n",
    "df_aldehyde.head(3)"
   ]
  },
  {
   "cell_type": "code",
   "execution_count": 96,
   "metadata": {},
   "outputs": [
    {
     "data": {
      "text/html": [
       "<div>\n",
       "<table border=\"1\" class=\"dataframe\">\n",
       "  <thead>\n",
       "    <tr style=\"text-align: right;\">\n",
       "      <th></th>\n",
       "      <th>Name</th>\n",
       "      <th>Formula</th>\n",
       "      <th>Elements</th>\n",
       "      <th>Mw</th>\n",
       "    </tr>\n",
       "    <tr>\n",
       "      <th>CAS</th>\n",
       "      <th></th>\n",
       "      <th></th>\n",
       "      <th></th>\n",
       "      <th></th>\n",
       "    </tr>\n",
       "  </thead>\n",
       "  <tbody>\n",
       "    <tr>\n",
       "      <th>100-07-2</th>\n",
       "      <td>4-Methoxybenzoic acid chloride</td>\n",
       "      <td>C8H7ClO2</td>\n",
       "      <td>['C', 'H', 'Cl', 'O']</td>\n",
       "      <td>170.013457</td>\n",
       "    </tr>\n",
       "    <tr>\n",
       "      <th>100-09-4</th>\n",
       "      <td>Benzoic acid, 4-methoxy-</td>\n",
       "      <td>C8H8O3</td>\n",
       "      <td>['C', 'H', 'O']</td>\n",
       "      <td>152.047344</td>\n",
       "    </tr>\n",
       "    <tr>\n",
       "      <th>100096-59-1</th>\n",
       "      <td>Carbanilic acid, 2-tert-butyl-, ethyl ester</td>\n",
       "      <td>C13H19NO2</td>\n",
       "      <td>['C', 'H', 'N', 'O']</td>\n",
       "      <td>221.141579</td>\n",
       "    </tr>\n",
       "  </tbody>\n",
       "</table>\n",
       "</div>"
      ],
      "text/plain": [
       "                                                    Name    Formula  \\\n",
       "CAS                                                                   \n",
       "100-07-2                  4-Methoxybenzoic acid chloride   C8H7ClO2   \n",
       "100-09-4                        Benzoic acid, 4-methoxy-     C8H8O3   \n",
       "100096-59-1  Carbanilic acid, 2-tert-butyl-, ethyl ester  C13H19NO2   \n",
       "\n",
       "                          Elements          Mw  \n",
       "CAS                                             \n",
       "100-07-2     ['C', 'H', 'Cl', 'O']  170.013457  \n",
       "100-09-4           ['C', 'H', 'O']  152.047344  \n",
       "100096-59-1   ['C', 'H', 'N', 'O']  221.141579  "
      ]
     },
     "execution_count": 96,
     "metadata": {},
     "output_type": "execute_result"
    }
   ],
   "source": [
    "#(8) search for organic acids\n",
    "df_acid=df[(df.Name.str.contains('acid')) & (df.Name.str.contains('ic')) & (df.Formula.str.contains('O'))]\n",
    "df_acid.head(3)"
   ]
  },
  {
   "cell_type": "code",
   "execution_count": 97,
   "metadata": {},
   "outputs": [
    {
     "data": {
      "text/html": [
       "<div>\n",
       "<table border=\"1\" class=\"dataframe\">\n",
       "  <thead>\n",
       "    <tr style=\"text-align: right;\">\n",
       "      <th></th>\n",
       "      <th>Name</th>\n",
       "      <th>Formula</th>\n",
       "      <th>Elements</th>\n",
       "      <th>Mw</th>\n",
       "    </tr>\n",
       "    <tr>\n",
       "      <th>CAS</th>\n",
       "      <th></th>\n",
       "      <th></th>\n",
       "      <th></th>\n",
       "      <th></th>\n",
       "    </tr>\n",
       "  </thead>\n",
       "  <tbody>\n",
       "    <tr>\n",
       "      <th>114811-41-5</th>\n",
       "      <td>(2-Hydroxyethylthio)ethyl (vinylthio)ethyl ether</td>\n",
       "      <td>C8H16O2S2</td>\n",
       "      <td>['C', 'H', 'O', 'S']</td>\n",
       "      <td>208.059172</td>\n",
       "    </tr>\n",
       "    <tr>\n",
       "      <th>116373-69-4</th>\n",
       "      <td>2-(2-Cyclohexylphenoxy) ethyl-2-phenoxyethyl e...</td>\n",
       "      <td>C22H28O3</td>\n",
       "      <td>['C', 'H', 'O']</td>\n",
       "      <td>340.203845</td>\n",
       "    </tr>\n",
       "    <tr>\n",
       "      <th>116401-27-5</th>\n",
       "      <td>Di-[2-(4-tert-butyl-2,6-dichlorophenoxy) ethyl...</td>\n",
       "      <td>C24H30Cl4O3</td>\n",
       "      <td>['C', 'H', 'Cl', 'O']</td>\n",
       "      <td>506.094906</td>\n",
       "    </tr>\n",
       "  </tbody>\n",
       "</table>\n",
       "</div>"
      ],
      "text/plain": [
       "                                                          Name      Formula  \\\n",
       "CAS                                                                           \n",
       "114811-41-5   (2-Hydroxyethylthio)ethyl (vinylthio)ethyl ether    C8H16O2S2   \n",
       "116373-69-4  2-(2-Cyclohexylphenoxy) ethyl-2-phenoxyethyl e...     C22H28O3   \n",
       "116401-27-5  Di-[2-(4-tert-butyl-2,6-dichlorophenoxy) ethyl...  C24H30Cl4O3   \n",
       "\n",
       "                          Elements          Mw  \n",
       "CAS                                             \n",
       "114811-41-5   ['C', 'H', 'O', 'S']  208.059172  \n",
       "116373-69-4        ['C', 'H', 'O']  340.203845  \n",
       "116401-27-5  ['C', 'H', 'Cl', 'O']  506.094906  "
      ]
     },
     "execution_count": 97,
     "metadata": {},
     "output_type": "execute_result"
    }
   ],
   "source": [
    "#(9) search for ethers\n",
    "df_ether=df[(df.Name.str.contains('oxy')) & (df.Name.str.contains('ether')) & (df.Formula.str.contains('O'))]\n",
    "df_ether.head(3)"
   ]
  },
  {
   "cell_type": "code",
   "execution_count": null,
   "metadata": {
    "collapsed": true
   },
   "outputs": [],
   "source": [
    "#(10) search for halides\n",
    "\"\"\"\n",
    "NEED TO CORRECT\n",
    "halide_list=['F','Cl','Br','I']\n",
    "\n",
    "df_halide=df[df.Elements.str.contains(halide_list)]\n",
    "df_halide.head()\n",
    "\"\"\"\n"
   ]
  },
  {
   "cell_type": "code",
   "execution_count": 98,
   "metadata": {},
   "outputs": [
    {
     "data": {
      "text/html": [
       "<div>\n",
       "<table border=\"1\" class=\"dataframe\">\n",
       "  <thead>\n",
       "    <tr style=\"text-align: right;\">\n",
       "      <th></th>\n",
       "      <th>Name</th>\n",
       "      <th>Formula</th>\n",
       "      <th>Elements</th>\n",
       "      <th>Mw</th>\n",
       "    </tr>\n",
       "    <tr>\n",
       "      <th>CAS</th>\n",
       "      <th></th>\n",
       "      <th></th>\n",
       "      <th></th>\n",
       "      <th></th>\n",
       "    </tr>\n",
       "  </thead>\n",
       "  <tbody>\n",
       "    <tr>\n",
       "      <th>100-38-9</th>\n",
       "      <td>Ethanethiol, 2-(diethylamino)-</td>\n",
       "      <td>C6H15NS</td>\n",
       "      <td>['C', 'H', 'N', 'S']</td>\n",
       "      <td>133.092521</td>\n",
       "    </tr>\n",
       "    <tr>\n",
       "      <th>100-53-8</th>\n",
       "      <td>Benzenemethanethiol</td>\n",
       "      <td>C7H8S</td>\n",
       "      <td>['C', 'H', 'S']</td>\n",
       "      <td>124.034671</td>\n",
       "    </tr>\n",
       "    <tr>\n",
       "      <th>1005-55-6</th>\n",
       "      <td>2-Propanone, 1-(5-methyl-3H-1,2-dithiol-3-ylid...</td>\n",
       "      <td>C7H8OS2</td>\n",
       "      <td>['C', 'H', 'O', 'S']</td>\n",
       "      <td>172.001657</td>\n",
       "    </tr>\n",
       "  </tbody>\n",
       "</table>\n",
       "</div>"
      ],
      "text/plain": [
       "                                                        Name  Formula  \\\n",
       "CAS                                                                     \n",
       "100-38-9                      Ethanethiol, 2-(diethylamino)-  C6H15NS   \n",
       "100-53-8                                 Benzenemethanethiol    C7H8S   \n",
       "1005-55-6  2-Propanone, 1-(5-methyl-3H-1,2-dithiol-3-ylid...  C7H8OS2   \n",
       "\n",
       "                       Elements          Mw  \n",
       "CAS                                          \n",
       "100-38-9   ['C', 'H', 'N', 'S']  133.092521  \n",
       "100-53-8        ['C', 'H', 'S']  124.034671  \n",
       "1005-55-6  ['C', 'H', 'O', 'S']  172.001657  "
      ]
     },
     "execution_count": 98,
     "metadata": {},
     "output_type": "execute_result"
    }
   ],
   "source": [
    "#(11) search for thiols\n",
    "df_thiol=df[((df.Name.str.contains('mercap')) | (df.Name.str.contains('thiol'))) & (df.Formula.str.contains('S'))]\n",
    "df_thiol.head(3)"
   ]
  },
  {
   "cell_type": "code",
   "execution_count": 100,
   "metadata": {},
   "outputs": [
    {
     "data": {
      "text/html": [
       "<div>\n",
       "<table border=\"1\" class=\"dataframe\">\n",
       "  <thead>\n",
       "    <tr style=\"text-align: right;\">\n",
       "      <th></th>\n",
       "      <th>Name</th>\n",
       "      <th>Formula</th>\n",
       "      <th>Elements</th>\n",
       "      <th>Mw</th>\n",
       "    </tr>\n",
       "    <tr>\n",
       "      <th>CAS</th>\n",
       "      <th></th>\n",
       "      <th></th>\n",
       "      <th></th>\n",
       "      <th></th>\n",
       "    </tr>\n",
       "  </thead>\n",
       "  <tbody>\n",
       "    <tr>\n",
       "      <th>100182-47-6</th>\n",
       "      <td>4,5-Dihydrothiophene, 3-methyl-</td>\n",
       "      <td>C5H8S</td>\n",
       "      <td>['C', 'H', 'S']</td>\n",
       "      <td>100.034671</td>\n",
       "    </tr>\n",
       "    <tr>\n",
       "      <th>1013-23-6</th>\n",
       "      <td>Dibenzothiophene, 5-oxide</td>\n",
       "      <td>C12H8OS</td>\n",
       "      <td>['C', 'H', 'O', 'S']</td>\n",
       "      <td>200.029586</td>\n",
       "    </tr>\n",
       "    <tr>\n",
       "      <th>10133-30-9</th>\n",
       "      <td>Benzo[b]thiophene-5-carboxaldehyde</td>\n",
       "      <td>C9H6OS</td>\n",
       "      <td>['C', 'H', 'O', 'S']</td>\n",
       "      <td>162.013936</td>\n",
       "    </tr>\n",
       "  </tbody>\n",
       "</table>\n",
       "</div>"
      ],
      "text/plain": [
       "                                           Name  Formula  \\\n",
       "CAS                                                        \n",
       "100182-47-6     4,5-Dihydrothiophene, 3-methyl-    C5H8S   \n",
       "1013-23-6             Dibenzothiophene, 5-oxide  C12H8OS   \n",
       "10133-30-9   Benzo[b]thiophene-5-carboxaldehyde   C9H6OS   \n",
       "\n",
       "                         Elements          Mw  \n",
       "CAS                                            \n",
       "100182-47-6       ['C', 'H', 'S']  100.034671  \n",
       "1013-23-6    ['C', 'H', 'O', 'S']  200.029586  \n",
       "10133-30-9   ['C', 'H', 'O', 'S']  162.013936  "
      ]
     },
     "execution_count": 100,
     "metadata": {},
     "output_type": "execute_result"
    }
   ],
   "source": [
    "#(12) search for thiophenes\n",
    "df_thiophene=df[(df.Name.str.contains('thiophene')) & (df.Formula.str.contains('S'))]\n",
    "df_thiophene.head(3)"
   ]
  },
  {
   "cell_type": "code",
   "execution_count": 104,
   "metadata": {},
   "outputs": [
    {
     "data": {
      "text/html": [
       "<div>\n",
       "<table border=\"1\" class=\"dataframe\">\n",
       "  <thead>\n",
       "    <tr style=\"text-align: right;\">\n",
       "      <th></th>\n",
       "      <th>Name</th>\n",
       "      <th>Formula</th>\n",
       "      <th>Elements</th>\n",
       "      <th>Mw</th>\n",
       "    </tr>\n",
       "    <tr>\n",
       "      <th>CAS</th>\n",
       "      <th></th>\n",
       "      <th></th>\n",
       "      <th></th>\n",
       "      <th></th>\n",
       "    </tr>\n",
       "  </thead>\n",
       "  <tbody>\n",
       "    <tr>\n",
       "      <th>100-01-6</th>\n",
       "      <td>p-Nitroaniline</td>\n",
       "      <td>C6H6N2O2</td>\n",
       "      <td>['C', 'H', 'N', 'O']</td>\n",
       "      <td>138.042927</td>\n",
       "    </tr>\n",
       "    <tr>\n",
       "      <th>1022-07-7</th>\n",
       "      <td>2,4,6-Trinitro-N-methyl-aniline</td>\n",
       "      <td>C7H6N4O6</td>\n",
       "      <td>['C', 'H', 'N', 'O']</td>\n",
       "      <td>242.028734</td>\n",
       "    </tr>\n",
       "    <tr>\n",
       "      <th>103-70-8</th>\n",
       "      <td>N-Formylaniline</td>\n",
       "      <td>C7H7NO</td>\n",
       "      <td>['C', 'H', 'N', 'O']</td>\n",
       "      <td>121.052764</td>\n",
       "    </tr>\n",
       "    <tr>\n",
       "      <th>10394-64-6</th>\n",
       "      <td>3-Iodo-5-nitroaniline</td>\n",
       "      <td>C6H5IN2O2</td>\n",
       "      <td>['C', 'H', 'I', 'N', 'O']</td>\n",
       "      <td>263.939574</td>\n",
       "    </tr>\n",
       "    <tr>\n",
       "      <th>10403-47-1</th>\n",
       "      <td>2-Bromo-5-nitroaniline</td>\n",
       "      <td>C6H5BrN2O2</td>\n",
       "      <td>['C', 'H', 'Br', 'N', 'O']</td>\n",
       "      <td>215.953440</td>\n",
       "    </tr>\n",
       "  </tbody>\n",
       "</table>\n",
       "</div>"
      ],
      "text/plain": [
       "                                       Name     Formula  \\\n",
       "CAS                                                       \n",
       "100-01-6                     p-Nitroaniline    C6H6N2O2   \n",
       "1022-07-7   2,4,6-Trinitro-N-methyl-aniline    C7H6N4O6   \n",
       "103-70-8                    N-Formylaniline      C7H7NO   \n",
       "10394-64-6            3-Iodo-5-nitroaniline   C6H5IN2O2   \n",
       "10403-47-1           2-Bromo-5-nitroaniline  C6H5BrN2O2   \n",
       "\n",
       "                              Elements          Mw  \n",
       "CAS                                                 \n",
       "100-01-6          ['C', 'H', 'N', 'O']  138.042927  \n",
       "1022-07-7         ['C', 'H', 'N', 'O']  242.028734  \n",
       "103-70-8          ['C', 'H', 'N', 'O']  121.052764  \n",
       "10394-64-6   ['C', 'H', 'I', 'N', 'O']  263.939574  \n",
       "10403-47-1  ['C', 'H', 'Br', 'N', 'O']  215.953440  "
      ]
     },
     "execution_count": 104,
     "metadata": {},
     "output_type": "execute_result"
    }
   ],
   "source": [
    "#(13) search for anilines\n",
    "df_aniline=df[(df.Name.str.contains('aniline')) & (df.Formula.str.contains('N'))]\n",
    "df_aniline.head()"
   ]
  },
  {
   "cell_type": "code",
   "execution_count": null,
   "metadata": {
    "collapsed": true
   },
   "outputs": [],
   "source": [
    "#(14) search for benzenes\n",
    "df_benzene=df[((df.Name.str.contains('phenyl')) | (df.Name.str.contains('benzene'))) & (df.Formula.str.contains('C'))]\n",
    "df_benzene.head()"
   ]
  },
  {
   "cell_type": "code",
   "execution_count": 105,
   "metadata": {},
   "outputs": [
    {
     "data": {
      "text/html": [
       "<div>\n",
       "<table border=\"1\" class=\"dataframe\">\n",
       "  <thead>\n",
       "    <tr style=\"text-align: right;\">\n",
       "      <th></th>\n",
       "      <th>Name</th>\n",
       "      <th>Formula</th>\n",
       "      <th>Elements</th>\n",
       "      <th>Mw</th>\n",
       "    </tr>\n",
       "    <tr>\n",
       "      <th>CAS</th>\n",
       "      <th></th>\n",
       "      <th></th>\n",
       "      <th></th>\n",
       "      <th></th>\n",
       "    </tr>\n",
       "  </thead>\n",
       "  <tbody>\n",
       "    <tr>\n",
       "      <th>1072-98-6</th>\n",
       "      <td>2-Amino-5-chloropyridine</td>\n",
       "      <td>C5H5ClN2</td>\n",
       "      <td>['C', 'H', 'Cl', 'N']</td>\n",
       "      <td>128.014126</td>\n",
       "    </tr>\n",
       "    <tr>\n",
       "      <th>1120-87-2</th>\n",
       "      <td>4-Bromopyridine</td>\n",
       "      <td>C5H4BrN</td>\n",
       "      <td>['C', 'H', 'Br', 'N']</td>\n",
       "      <td>156.952712</td>\n",
       "    </tr>\n",
       "    <tr>\n",
       "      <th>1121-31-9</th>\n",
       "      <td>2-Mercaptopyridine-N-oxide</td>\n",
       "      <td>C5H5NOS</td>\n",
       "      <td>['C', 'H', 'N', 'O', 'S']</td>\n",
       "      <td>127.009185</td>\n",
       "    </tr>\n",
       "    <tr>\n",
       "      <th>1121-55-7</th>\n",
       "      <td>3-ethenylpyridine</td>\n",
       "      <td>C7H7N</td>\n",
       "      <td>['C', 'H', 'N']</td>\n",
       "      <td>105.057849</td>\n",
       "    </tr>\n",
       "    <tr>\n",
       "      <th>1121-76-2</th>\n",
       "      <td>4-Chloropyridine-N-oxide</td>\n",
       "      <td>C5H4ClNO</td>\n",
       "      <td>['C', 'H', 'Cl', 'N', 'O']</td>\n",
       "      <td>128.998141</td>\n",
       "    </tr>\n",
       "  </tbody>\n",
       "</table>\n",
       "</div>"
      ],
      "text/plain": [
       "                                 Name   Formula                    Elements  \\\n",
       "CAS                                                                           \n",
       "1072-98-6    2-Amino-5-chloropyridine  C5H5ClN2       ['C', 'H', 'Cl', 'N']   \n",
       "1120-87-2             4-Bromopyridine   C5H4BrN       ['C', 'H', 'Br', 'N']   \n",
       "1121-31-9  2-Mercaptopyridine-N-oxide   C5H5NOS   ['C', 'H', 'N', 'O', 'S']   \n",
       "1121-55-7           3-ethenylpyridine     C7H7N             ['C', 'H', 'N']   \n",
       "1121-76-2    4-Chloropyridine-N-oxide  C5H4ClNO  ['C', 'H', 'Cl', 'N', 'O']   \n",
       "\n",
       "                   Mw  \n",
       "CAS                    \n",
       "1072-98-6  128.014126  \n",
       "1120-87-2  156.952712  \n",
       "1121-31-9  127.009185  \n",
       "1121-55-7  105.057849  \n",
       "1121-76-2  128.998141  "
      ]
     },
     "execution_count": 105,
     "metadata": {},
     "output_type": "execute_result"
    }
   ],
   "source": [
    "#(15) search for pyridines\n",
    "df_pyridine=df[(df.Name.str.contains('pyridine')) & (df.Formula.str.contains('N'))]\n",
    "df_pyridine.head()"
   ]
  },
  {
   "cell_type": "markdown",
   "metadata": {},
   "source": [
    "<b> 4) Randomly select and import chemicals from NIST database until you obtain 50 jcamp files per functional group </b>"
   ]
  },
  {
   "cell_type": "code",
   "execution_count": 123,
   "metadata": {},
   "outputs": [],
   "source": [
    "#NEED to inspect and fix\n",
    "\n",
    "import urllib.request\n",
    "import requests\n",
    "\n",
    "cas='81432'\n",
    "url=\"http://webbook.nist.gov/cgi/cbook.cgi?JCAMP=C%s&Index=0&Type=IR\" %(cas)\n",
    "#request=Request(url)\n",
    "#request\n",
    "\n",
    "#import urllib\n",
    "if len(requests.get(url).content) >= 1000:\n",
    "    url_ret = urllib.request.urlretrieve(url, \"%s.jcamp\" %(df.loc[cas, 'Name'].replace(\",\", \"\").replace(\"'\", \"\").strip() + \"_\" + cas))  # save file according to its cas_no\n",
    "    print(url_ret)"
   ]
  },
  {
   "cell_type": "markdown",
   "metadata": {},
   "source": [
    "<b>5)  Spectral treatment </b>   \n",
    "- Read jcamp file.  \n",
    "- Treat spectra.  \n",
    "- Uniformize units, etc.  \n",
    "- Do features extraction/classification."
   ]
  },
  {
   "cell_type": "markdown",
   "metadata": {},
   "source": [
    "### II. Difference between two curves\n",
    "Calculate residuals between two curves and determine the distributions:    \n",
    "    -Perform test for normality, q-q plots  \n",
    "    -Calculate Pearson correlation coefficients between two curves to test for likeness. Compare it to Euclidean distance."
   ]
  },
  {
   "cell_type": "markdown",
   "metadata": {},
   "source": [
    "### III. Molecular weight distribution analysis  \n",
    "-Plot out histograms of molecular weights of all 15 functional groups and inspect for obvious patterns"
   ]
  },
  {
   "cell_type": "markdown",
   "metadata": {},
   "source": [
    "### IV. Conclusions"
   ]
  },
  {
   "cell_type": "code",
   "execution_count": null,
   "metadata": {
    "collapsed": true
   },
   "outputs": [],
   "source": []
  }
 ],
 "metadata": {
  "kernelspec": {
   "display_name": "Python 3",
   "language": "python",
   "name": "python3"
  },
  "language_info": {
   "codemirror_mode": {
    "name": "ipython",
    "version": 3
   },
   "file_extension": ".py",
   "mimetype": "text/x-python",
   "name": "python",
   "nbconvert_exporter": "python",
   "pygments_lexer": "ipython3",
   "version": "3.5.4"
  }
 },
 "nbformat": 4,
 "nbformat_minor": 1
}
