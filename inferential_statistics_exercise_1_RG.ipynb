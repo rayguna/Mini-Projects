{
 "cells": [
  {
   "cell_type": "markdown",
   "metadata": {},
   "source": [
    "# What is the True Normal Human Body Temperature? \n",
    "\n",
    "#### Background\n",
    "\n",
    "The mean normal body temperature was held to be 37$^{\\circ}$C or 98.6$^{\\circ}$F for more than 120 years since it was first conceptualized and reported by Carl Wunderlich in a famous 1868 book. But, is this value statistically correct?"
   ]
  },
  {
   "cell_type": "markdown",
   "metadata": {},
   "source": [
    "<h3>Exercises</h3>\n",
    "\n",
    "<p>In this exercise, you will analyze a dataset of human body temperatures and employ the concepts of hypothesis testing, confidence intervals, and statistical significance.</p>\n",
    "\n",
    "<p>Answer the following questions <b>in this notebook below and submit to your Github account</b>.</p> \n",
    "\n",
    "<ol>\n",
    "<li>  Is the distribution of body temperatures normal? \n",
    "    <ul>\n",
    "    <li> Although this is not a requirement for CLT to hold (read CLT carefully), it gives us some peace of mind that the population may also be normally distributed if we assume that this sample is representative of the population.\n",
    "    </ul>\n",
    "<li>  Is the sample size large? Are the observations independent?\n",
    "    <ul>\n",
    "    <li> Remember that this is a condition for the CLT, and hence the statistical tests we are using, to apply.\n",
    "    </ul>\n",
    "<li>  Is the true population mean really 98.6 degrees F?\n",
    "    <ul>\n",
    "    <li> Would you use a one-sample or two-sample test? Why?\n",
    "    <li> In this situation, is it appropriate to use the $t$ or $z$ statistic? \n",
    "    <li> Now try using the other test. How is the result be different? Why?\n",
    "    </ul>\n",
    "<li>  Draw a small sample of size 10 from the data and repeat both tests. \n",
    "    <ul>\n",
    "    <li> Which one is the correct one to use? \n",
    "    <li> What do you notice? What does this tell you about the difference in application of the $t$ and $z$ statistic?\n",
    "    </ul>\n",
    "<li>  At what temperature should we consider someone's temperature to be \"abnormal\"?\n",
    "    <ul>\n",
    "    <li> Start by computing the margin of error and confidence interval.\n",
    "    </ul>\n",
    "<li>  Is there a significant difference between males and females in normal temperature?\n",
    "    <ul>\n",
    "    <li> What test did you use and why?\n",
    "    <li> Write a story with your conclusion in the context of the original problem.\n",
    "    </ul>\n",
    "</ol>\n",
    "\n",
    "You can include written notes in notebook cells using Markdown: \n",
    "   - In the control panel at the top, choose Cell > Cell Type > Markdown\n",
    "   - Markdown syntax: http://nestacms.com/docs/creating-content/markdown-cheat-sheet\n",
    "\n",
    "#### Resources\n",
    "\n",
    "+ Information and data sources: http://www.amstat.org/publications/jse/datasets/normtemp.txt, http://www.amstat.org/publications/jse/jse_data_archive.htm\n",
    "+ Markdown syntax: http://nestacms.com/docs/creating-content/markdown-cheat-sheet\n",
    "\n",
    "****"
   ]
  },
  {
   "cell_type": "code",
   "execution_count": 49,
   "metadata": {},
   "outputs": [
    {
     "data": {
      "text/html": [
       "<div>\n",
       "<table border=\"1\" class=\"dataframe\">\n",
       "  <thead>\n",
       "    <tr style=\"text-align: right;\">\n",
       "      <th></th>\n",
       "      <th>temperature</th>\n",
       "      <th>gender</th>\n",
       "      <th>heart_rate</th>\n",
       "    </tr>\n",
       "  </thead>\n",
       "  <tbody>\n",
       "    <tr>\n",
       "      <th>0</th>\n",
       "      <td>99.3</td>\n",
       "      <td>F</td>\n",
       "      <td>68.0</td>\n",
       "    </tr>\n",
       "    <tr>\n",
       "      <th>1</th>\n",
       "      <td>98.4</td>\n",
       "      <td>F</td>\n",
       "      <td>81.0</td>\n",
       "    </tr>\n",
       "    <tr>\n",
       "      <th>2</th>\n",
       "      <td>97.8</td>\n",
       "      <td>M</td>\n",
       "      <td>73.0</td>\n",
       "    </tr>\n",
       "    <tr>\n",
       "      <th>3</th>\n",
       "      <td>99.2</td>\n",
       "      <td>F</td>\n",
       "      <td>66.0</td>\n",
       "    </tr>\n",
       "    <tr>\n",
       "      <th>4</th>\n",
       "      <td>98.0</td>\n",
       "      <td>F</td>\n",
       "      <td>73.0</td>\n",
       "    </tr>\n",
       "  </tbody>\n",
       "</table>\n",
       "</div>"
      ],
      "text/plain": [
       "   temperature gender  heart_rate\n",
       "0         99.3      F        68.0\n",
       "1         98.4      F        81.0\n",
       "2         97.8      M        73.0\n",
       "3         99.2      F        66.0\n",
       "4         98.0      F        73.0"
      ]
     },
     "execution_count": 49,
     "metadata": {},
     "output_type": "execute_result"
    }
   ],
   "source": [
    "import pandas as pd\n",
    "\n",
    "df = pd.read_csv('data/human_body_temperature.csv')\n",
    "df.head(5) #inspect data\n"
   ]
  },
  {
   "cell_type": "code",
   "execution_count": 50,
   "metadata": {},
   "outputs": [
    {
     "name": "stdout",
     "output_type": "stream",
     "text": [
      "<class 'pandas.core.frame.DataFrame'>\n",
      "RangeIndex: 130 entries, 0 to 129\n",
      "Data columns (total 3 columns):\n",
      "temperature    130 non-null float64\n",
      "gender         130 non-null object\n",
      "heart_rate     130 non-null float64\n",
      "dtypes: float64(2), object(1)\n",
      "memory usage: 3.1+ KB\n"
     ]
    }
   ],
   "source": [
    "#inspect data\n",
    "df.info() #no null entries."
   ]
  },
  {
   "cell_type": "markdown",
   "metadata": {},
   "source": [
    "<b> <li>  1) Is the distribution of body temperatures normal? </b>  \n",
    "<span style='color:blue'> <b> ans </b>: Both descriptive and inferential statistical tests show that the distribution is normal. </span>"
   ]
  },
  {
   "cell_type": "markdown",
   "metadata": {},
   "source": [
    "(a) Descriptive approach - To determine if the distribution is normal via visualization by:\n",
    ">    \n",
    "-Generating statistical plots (histograms, boxplots, and ecdf) of the actual data and of the ideal normal distribution of the data mean and standard deviation.  \n",
    ">\n",
    "-Subsequently inspecting if the two plots sufficiently overlap."
   ]
  },
  {
   "cell_type": "code",
   "execution_count": 51,
   "metadata": {},
   "outputs": [
    {
     "name": "stdout",
     "output_type": "stream",
     "text": [
      "mean: 98.24923076923078 ; std. dev.: 0.7331831580389454\n"
     ]
    },
    {
     "data": {
      "image/png": "[encoded data removed]",
      "text/plain": [
       "<matplotlib.figure.Figure at 0x20246b7b400>"
      ]
     },
     "metadata": {},
     "output_type": "display_data"
    }
   ],
   "source": [
    "# Your work here.\n",
    "\n",
    "import matplotlib.pyplot as plt\n",
    "\n",
    "#Utilize hackers statistics to plot the ideal normal distribution\n",
    "#first, determine the mean and standard deviation\n",
    "print('mean:', df['temperature'].mean(),';', 'std. dev.:', df['temperature'].std())\n",
    "\n",
    "import numpy as np\n",
    "body_temp_normal=np.random.normal(df['temperature'].mean(), df['temperature'].std(), 10000) #simulate a normal distribution\n",
    "\n",
    "#Define a function\n",
    "#Code is taken from: Statistical thinking in python by Justin Bois (Datacamp)-Springboard Module 8.1 (Part 1)\n",
    "def ecdf(data):\n",
    "    \"\"\"Compute ECDF for a one-dimensional array of measurements.\"\"\"\n",
    "\n",
    "    # Number of data points: n\n",
    "    n=len(data)\n",
    "\n",
    "    # x-data for the ECDF: x\n",
    "    x=np.sort(data)\n",
    "\n",
    "    # y-data for the ECDF: y\n",
    "    y = np.arange(1,n+1) / n\n",
    "\n",
    "    return x, y\n",
    "\n",
    "\n",
    "#histograms\n",
    "plt.figure(figsize=(12,4))\n",
    "plt.subplot(1,3,1)\n",
    "df['temperature'].plot.hist(bins=30, normed=True, label='Actual') #actual\n",
    "plt.hist(body_temp_normal, bins=30, normed=True, label='Normal') #normal distribution\n",
    "\n",
    "plt.legend()\n",
    "plt.xlabel('Temperature, deg. F')\n",
    "plt.ylabel('Normalized frequency')\n",
    "plt.title('Histograms of body temperature: actual vs. normal')\n",
    "\n",
    "#boxplots\n",
    "plt.subplot(1,3,2)\n",
    "plt.boxplot([df['temperature'], body_temp_normal]) \n",
    "plt.xticks([1, 2], ['Actual', 'Normal']) #label boxplots accordingly\n",
    "plt.title('Boxplots of body temperature: actual vs. normal')\n",
    "\n",
    "#ECDF\n",
    "plt.subplot(1,3,3)\n",
    "ecdf_actual_x,ecdf_actual_y=ecdf(df['temperature'])\n",
    "ecdf_normal_x,ecdf_normal_y=ecdf(body_temp_normal)\n",
    "\n",
    "plt.plot(ecdf_actual_x,ecdf_actual_y,'b.', label='Actual') #actual\n",
    "plt.plot(ecdf_normal_x,ecdf_normal_y,'r-', label='Normal') #normal\n",
    "\n",
    "plt.legend()\n",
    "plt.title('ECDF plots')\n",
    "plt.xlabel('Temperature, deg F')\n",
    "plt.ylabel('CDF')\n",
    "\n",
    "\n",
    "plt.tight_layout()\n",
    "plt.show()\n"
   ]
  },
  {
   "cell_type": "markdown",
   "metadata": {},
   "source": [
    "<span style='color:blue'> <b> Conclusion </b>: Based on the above plots, it is seen that the two plots are identical. The histograms overlap. Nevertheless, the histogram shows outliers between 98 and 100 deg. F, but, as seen from the corresponding boxplots, the outlier is within the tail of the normal distribution. Finally, the ecdf plots show a significant overlapping of most of the data points. </span>"
   ]
  },
  {
   "cell_type": "markdown",
   "metadata": {},
   "source": [
    "(b) Inferential approach - To determine if the distribution is normal via a chi-square test for normality:\n"
   ]
  },
  {
   "cell_type": "code",
   "execution_count": 52,
   "metadata": {},
   "outputs": [
    {
     "name": "stdout",
     "output_type": "stream",
     "text": [
      "p-value=0.259\n",
      "Fail to reject H0: Distribution is normal.\n"
     ]
    }
   ],
   "source": [
    "import scipy.stats as stats\n",
    "\n",
    "z,pval=stats.normaltest(df['temperature'])\n",
    "\n",
    "if pval > 0.05:\n",
    "    print('p-value=%.3f' %(pval))\n",
    "    print('Fail to reject H0: Distribution is normal.')\n",
    "else: \n",
    "    print('p-value=%.3f' %(pval))\n",
    "    print('Reject H0: Distribution is not normal.')"
   ]
  },
  {
   "cell_type": "markdown",
   "metadata": {},
   "source": [
    "<span style='color:blue'> <b> Conclusion </b>: At p-value=0.05, the chi-square test for normality fails to reject H0 (i.e., the distribution is normal). </span>"
   ]
  },
  {
   "cell_type": "markdown",
   "metadata": {},
   "source": [
    "<b> 2) Is the sample size large? </b>"
   ]
  },
  {
   "cell_type": "code",
   "execution_count": 53,
   "metadata": {},
   "outputs": [
    {
     "name": "stdout",
     "output_type": "stream",
     "text": [
      "The sample size is: 130\n"
     ]
    }
   ],
   "source": [
    "print('The sample size is:', len(df['temperature']))"
   ]
  },
  {
   "cell_type": "markdown",
   "metadata": {},
   "source": [
    "<span style='color:blue'> <b> ans: </b> Since the sample size is greater than 30, it is generally considered large. </span>"
   ]
  },
  {
   "cell_type": "markdown",
   "metadata": {},
   "source": [
    "Are the observations independent?   \n",
    "<span style='color:blue'> <b> ans: </b> Since each temperature is obtained from a distinct individual, each observation is considered independent. </span>"
   ]
  },
  {
   "cell_type": "markdown",
   "metadata": {},
   "source": [
    "<b> 3) Is the true population mean really 98.6 degrees F? </b>\n",
    "Perform a confidence hypothesis test.\n",
    "\n",
    "<span style='color:blue'> <b> ans: </b> Both t- and z-statistical tests show that the true population mean is not 98.6 deg. F. </span>\n",
    "\n",
    "Would you use a one-sample or two-sample test? Why?\n",
    "\n",
    "<span style='color:blue'> <b> ans: </b> I will use a one-sample test because this scenario involves a single-sample hypothesis testing of its mean against the population mean. </span>"
   ]
  },
  {
   "cell_type": "markdown",
   "metadata": {},
   "source": [
    "<b> In this situation, is it appropriate to use the t or z statistic? </b>   \n",
    "<span style='color:blue'> \n",
    "<b> ans: </b> It is appropriate to use the t-statistic because:* </span> \n",
    "> <span style='color:blue'> \n",
    "> -Population standard deviation ($\\sigma$) is unknown    \n",
    "> -The population is truly normally distributed (see #1 above)  \n",
    "> </span>\n",
    "\n",
    "*ref.: R.W. Weiers, \"Introduction to Business Statistics\", Brooks/Cole Publishing Company, 3rd Ed., 1998., pg. 328."
   ]
  },
  {
   "cell_type": "markdown",
   "metadata": {},
   "source": [
    "(a) t-statistic:  \n",
    "State the null and alternative hypothesis:\n",
    "> H0: The population mean is equal to 98.6 def. F  \n",
    "> Ha: The population mean is not equal to 98.6 def. F \n",
    " "
   ]
  },
  {
   "cell_type": "code",
   "execution_count": 54,
   "metadata": {},
   "outputs": [
    {
     "data": {
      "text/plain": [
       "Ttest_1sampResult(statistic=-5.4548232923645195, pvalue=2.4106320415561276e-07)"
      ]
     },
     "execution_count": 54,
     "metadata": {},
     "output_type": "execute_result"
    }
   ],
   "source": [
    "#Using scipy function to carry out a one-sample t-test:\n",
    "stats.ttest_1samp(df['temperature'],98.6) "
   ]
  },
  {
   "cell_type": "markdown",
   "metadata": {},
   "source": [
    "<span style='color:blue'> <b> ans: </b> The p value is 2.41e-7, which is much less than 0.025 for a two-tail test at alpha=0.05. Therefore, we reject H0. That is, the population mean is not equal to 98.6 deg. F. </span>"
   ]
  },
  {
   "cell_type": "code",
   "execution_count": 55,
   "metadata": {},
   "outputs": [
    {
     "name": "stdout",
     "output_type": "stream",
     "text": [
      "t-value: -5.45\n"
     ]
    }
   ],
   "source": [
    "#We may verify the above calculation by manually calculating t0: \n",
    "t0=(df['temperature'].mean()-98.6)/(df['temperature'].std()/np.sqrt(len(df['temperature'])))\n",
    "print('t-value: %.2f' %(t0))\n"
   ]
  },
  {
   "cell_type": "markdown",
   "metadata": {},
   "source": [
    "<b> validated: </b> The same t-value of -5.45 is obtained."
   ]
  },
  {
   "cell_type": "markdown",
   "metadata": {},
   "source": [
    "<b> Now try using the other test. How is the result be different? Why? </b>"
   ]
  },
  {
   "cell_type": "code",
   "execution_count": 56,
   "metadata": {},
   "outputs": [
    {
     "name": "stdout",
     "output_type": "stream",
     "text": [
      "At a p_value of 0.11, we reject H0 at alpha 0.05. That is, the mean body temperature is different from 98.6 deg. F\n"
     ]
    }
   ],
   "source": [
    "#carrying out the same one sample hypothesis test, but using a z-test:\n",
    "#NOTE: In carrying out a z-statistic, I calculate the mean using the population mean formula (i.e., df=n). This may be a reasonable estimate because n>30. \n",
    "z0=(df['temperature'].mean()-98.6)/(df['temperature'].std()/np.sqrt(len(df['temperature'])))\n",
    "#calculate the p-value\n",
    "p_value=stats.norm.cdf(z0)*2 #multiply the number by two because it is a two-tail test\n",
    "\n",
    "if p_value < 0.05:\n",
    "    print('At a p_value of %.2f, we reject H0 at alpha 0.05. That is, the mean body temperature is different from 98.6 deg. F' %(p_value_samples))\n",
    "else:\n",
    "    print('At a p_value of %.2f, we fail to reject H0 at alpha 0.05. That is, the mean body temperature is equal to 98.6 deg. F' %(p_value_samples))"
   ]
  },
  {
   "cell_type": "markdown",
   "metadata": {},
   "source": [
    "<span style='color:blue'> <b> Conclusion: </b> Since the p-value is less than 0.05, we reject H0. That is, the population mean is not equal to 98.6 deg. F. Hence, the conclusion is the same whether a t-test or a z-test is used. In both cases, very small p-values are obtained. </span>  \n",
    "\n",
    "<span style='color:blue'> Since n is much greater than 30, the sample standard deviation is almost comparable with the population standard deviation. Therefore, both tests yield the same conclusion. </span>"
   ]
  },
  {
   "cell_type": "markdown",
   "metadata": {},
   "source": [
    "<b> 4) Draw a small sample of size 10 from the data and repeat both tests. Which one is the correct one to use? </b>\n",
    "\n",
    "<span style='color:blue'> <b> ans </b>: Assuming that the population is normally distributed, for n >= 30, t-statistic is more appropriate than z-statistic. However, plotting the sample data shows that the distribution of the sample data is not normally distributed (see below). Therefore, distribution-free test (e.g., bootstrap resampling) is actually more appropriate. </span> \n",
    "\n",
    "What do you notice? What does this tell you about the difference in application of the t and z statistic?  \n",
    "\n",
    "<span style='color:blue'>  <b> ans </b>: The population mean and the sample mean are equal (i.e., both yield the same value of 98.2 deg. F). </span> "
   ]
  },
  {
   "cell_type": "code",
   "execution_count": 57,
   "metadata": {},
   "outputs": [
    {
     "data": {
      "image/png": "[encoded data removed]",
      "text/plain": [
       "<matplotlib.figure.Figure at 0x20246c22f28>"
      ]
     },
     "metadata": {},
     "output_type": "display_data"
    }
   ],
   "source": [
    "#randomly select 10 numbers.\n",
    "np.random.seed(12)\n",
    "sample_temperature=np.random.choice(df['temperature'],size=10, replace=True) #select ten samples at random with replacement.\n",
    "\n",
    "plt.hist(sample_temperature, bins=30) #check distribution of sample data \n",
    "plt.xlabel('Temperature, def. F')\n",
    "plt.ylabel('Frequency')\n",
    "plt.show()"
   ]
  },
  {
   "cell_type": "markdown",
   "metadata": {},
   "source": [
    "(a) t-statistic"
   ]
  },
  {
   "cell_type": "code",
   "execution_count": 58,
   "metadata": {},
   "outputs": [
    {
     "name": "stdout",
     "output_type": "stream",
     "text": [
      "[ 98.8  99.2  98.   98.6  97.1  98.7  99.   97.9  97.8  97.6]\n"
     ]
    },
    {
     "data": {
      "text/plain": [
       "Ttest_1sampResult(statistic=-1.5237984185806361, pvalue=0.16189396419359592)"
      ]
     },
     "execution_count": 58,
     "metadata": {},
     "output_type": "execute_result"
    }
   ],
   "source": [
    "print(sample_temperature) #check\n",
    "\n",
    "#Using scipy function to carry out a one-sample t-test:\n",
    "stats.ttest_1samp(sample_temperature,98.6) "
   ]
  },
  {
   "cell_type": "markdown",
   "metadata": {},
   "source": [
    "<span style='color:blue'>  <b> conclusion: </b> Since p-value is greater than 0.05, we fail to reject H0. That is, the mean is equal to 98.6 deg. F. </span>\n",
    "\n",
    "- Here, we see that having a small sample size could lead to a different conclusion. Therefore, it is appealing to carry out bootstrap statistics to see if performing the t-test using a small sample size multiple times will lead to the same result every time."
   ]
  },
  {
   "cell_type": "markdown",
   "metadata": {},
   "source": [
    "(b) z-statistic"
   ]
  },
  {
   "cell_type": "code",
   "execution_count": 59,
   "metadata": {},
   "outputs": [
    {
     "name": "stdout",
     "output_type": "stream",
     "text": [
      "At a p_value of 0.11, we fail to reject H0 at alpha 0.05. That is, the mean body temperature is equal to 98.6 deg. F\n"
     ]
    }
   ],
   "source": [
    "z0_samples=(sample_temperature.mean()-98.6)/(sample_temperature.std()/np.sqrt(len(sample_temperature)))\n",
    "\n",
    "p_value_samples=stats.norm.cdf(z0_samples)*2 #multiply the number by two because it is a two-tail test\n",
    "\n",
    "if p_value_samples < 0.05:\n",
    "    print('At a p_value of %.2f, we reject H0 at alpha 0.05. That is, the mean body temperature is different from 98.6 deg. F' %(p_value_samples))\n",
    "else:\n",
    "    print('At a p_value of %.2f, we fail to reject H0 at alpha 0.05. That is, the mean body temperature is equal to 98.6 deg. F' %(p_value_samples))"
   ]
  },
  {
   "cell_type": "markdown",
   "metadata": {},
   "source": [
    "<b> NOTE: </b> This conclusion is contrary to our previous analysis delineated above that involves n greater than 30.  Indeed, as mentioned above, the fact that the distribution of the sample data consisting of just ten values is not normally distributed it makes it necessary to perform bootstrap resampling to yield a more reliable result (see below).\n",
    "\n",
    "Moreover, this contrary conclusion to the previous analysis is in fact coherent with that conceptulalized by Carl Wunderlich in his famous 1868 book. This implies that Carl may have used insufficient data to perform his analysis."
   ]
  },
  {
   "cell_type": "code",
   "execution_count": 60,
   "metadata": {
    "collapsed": true
   },
   "outputs": [],
   "source": [
    "#Bootstrap functions taken from: Statistical thinking in python by Justin Bois (Datacamp)-Springboard Module 8.1 (Part 1)\n",
    "\n",
    "def draw_bs_reps(data, func, size=1, n=10):\n",
    "    \"\"\"Draw bootstrap replicates m number of times, where m=size. Uses bootstrap replicate_1d() \n",
    "    function to generate the replicates, where n is the number of values selected from the given \n",
    "    array with  replacement\"\"\"\n",
    "    #Return replicates.\n",
    "\n",
    "    # Initialize array of replicates: bs_replicates\n",
    "    bs_replicates = np.empty(size)\n",
    "\n",
    "    # Generate replicates\n",
    "    for i in range(size):\n",
    "        bs_replicates[i] = bootstrap_replicate_1d(data,func,n)\n",
    "\n",
    "    return bs_replicates\n",
    "\n",
    "def bootstrap_replicate_1d(data, func, n):\n",
    "    \"\"\"Generate replicates by randomly selecting n numbers from the given array without eliminating the selected number. \n",
    "    Hence, repeated entries are possible.\"\"\"\n",
    "    \n",
    "    return func(np.random.choice(data, n))\n"
   ]
  },
  {
   "cell_type": "code",
   "execution_count": 61,
   "metadata": {},
   "outputs": [
    {
     "name": "stdout",
     "output_type": "stream",
     "text": [
      "mean of means: 98.25 deg. F\n",
      "mean std. deviation of the bootstrap samples: 0.24 deg. F\n"
     ]
    },
    {
     "data": {
      "image/png": "[encoded data removed]",
      "text/plain": [
       "<matplotlib.figure.Figure at 0x20246970e48>"
      ]
     },
     "metadata": {},
     "output_type": "display_data"
    }
   ],
   "source": [
    "#Use bootstrap functions to calculate mean of n=10 taken at random with replacement one thousand times\n",
    "bs_means=draw_bs_reps(df['temperature'], np.mean, 1000, 10)\n",
    "#print(bs_means) #check\n",
    "\n",
    "#calculate the mean of means\n",
    "print('mean of means: %.2f deg. F' %(np.mean(bs_means)))\n",
    "print('mean std. deviation of the bootstrap samples: %.2f deg. F' %(np.std(bs_means)))\n",
    "\n",
    "#plot out the distribution\n",
    "plt.hist(bs_means, bins=30)\n",
    "\n",
    "plt.xlabel('Mean temperatures (deg. F)')\n",
    "plt.ylabel('Frequency')\n",
    "plt.show()\n"
   ]
  },
  {
   "cell_type": "code",
   "execution_count": 62,
   "metadata": {},
   "outputs": [
    {
     "data": {
      "text/plain": [
       "Ttest_1sampResult(statistic=-47.565958457268721, pvalue=6.4698259064092557e-259)"
      ]
     },
     "execution_count": 62,
     "metadata": {},
     "output_type": "execute_result"
    }
   ],
   "source": [
    "#Note that the above histogram shows an approximately normal distribution of the means.\n",
    "#Using the boostrap mean of means and mean standard deviation, we perform a z-statistic.\n",
    "#In this case, a t-statistic is more appropriate because the population standard deviation is unkown.\n",
    "\n",
    "stats.ttest_1samp(bs_means,98.6) \n"
   ]
  },
  {
   "cell_type": "markdown",
   "metadata": {},
   "source": [
    "<span style='color:blue'> <b> ans: </b> The p value is 5.05e-262, which is much less than 0.025 for a two-tail test at alpha=0.05. Therefore, we reject H0. That is, the population mean is not equal to 98.6 deg. F. This is consistent with the previous conclusion that involved a large sample with n>30. </span>"
   ]
  },
  {
   "cell_type": "markdown",
   "metadata": {},
   "source": [
    "<b> 5) At what temperature should we consider someone's temperature to be \"abnormal\"? </b>\n",
    "Start by computing the margin of error and confidence interval. \n",
    "<span style='color:blue'>  <b> ans: </b> A person's body temperature is considered abnormal if it is below 98.12 deg. F or above 98.38 deg. F. </span>  "
   ]
  },
  {
   "cell_type": "code",
   "execution_count": 63,
   "metadata": {},
   "outputs": [
    {
     "name": "stdout",
     "output_type": "stream",
     "text": [
      "z_critical: 1.96\n",
      "pop mean: 98.25\n",
      "pop std. dev.: 0.73\n",
      "\n",
      "\n",
      "The confidence interval at alpha=0.05 is: (98.12, 98.38) deg. F\n"
     ]
    }
   ],
   "source": [
    "#Calculate a two-tail confidence interval with alpha=0.05\n",
    "z_critical = stats.norm.ppf(q = 0.975)\n",
    "print('z_critical: %.2f' %(z_critical)) #check\n",
    "\n",
    "#calculate sample mean\n",
    "sample_mean=df['temperature'].mean()\n",
    "print('pop mean: %.2f' %(sample_mean)) #check\n",
    "\n",
    "#calculate population standard deviation\n",
    "pop_std = df['temperature'].std()\n",
    "pop_std #check\n",
    "print('pop std. dev.: %.2f' %(pop_std))\n",
    "\n",
    "#calculate margin of error\n",
    "margin_of_error = z_critical * (pop_std/np.sqrt(len(df['temperature'])))\n",
    "\n",
    "#calculate confidence interval\n",
    "confidence_interval = ('(%.2f, %.2f) deg. F' %(sample_mean - margin_of_error, sample_mean + margin_of_error))\n",
    "print('\\n')\n",
    "print('The confidence interval at alpha=0.05 is:', confidence_interval)\n"
   ]
  },
  {
   "cell_type": "markdown",
   "metadata": {},
   "source": [
    "<span style='color:blue'>  <b> Conclusion: </b> Therefore, a person's body temperature is considered abnormal if it is below 98.12 deg. F or above 98.38 deg. F. </span>  "
   ]
  },
  {
   "cell_type": "markdown",
   "metadata": {},
   "source": [
    "<b> 6) Is there a significant difference between males and females in normal temperature? </b>\n",
    "\n",
    "<span style='color:blue'>  <b> ans: </b> Both the descriptive and inferential statistic approaches conclude that the population means are not equal between male and female. <span style='color:blue'>\n",
    "\n",
    "What test did you use and why?   \n",
    "> (a) Descriptive statistic: I use histogram, boxplot, and ecdf to visually see if the distribution of temperature of the two population overlap.  \n",
    "> (b) Inferential statistic: I use independent t-test because the population means are unknown. The populations are approximately normally distributed (see below). Here, I assume that the population standard deviations are unequal.\n",
    "\n",
    "*ref.: R.W. Weiers, \"Introduction to Business Statistics\", Brooks/Cole Publishing Company, 3rd Ed., 1998., pg. 377."
   ]
  },
  {
   "cell_type": "markdown",
   "metadata": {},
   "source": [
    "(a) Descriptive approach"
   ]
  },
  {
   "cell_type": "code",
   "execution_count": 67,
   "metadata": {},
   "outputs": [
    {
     "data": {
      "image/png": "[encoded data removed]",
      "text/plain": [
       "<matplotlib.figure.Figure at 0x20246ae5748>"
      ]
     },
     "metadata": {},
     "output_type": "display_data"
    }
   ],
   "source": [
    "#Generate histograms for each male and female populations\n",
    "\n",
    "#histograms\n",
    "plt.figure(figsize=(15,5))\n",
    "plt.subplot(1,3,1)\n",
    "df.groupby('gender')['temperature'].plot.hist()\n",
    "plt.title('Histograms of body temperature: M vs. F')\n",
    "plt.legend()\n",
    "\n",
    "#boxplots\n",
    "plt.subplot(1,3,2)\n",
    "plt.boxplot([df['temperature'][df['gender']=='M'], df['temperature'][df['gender']=='F']]) \n",
    "plt.xticks([1, 2], ['M', 'F']) #label boxplots accordingly\n",
    "plt.title('Boxplots of body temperature: M vs. F')\n",
    "\n",
    "#ECDF\n",
    "ecdf_male_x,ecdf_male_y=ecdf(df['temperature'][df['gender']=='M'])\n",
    "ecdf_female_x,ecdf_female_y=ecdf(df['temperature'][df['gender']=='F'])\n",
    "\n",
    "plt.subplot(1,3,3)\n",
    "plt.plot(ecdf_male_x,ecdf_male_y, label='M')\n",
    "plt.plot(ecdf_female_x,ecdf_female_y, label='F')        \n",
    "plt.title('ECDF of body temperature: M vs. F')\n",
    "plt.legend()\n",
    "\n",
    "plt.show()\n"
   ]
  },
  {
   "cell_type": "markdown",
   "metadata": {},
   "source": [
    "<span style='color:blue'>  <b> Conclusion </b>: Based on a descriptive statistics, the histograms show that much of the areas don't overlap. The boxplots show that the medians (i.e., the values at a 50th percentile) don't coincide. Finally, the ecdf plot show very little overlap. Therefore, it is concluded that the two distributions are visually different.Also, note that the distribution of female body temperature seems skewed. </span>"
   ]
  },
  {
   "cell_type": "markdown",
   "metadata": {
    "collapsed": true
   },
   "source": [
    "(b) Inferential approach using an independent t-tests to compare two populations with unequal variance.   \n",
    " \n",
    "State the null and alternative hypothesis:\n",
    "> H0: The population means are equal ($\\mu_{1}$=$\\mu_{2}$).  \n",
    "> Ha: The population means are not equal ($\\mu_{1}\\neq\\mu_{2}$). \n",
    " \n",
    "<span style='color:blue'>  <b> ans: </b> Reject H0 at alpha=0.05. The population means are not equal between male and female. <span style='color:blue'>"
   ]
  },
  {
   "cell_type": "code",
   "execution_count": 65,
   "metadata": {},
   "outputs": [
    {
     "data": {
      "text/plain": [
       "Ttest_indResult(statistic=-2.2854345381656112, pvalue=0.023938264182934196)"
      ]
     },
     "execution_count": 65,
     "metadata": {},
     "output_type": "execute_result"
    }
   ],
   "source": [
    "#using scipy\n",
    "stats.ttest_ind(a= df['temperature'][df['gender']=='M'], b=df['temperature'][df['gender']=='F'], equal_var=False) # Assume samples have unequal variance"
   ]
  },
  {
   "cell_type": "markdown",
   "metadata": {},
   "source": [
    "<span style='color:blue'>  <b> conclusion: </b> Reject H0 at alpha=0.05. That is, the population means are not equal between male and female. <span style='color:blue'> "
   ]
  },
  {
   "cell_type": "markdown",
   "metadata": {},
   "source": [
    "<b> Write a story with your conclusion in the context of the original problem. </b>"
   ]
  },
  {
   "cell_type": "markdown",
   "metadata": {},
   "source": [
    "By leaving out the technical details that have already been delineated above, this analysis can be summarized into a short paragraph, which is as follows:\n",
    "\n",
    "### <b> Title: Re-considering the generalized mean normal body temperature </b>\n",
    "\n",
    "In contrary to the famous book that was first conceptualized in 1868 by Carl Wunderlic, statistical analysis concludes that mean normal body temperature is different from 98.6 deg. F. Moreover, the body temperatures are different between male and female. The incorrect conclusion made by carl is most likely due to the use of an insufficient sample size. \n"
   ]
  }
 ],
 "metadata": {
  "kernelspec": {
   "display_name": "Python 3",
   "language": "python",
   "name": "python3"
  },
  "language_info": {
   "codemirror_mode": {
    "name": "ipython",
    "version": 3
   },
   "file_extension": ".py",
   "mimetype": "text/x-python",
   "name": "python",
   "nbconvert_exporter": "python",
   "pygments_lexer": "ipython3",
   "version": "3.5.4"
  }
 },
 "nbformat": 4,
 "nbformat_minor": 1
}
