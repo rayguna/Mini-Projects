{
 "cells": [
  {
   "cell_type": "markdown",
   "metadata": {},
   "source": [
    "## Formatting SQL on jupyter notebook using an html syntax"
   ]
  },
  {
   "cell_type": "markdown",
   "metadata": {},
   "source": [
    "The SQL queries are formatted in a html format using the online instant SQL formatter: http://www.dpriver.com/pp/sqlformat.htm"
   ]
  },
  {
   "cell_type": "markdown",
   "metadata": {},
   "source": [
    "<b> 1. SQL(Markdown) </b>\n",
    "\n",
    "> SELECT *  \n",
    "FROM &nbsp; &nbsp;table "
   ]
  },
  {
   "cell_type": "markdown",
   "metadata": {},
   "source": [
    "<b> 2. SQL(html:span) </b>  \n",
    "<br/>\n",
    "\n",
    "> <div><span style=\"font-family: Courier New; font-size: 10pt;\">\n",
    "<span style=\"color: blue; \">SELECT</span>&nbsp;<span style=\"color: silver; \">*</span>\n",
    "<br/><span style=\"color: blue; \">FROM</span>&nbsp;&nbsp;&nbsp;<span style=\"color: maroon; \">table</span>&nbsp;\n",
    "</span></div>\n"
   ]
  },
  {
   "cell_type": "markdown",
   "metadata": {},
   "source": [
    "<b> 3. SQL(html:font) </b>  \n",
    "<br/>  \n",
    "\n",
    "> <font face=\"Courier New\" size=\"2\">\n",
    "<font color = \"blue\">SELECT</font>&nbsp;<font color = \"silver\">*</font>\n",
    "<br/><font color = \"blue\">FROM</font>&nbsp;&nbsp;&nbsp;<font color = \"maroon\">table</font>&nbsp;\n",
    "</font>"
   ]
  },
  {
   "cell_type": "markdown",
   "metadata": {},
   "source": [
    "The native Markdown syntax obviously worked. The more visually pleasing SQL(html:span) formatted SQL query worked as well. However, the SQL(html:font) formatted SQL query is not displayed on Github.     "
   ]
  }
 ],
 "metadata": {
  "anaconda-cloud": {},
  "kernelspec": {
   "display_name": "Python 3",
   "language": "python",
   "name": "python3"
  },
  "language_info": {
   "codemirror_mode": {
    "name": "ipython",
    "version": 3
   },
   "file_extension": ".py",
   "mimetype": "text/x-python",
   "name": "python",
   "nbconvert_exporter": "python",
   "pygments_lexer": "ipython3",
   "version": "3.5.4"
  }
 },
 "nbformat": 4,
 "nbformat_minor": 1
}
